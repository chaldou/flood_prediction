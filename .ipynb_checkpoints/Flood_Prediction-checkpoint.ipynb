{
 "cells": [
  {
   "cell_type": "markdown",
   "metadata": {},
   "source": [
    "# Flood Prediction Machine Learning Model "
   ]
  },
  {
   "cell_type": "code",
   "execution_count": 7,
   "metadata": {},
   "outputs": [],
   "source": [
    "# This Machine Learning Model uses 5 Machine Learning Algorithms namely KNN Classification, Logistic Regression[LR], Support \n",
    "# Vector[SVM], Decision Tree[DT] and Random Forest[RF] to get the best possible model to predict the floods using Douala Rainfall Data."
   ]
  },
  {
   "cell_type": "code",
   "execution_count": 8,
   "metadata": {},
   "outputs": [
    {
     "ename": "FileNotFoundError",
     "evalue": "[WinError 3] Le chemin d’accès spécifié est introuvable: 'C:\\\\Users\\\\SHADO\\\\OneDrive\\\\Bureau\\\\Flood-Prediction-Model-master'",
     "output_type": "error",
     "traceback": [
      "\u001b[1;31m---------------------------------------------------------------------------\u001b[0m",
      "\u001b[1;31mFileNotFoundError\u001b[0m                         Traceback (most recent call last)",
      "\u001b[1;32m<ipython-input-8-6315d6b55715>\u001b[0m in \u001b[0;36m<module>\u001b[1;34m\u001b[0m\n\u001b[0;32m      1\u001b[0m \u001b[1;31m# It will list the files in the input directory.\u001b[0m\u001b[1;33m\u001b[0m\u001b[1;33m\u001b[0m\u001b[1;33m\u001b[0m\u001b[0m\n\u001b[0;32m      2\u001b[0m \u001b[1;32mimport\u001b[0m \u001b[0mos\u001b[0m\u001b[1;33m\u001b[0m\u001b[1;33m\u001b[0m\u001b[0m\n\u001b[1;32m----> 3\u001b[1;33m \u001b[0mprint\u001b[0m\u001b[1;33m(\u001b[0m\u001b[0mos\u001b[0m\u001b[1;33m.\u001b[0m\u001b[0mlistdir\u001b[0m\u001b[1;33m(\u001b[0m\u001b[1;34mr\"C:\\Users\\SHADO\\OneDrive\\Bureau\\Flood-Prediction-Model-master\"\u001b[0m\u001b[1;33m)\u001b[0m\u001b[1;33m)\u001b[0m  \u001b[1;31m# Name of the project Directory\u001b[0m\u001b[1;33m\u001b[0m\u001b[1;33m\u001b[0m\u001b[0m\n\u001b[0m",
      "\u001b[1;31mFileNotFoundError\u001b[0m: [WinError 3] Le chemin d’accès spécifié est introuvable: 'C:\\\\Users\\\\SHADO\\\\OneDrive\\\\Bureau\\\\Flood-Prediction-Model-master'"
     ]
    }
   ],
   "source": [
    "# It will list the files in the input directory.\n",
    "import os\n",
    "print(os.listdir(r\"C:\\Users\\SHADO\\flood_prediction\"))  # Name of the project Directory"
   ]
  },
  {
   "cell_type": "code",
   "execution_count": 3,
   "metadata": {},
   "outputs": [],
   "source": [
    "# Ignoring Warnings.\n",
    "import warnings\n",
    "warnings.filterwarnings('ignore')"
   ]
  },
  {
   "cell_type": "code",
   "execution_count": 4,
   "metadata": {
    "scrolled": true
   },
   "outputs": [
    {
     "ename": "FileNotFoundError",
     "evalue": "[WinError 2] Le fichier spécifié est introuvable: 'C:\\\\Users\\\\SHADO\\\\OneDrive\\\\Bureau\\\\Flood-Prediction-Model-master'",
     "output_type": "error",
     "traceback": [
      "\u001b[1;31m---------------------------------------------------------------------------\u001b[0m",
      "\u001b[1;31mFileNotFoundError\u001b[0m                         Traceback (most recent call last)",
      "\u001b[1;32m<ipython-input-4-04aa7da07520>\u001b[0m in \u001b[0;36m<module>\u001b[1;34m\u001b[0m\n\u001b[0;32m      1\u001b[0m \u001b[1;31m# Directory where our Dataset is stored for processing in the ML Model.\u001b[0m\u001b[1;33m\u001b[0m\u001b[1;33m\u001b[0m\u001b[1;33m\u001b[0m\u001b[0m\n\u001b[1;32m----> 2\u001b[1;33m \u001b[0mos\u001b[0m\u001b[1;33m.\u001b[0m\u001b[0mchdir\u001b[0m\u001b[1;33m(\u001b[0m\u001b[1;34mr\"C:\\Users\\SHADO\\OneDrive\\Bureau\\Flood-Prediction-Model-master\"\u001b[0m\u001b[1;33m)\u001b[0m \u001b[1;31m# Path of our Project Folder\u001b[0m\u001b[1;33m\u001b[0m\u001b[1;33m\u001b[0m\u001b[0m\n\u001b[0m\u001b[0;32m      3\u001b[0m \u001b[0mos\u001b[0m\u001b[1;33m.\u001b[0m\u001b[0mgetcwd\u001b[0m\u001b[1;33m(\u001b[0m\u001b[1;33m)\u001b[0m\u001b[1;33m\u001b[0m\u001b[1;33m\u001b[0m\u001b[0m\n",
      "\u001b[1;31mFileNotFoundError\u001b[0m: [WinError 2] Le fichier spécifié est introuvable: 'C:\\\\Users\\\\SHADO\\\\OneDrive\\\\Bureau\\\\Flood-Prediction-Model-master'"
     ]
    }
   ],
   "source": [
    "# Directory where our Dataset is stored for processing in the ML Model.\n",
    "os.chdir(r\"C:\\Users\\SHADO\\flood_prediction\") # Path of our Project Folder\n",
    "os.getcwd()"
   ]
  },
  {
   "cell_type": "markdown",
   "metadata": {},
   "source": [
    "## Data Insights"
   ]
  },
  {
   "cell_type": "markdown",
   "metadata": {},
   "source": [
    "#### Importing Required Libraries."
   ]
  },
  {
   "cell_type": "code",
   "execution_count": 76,
   "metadata": {},
   "outputs": [
    {
     "name": "stdout",
     "output_type": "stream",
     "text": [
      "    SUBDIVISION  YEAR   JAN   FEB   MAR    APR    MAY    JUN     JUL     AUG  \\\n",
      "0        DOUALA  1915  16.9  23.5  42.7  106.0  154.5  696.1   775.6   298.8   \n",
      "1        DOUALA  1916   0.0   7.8  22.0   82.4  199.0  920.2   513.9   396.9   \n",
      "2        DOUALA  1917   2.9  47.6  79.4   38.1  122.9  703.7   342.7   335.1   \n",
      "3        DOUALA  1918  42.9   5.0  32.8   51.3  683.0  464.3   167.5   376.0   \n",
      "4        DOUALA  1919  43.0   6.1  33.9   65.9  247.0  636.8   648.0   484.2   \n",
      "..          ...   ...   ...   ...   ...    ...    ...    ...     ...     ...   \n",
      "99       DOUALA  2014   4.6  10.3  17.9   95.7  251.0  454.4   677.8   733.9   \n",
      "100      DOUALA  2015   3.1   5.8  50.1  214.1  201.8  563.6   406.0   252.2   \n",
      "101      DOUALA  2016   2.4   3.8  35.9  143.0  186.4  522.2   412.3   325.5   \n",
      "102     DOUALA   2017   1.9   6.8   8.9   43.6  173.5  498.5   319.6   531.8   \n",
      "103      DOUALA  2018  29.1  52.1  48.6  116.4  183.8  625.4  1048.5  1398.9   \n",
      "\n",
      "       SEP    OCT    NOV   DEC   ANNUAL RAINFALL FLOODS  \n",
      "0    396.6  196.6  302.5  14.9            3024.5    YES  \n",
      "1    339.3  320.7  134.3   8.9            2945.3    YES  \n",
      "2    470.3  264.1  256.4  41.6            2704.8     NO  \n",
      "3     96.4  233.2  295.4  54.1            2501.9     NO  \n",
      "4    255.9  249.2  280.1  53.0            3003.3    YES  \n",
      "..     ...    ...    ...   ...               ...    ...  \n",
      "99   298.8  355.5   99.5  47.2            3046.4    YES  \n",
      "100  292.9  308.1  223.6  79.4            2600.6     NO  \n",
      "101  173.2  225.9  125.4  23.6            2176.6     NO  \n",
      "102  209.5  192.4   92.5  38.1            2117.1     NO  \n",
      "103  423.6  356.1  125.4  65.1            4473.0    YES  \n",
      "\n",
      "[104 rows x 16 columns]\n"
     ]
    }
   ],
   "source": [
    "import numpy as np # linear algebra\n",
    "import pandas as pd # data processing, CSV file I/O (e.g. pd.read_csv)\n",
    "data = pd.read_csv('Douala.csv')\n",
    "print(data)"
   ]
  },
  {
   "cell_type": "code",
   "execution_count": 77,
   "metadata": {
    "scrolled": true
   },
   "outputs": [
    {
     "data": {
      "text/html": [
       "<div>\n",
       "<style scoped>\n",
       "    .dataframe tbody tr th:only-of-type {\n",
       "        vertical-align: middle;\n",
       "    }\n",
       "\n",
       "    .dataframe tbody tr th {\n",
       "        vertical-align: top;\n",
       "    }\n",
       "\n",
       "    .dataframe thead th {\n",
       "        text-align: right;\n",
       "    }\n",
       "</style>\n",
       "<table border=\"1\" class=\"dataframe\">\n",
       "  <thead>\n",
       "    <tr style=\"text-align: right;\">\n",
       "      <th></th>\n",
       "      <th>SUBDIVISION</th>\n",
       "      <th>YEAR</th>\n",
       "      <th>JAN</th>\n",
       "      <th>FEB</th>\n",
       "      <th>MAR</th>\n",
       "      <th>APR</th>\n",
       "      <th>MAY</th>\n",
       "      <th>JUN</th>\n",
       "      <th>JUL</th>\n",
       "      <th>AUG</th>\n",
       "      <th>SEP</th>\n",
       "      <th>OCT</th>\n",
       "      <th>NOV</th>\n",
       "      <th>DEC</th>\n",
       "      <th>ANNUAL RAINFALL</th>\n",
       "      <th>FLOODS</th>\n",
       "    </tr>\n",
       "  </thead>\n",
       "  <tbody>\n",
       "    <tr>\n",
       "      <th>0</th>\n",
       "      <td>DOUALA</td>\n",
       "      <td>1915</td>\n",
       "      <td>16.9</td>\n",
       "      <td>23.5</td>\n",
       "      <td>42.7</td>\n",
       "      <td>106.0</td>\n",
       "      <td>154.5</td>\n",
       "      <td>696.1</td>\n",
       "      <td>775.6</td>\n",
       "      <td>298.8</td>\n",
       "      <td>396.6</td>\n",
       "      <td>196.6</td>\n",
       "      <td>302.5</td>\n",
       "      <td>14.9</td>\n",
       "      <td>3024.5</td>\n",
       "      <td>YES</td>\n",
       "    </tr>\n",
       "    <tr>\n",
       "      <th>1</th>\n",
       "      <td>DOUALA</td>\n",
       "      <td>1916</td>\n",
       "      <td>0.0</td>\n",
       "      <td>7.8</td>\n",
       "      <td>22.0</td>\n",
       "      <td>82.4</td>\n",
       "      <td>199.0</td>\n",
       "      <td>920.2</td>\n",
       "      <td>513.9</td>\n",
       "      <td>396.9</td>\n",
       "      <td>339.3</td>\n",
       "      <td>320.7</td>\n",
       "      <td>134.3</td>\n",
       "      <td>8.9</td>\n",
       "      <td>2945.3</td>\n",
       "      <td>YES</td>\n",
       "    </tr>\n",
       "    <tr>\n",
       "      <th>2</th>\n",
       "      <td>DOUALA</td>\n",
       "      <td>1917</td>\n",
       "      <td>2.9</td>\n",
       "      <td>47.6</td>\n",
       "      <td>79.4</td>\n",
       "      <td>38.1</td>\n",
       "      <td>122.9</td>\n",
       "      <td>703.7</td>\n",
       "      <td>342.7</td>\n",
       "      <td>335.1</td>\n",
       "      <td>470.3</td>\n",
       "      <td>264.1</td>\n",
       "      <td>256.4</td>\n",
       "      <td>41.6</td>\n",
       "      <td>2704.8</td>\n",
       "      <td>NO</td>\n",
       "    </tr>\n",
       "    <tr>\n",
       "      <th>3</th>\n",
       "      <td>DOUALA</td>\n",
       "      <td>1918</td>\n",
       "      <td>42.9</td>\n",
       "      <td>5.0</td>\n",
       "      <td>32.8</td>\n",
       "      <td>51.3</td>\n",
       "      <td>683.0</td>\n",
       "      <td>464.3</td>\n",
       "      <td>167.5</td>\n",
       "      <td>376.0</td>\n",
       "      <td>96.4</td>\n",
       "      <td>233.2</td>\n",
       "      <td>295.4</td>\n",
       "      <td>54.1</td>\n",
       "      <td>2501.9</td>\n",
       "      <td>NO</td>\n",
       "    </tr>\n",
       "    <tr>\n",
       "      <th>4</th>\n",
       "      <td>DOUALA</td>\n",
       "      <td>1919</td>\n",
       "      <td>43.0</td>\n",
       "      <td>6.1</td>\n",
       "      <td>33.9</td>\n",
       "      <td>65.9</td>\n",
       "      <td>247.0</td>\n",
       "      <td>636.8</td>\n",
       "      <td>648.0</td>\n",
       "      <td>484.2</td>\n",
       "      <td>255.9</td>\n",
       "      <td>249.2</td>\n",
       "      <td>280.1</td>\n",
       "      <td>53.0</td>\n",
       "      <td>3003.3</td>\n",
       "      <td>YES</td>\n",
       "    </tr>\n",
       "  </tbody>\n",
       "</table>\n",
       "</div>"
      ],
      "text/plain": [
       "  SUBDIVISION  YEAR   JAN   FEB   MAR    APR    MAY    JUN    JUL    AUG  \\\n",
       "0      DOUALA  1915  16.9  23.5  42.7  106.0  154.5  696.1  775.6  298.8   \n",
       "1      DOUALA  1916   0.0   7.8  22.0   82.4  199.0  920.2  513.9  396.9   \n",
       "2      DOUALA  1917   2.9  47.6  79.4   38.1  122.9  703.7  342.7  335.1   \n",
       "3      DOUALA  1918  42.9   5.0  32.8   51.3  683.0  464.3  167.5  376.0   \n",
       "4      DOUALA  1919  43.0   6.1  33.9   65.9  247.0  636.8  648.0  484.2   \n",
       "\n",
       "     SEP    OCT    NOV   DEC   ANNUAL RAINFALL FLOODS  \n",
       "0  396.6  196.6  302.5  14.9            3024.5    YES  \n",
       "1  339.3  320.7  134.3   8.9            2945.3    YES  \n",
       "2  470.3  264.1  256.4  41.6            2704.8     NO  \n",
       "3   96.4  233.2  295.4  54.1            2501.9     NO  \n",
       "4  255.9  249.2  280.1  53.0            3003.3    YES  "
      ]
     },
     "execution_count": 77,
     "metadata": {},
     "output_type": "execute_result"
    }
   ],
   "source": [
    "data.head()"
   ]
  },
  {
   "cell_type": "code",
   "execution_count": 78,
   "metadata": {
    "scrolled": true
   },
   "outputs": [
    {
     "data": {
      "text/html": [
       "<div>\n",
       "<style scoped>\n",
       "    .dataframe tbody tr th:only-of-type {\n",
       "        vertical-align: middle;\n",
       "    }\n",
       "\n",
       "    .dataframe tbody tr th {\n",
       "        vertical-align: top;\n",
       "    }\n",
       "\n",
       "    .dataframe thead th {\n",
       "        text-align: right;\n",
       "    }\n",
       "</style>\n",
       "<table border=\"1\" class=\"dataframe\">\n",
       "  <thead>\n",
       "    <tr style=\"text-align: right;\">\n",
       "      <th></th>\n",
       "      <th>SUBDIVISION</th>\n",
       "      <th>YEAR</th>\n",
       "      <th>JAN</th>\n",
       "      <th>FEB</th>\n",
       "      <th>MAR</th>\n",
       "      <th>APR</th>\n",
       "      <th>MAY</th>\n",
       "      <th>JUN</th>\n",
       "      <th>JUL</th>\n",
       "      <th>AUG</th>\n",
       "      <th>SEP</th>\n",
       "      <th>OCT</th>\n",
       "      <th>NOV</th>\n",
       "      <th>DEC</th>\n",
       "      <th>ANNUAL RAINFALL</th>\n",
       "      <th>FLOODS</th>\n",
       "    </tr>\n",
       "  </thead>\n",
       "  <tbody>\n",
       "    <tr>\n",
       "      <th>99</th>\n",
       "      <td>DOUALA</td>\n",
       "      <td>2014</td>\n",
       "      <td>4.6</td>\n",
       "      <td>10.3</td>\n",
       "      <td>17.9</td>\n",
       "      <td>95.7</td>\n",
       "      <td>251.0</td>\n",
       "      <td>454.4</td>\n",
       "      <td>677.8</td>\n",
       "      <td>733.9</td>\n",
       "      <td>298.8</td>\n",
       "      <td>355.5</td>\n",
       "      <td>99.5</td>\n",
       "      <td>47.2</td>\n",
       "      <td>3046.4</td>\n",
       "      <td>YES</td>\n",
       "    </tr>\n",
       "    <tr>\n",
       "      <th>100</th>\n",
       "      <td>DOUALA</td>\n",
       "      <td>2015</td>\n",
       "      <td>3.1</td>\n",
       "      <td>5.8</td>\n",
       "      <td>50.1</td>\n",
       "      <td>214.1</td>\n",
       "      <td>201.8</td>\n",
       "      <td>563.6</td>\n",
       "      <td>406.0</td>\n",
       "      <td>252.2</td>\n",
       "      <td>292.9</td>\n",
       "      <td>308.1</td>\n",
       "      <td>223.6</td>\n",
       "      <td>79.4</td>\n",
       "      <td>2600.6</td>\n",
       "      <td>NO</td>\n",
       "    </tr>\n",
       "    <tr>\n",
       "      <th>101</th>\n",
       "      <td>DOUALA</td>\n",
       "      <td>2016</td>\n",
       "      <td>2.4</td>\n",
       "      <td>3.8</td>\n",
       "      <td>35.9</td>\n",
       "      <td>143.0</td>\n",
       "      <td>186.4</td>\n",
       "      <td>522.2</td>\n",
       "      <td>412.3</td>\n",
       "      <td>325.5</td>\n",
       "      <td>173.2</td>\n",
       "      <td>225.9</td>\n",
       "      <td>125.4</td>\n",
       "      <td>23.6</td>\n",
       "      <td>2176.6</td>\n",
       "      <td>NO</td>\n",
       "    </tr>\n",
       "    <tr>\n",
       "      <th>102</th>\n",
       "      <td>DOUALA</td>\n",
       "      <td>2017</td>\n",
       "      <td>1.9</td>\n",
       "      <td>6.8</td>\n",
       "      <td>8.9</td>\n",
       "      <td>43.6</td>\n",
       "      <td>173.5</td>\n",
       "      <td>498.5</td>\n",
       "      <td>319.6</td>\n",
       "      <td>531.8</td>\n",
       "      <td>209.5</td>\n",
       "      <td>192.4</td>\n",
       "      <td>92.5</td>\n",
       "      <td>38.1</td>\n",
       "      <td>2117.1</td>\n",
       "      <td>NO</td>\n",
       "    </tr>\n",
       "    <tr>\n",
       "      <th>103</th>\n",
       "      <td>DOUALA</td>\n",
       "      <td>2018</td>\n",
       "      <td>29.1</td>\n",
       "      <td>52.1</td>\n",
       "      <td>48.6</td>\n",
       "      <td>116.4</td>\n",
       "      <td>183.8</td>\n",
       "      <td>625.4</td>\n",
       "      <td>1048.5</td>\n",
       "      <td>1398.9</td>\n",
       "      <td>423.6</td>\n",
       "      <td>356.1</td>\n",
       "      <td>125.4</td>\n",
       "      <td>65.1</td>\n",
       "      <td>4473.0</td>\n",
       "      <td>YES</td>\n",
       "    </tr>\n",
       "  </tbody>\n",
       "</table>\n",
       "</div>"
      ],
      "text/plain": [
       "    SUBDIVISION  YEAR   JAN   FEB   MAR    APR    MAY    JUN     JUL     AUG  \\\n",
       "99       DOUALA  2014   4.6  10.3  17.9   95.7  251.0  454.4   677.8   733.9   \n",
       "100      DOUALA  2015   3.1   5.8  50.1  214.1  201.8  563.6   406.0   252.2   \n",
       "101      DOUALA  2016   2.4   3.8  35.9  143.0  186.4  522.2   412.3   325.5   \n",
       "102     DOUALA   2017   1.9   6.8   8.9   43.6  173.5  498.5   319.6   531.8   \n",
       "103      DOUALA  2018  29.1  52.1  48.6  116.4  183.8  625.4  1048.5  1398.9   \n",
       "\n",
       "       SEP    OCT    NOV   DEC   ANNUAL RAINFALL FLOODS  \n",
       "99   298.8  355.5   99.5  47.2            3046.4    YES  \n",
       "100  292.9  308.1  223.6  79.4            2600.6     NO  \n",
       "101  173.2  225.9  125.4  23.6            2176.6     NO  \n",
       "102  209.5  192.4   92.5  38.1            2117.1     NO  \n",
       "103  423.6  356.1  125.4  65.1            4473.0    YES  "
      ]
     },
     "execution_count": 78,
     "metadata": {},
     "output_type": "execute_result"
    }
   ],
   "source": [
    "data.tail()"
   ]
  },
  {
   "cell_type": "markdown",
   "metadata": {},
   "source": [
    "# Finding number of missing values"
   ]
  },
  {
   "cell_type": "code",
   "execution_count": 79,
   "metadata": {},
   "outputs": [
    {
     "data": {
      "text/plain": [
       "SUBDIVISION         0\n",
       "YEAR                0\n",
       "JAN                 0\n",
       "FEB                 0\n",
       "MAR                 0\n",
       "APR                 0\n",
       "MAY                 0\n",
       "JUN                 0\n",
       "JUL                 0\n",
       "AUG                 0\n",
       "SEP                 0\n",
       "OCT                 0\n",
       "NOV                 0\n",
       "DEC                 0\n",
       " ANNUAL RAINFALL    0\n",
       "FLOODS              0\n",
       "dtype: int64"
      ]
     },
     "execution_count": 79,
     "metadata": {},
     "output_type": "execute_result"
    }
   ],
   "source": [
    "data.isnull().sum()  # cheaking if any colomns is left empty or not."
   ]
  },
  {
   "cell_type": "markdown",
   "metadata": {},
   "source": [
    "# Analyzing the Dataset"
   ]
  },
  {
   "cell_type": "code",
   "execution_count": 80,
   "metadata": {},
   "outputs": [
    {
     "name": "stdout",
     "output_type": "stream",
     "text": [
      "(104, 16)\n"
     ]
    }
   ],
   "source": [
    "print(data.shape)"
   ]
  },
  {
   "cell_type": "code",
   "execution_count": 81,
   "metadata": {},
   "outputs": [
    {
     "data": {
      "text/html": [
       "<div>\n",
       "<style scoped>\n",
       "    .dataframe tbody tr th:only-of-type {\n",
       "        vertical-align: middle;\n",
       "    }\n",
       "\n",
       "    .dataframe tbody tr th {\n",
       "        vertical-align: top;\n",
       "    }\n",
       "\n",
       "    .dataframe thead th {\n",
       "        text-align: right;\n",
       "    }\n",
       "</style>\n",
       "<table border=\"1\" class=\"dataframe\">\n",
       "  <thead>\n",
       "    <tr style=\"text-align: right;\">\n",
       "      <th></th>\n",
       "      <th>YEAR</th>\n",
       "      <th>JAN</th>\n",
       "      <th>FEB</th>\n",
       "      <th>MAR</th>\n",
       "      <th>APR</th>\n",
       "      <th>MAY</th>\n",
       "      <th>JUN</th>\n",
       "      <th>JUL</th>\n",
       "      <th>AUG</th>\n",
       "      <th>SEP</th>\n",
       "      <th>OCT</th>\n",
       "      <th>NOV</th>\n",
       "      <th>DEC</th>\n",
       "      <th>ANNUAL RAINFALL</th>\n",
       "    </tr>\n",
       "  </thead>\n",
       "  <tbody>\n",
       "    <tr>\n",
       "      <th>count</th>\n",
       "      <td>104.000000</td>\n",
       "      <td>104.000000</td>\n",
       "      <td>104.000000</td>\n",
       "      <td>104.000000</td>\n",
       "      <td>104.000000</td>\n",
       "      <td>104.000000</td>\n",
       "      <td>104.000000</td>\n",
       "      <td>104.000000</td>\n",
       "      <td>104.000000</td>\n",
       "      <td>104.000000</td>\n",
       "      <td>104.000000</td>\n",
       "      <td>104.000000</td>\n",
       "      <td>104.000000</td>\n",
       "      <td>104.000000</td>\n",
       "    </tr>\n",
       "    <tr>\n",
       "      <th>mean</th>\n",
       "      <td>1966.500000</td>\n",
       "      <td>12.108654</td>\n",
       "      <td>15.882692</td>\n",
       "      <td>37.662500</td>\n",
       "      <td>112.313462</td>\n",
       "      <td>232.062500</td>\n",
       "      <td>643.847115</td>\n",
       "      <td>683.947115</td>\n",
       "      <td>434.358654</td>\n",
       "      <td>249.908654</td>\n",
       "      <td>288.032692</td>\n",
       "      <td>163.475962</td>\n",
       "      <td>38.614423</td>\n",
       "      <td>2912.173077</td>\n",
       "    </tr>\n",
       "    <tr>\n",
       "      <th>std</th>\n",
       "      <td>30.166206</td>\n",
       "      <td>15.533710</td>\n",
       "      <td>16.956486</td>\n",
       "      <td>31.104429</td>\n",
       "      <td>45.108913</td>\n",
       "      <td>153.617283</td>\n",
       "      <td>181.807644</td>\n",
       "      <td>231.196783</td>\n",
       "      <td>181.138504</td>\n",
       "      <td>124.302847</td>\n",
       "      <td>95.423362</td>\n",
       "      <td>83.159157</td>\n",
       "      <td>35.624791</td>\n",
       "      <td>465.566464</td>\n",
       "    </tr>\n",
       "    <tr>\n",
       "      <th>min</th>\n",
       "      <td>1915.000000</td>\n",
       "      <td>0.000000</td>\n",
       "      <td>0.000000</td>\n",
       "      <td>0.100000</td>\n",
       "      <td>13.100000</td>\n",
       "      <td>53.400000</td>\n",
       "      <td>196.800000</td>\n",
       "      <td>167.500000</td>\n",
       "      <td>183.300000</td>\n",
       "      <td>41.300000</td>\n",
       "      <td>68.500000</td>\n",
       "      <td>31.500000</td>\n",
       "      <td>0.100000</td>\n",
       "      <td>2068.800000</td>\n",
       "    </tr>\n",
       "    <tr>\n",
       "      <th>25%</th>\n",
       "      <td>1940.750000</td>\n",
       "      <td>2.050000</td>\n",
       "      <td>4.675000</td>\n",
       "      <td>18.400000</td>\n",
       "      <td>75.400000</td>\n",
       "      <td>122.150000</td>\n",
       "      <td>527.000000</td>\n",
       "      <td>527.950000</td>\n",
       "      <td>320.325000</td>\n",
       "      <td>153.775000</td>\n",
       "      <td>219.850000</td>\n",
       "      <td>92.800000</td>\n",
       "      <td>10.175000</td>\n",
       "      <td>2563.050000</td>\n",
       "    </tr>\n",
       "    <tr>\n",
       "      <th>50%</th>\n",
       "      <td>1966.500000</td>\n",
       "      <td>5.800000</td>\n",
       "      <td>8.350000</td>\n",
       "      <td>28.550000</td>\n",
       "      <td>112.600000</td>\n",
       "      <td>185.900000</td>\n",
       "      <td>623.100000</td>\n",
       "      <td>670.500000</td>\n",
       "      <td>391.950000</td>\n",
       "      <td>238.250000</td>\n",
       "      <td>279.200000</td>\n",
       "      <td>152.450000</td>\n",
       "      <td>30.850000</td>\n",
       "      <td>2934.300000</td>\n",
       "    </tr>\n",
       "    <tr>\n",
       "      <th>75%</th>\n",
       "      <td>1992.250000</td>\n",
       "      <td>16.600000</td>\n",
       "      <td>21.700000</td>\n",
       "      <td>49.675000</td>\n",
       "      <td>138.600000</td>\n",
       "      <td>296.800000</td>\n",
       "      <td>776.175000</td>\n",
       "      <td>829.150000</td>\n",
       "      <td>508.100000</td>\n",
       "      <td>340.150000</td>\n",
       "      <td>350.675000</td>\n",
       "      <td>221.175000</td>\n",
       "      <td>53.200000</td>\n",
       "      <td>3147.825000</td>\n",
       "    </tr>\n",
       "    <tr>\n",
       "      <th>max</th>\n",
       "      <td>2018.000000</td>\n",
       "      <td>83.500000</td>\n",
       "      <td>79.000000</td>\n",
       "      <td>217.200000</td>\n",
       "      <td>238.000000</td>\n",
       "      <td>738.800000</td>\n",
       "      <td>1096.100000</td>\n",
       "      <td>1526.500000</td>\n",
       "      <td>1398.900000</td>\n",
       "      <td>526.700000</td>\n",
       "      <td>567.900000</td>\n",
       "      <td>365.600000</td>\n",
       "      <td>202.300000</td>\n",
       "      <td>4473.000000</td>\n",
       "    </tr>\n",
       "  </tbody>\n",
       "</table>\n",
       "</div>"
      ],
      "text/plain": [
       "              YEAR         JAN         FEB         MAR         APR  \\\n",
       "count   104.000000  104.000000  104.000000  104.000000  104.000000   \n",
       "mean   1966.500000   12.108654   15.882692   37.662500  112.313462   \n",
       "std      30.166206   15.533710   16.956486   31.104429   45.108913   \n",
       "min    1915.000000    0.000000    0.000000    0.100000   13.100000   \n",
       "25%    1940.750000    2.050000    4.675000   18.400000   75.400000   \n",
       "50%    1966.500000    5.800000    8.350000   28.550000  112.600000   \n",
       "75%    1992.250000   16.600000   21.700000   49.675000  138.600000   \n",
       "max    2018.000000   83.500000   79.000000  217.200000  238.000000   \n",
       "\n",
       "              MAY          JUN          JUL          AUG         SEP  \\\n",
       "count  104.000000   104.000000   104.000000   104.000000  104.000000   \n",
       "mean   232.062500   643.847115   683.947115   434.358654  249.908654   \n",
       "std    153.617283   181.807644   231.196783   181.138504  124.302847   \n",
       "min     53.400000   196.800000   167.500000   183.300000   41.300000   \n",
       "25%    122.150000   527.000000   527.950000   320.325000  153.775000   \n",
       "50%    185.900000   623.100000   670.500000   391.950000  238.250000   \n",
       "75%    296.800000   776.175000   829.150000   508.100000  340.150000   \n",
       "max    738.800000  1096.100000  1526.500000  1398.900000  526.700000   \n",
       "\n",
       "              OCT         NOV         DEC   ANNUAL RAINFALL  \n",
       "count  104.000000  104.000000  104.000000        104.000000  \n",
       "mean   288.032692  163.475962   38.614423       2912.173077  \n",
       "std     95.423362   83.159157   35.624791        465.566464  \n",
       "min     68.500000   31.500000    0.100000       2068.800000  \n",
       "25%    219.850000   92.800000   10.175000       2563.050000  \n",
       "50%    279.200000  152.450000   30.850000       2934.300000  \n",
       "75%    350.675000  221.175000   53.200000       3147.825000  \n",
       "max    567.900000  365.600000  202.300000       4473.000000  "
      ]
     },
     "execution_count": 81,
     "metadata": {},
     "output_type": "execute_result"
    }
   ],
   "source": [
    "data.describe()"
   ]
  },
  {
   "cell_type": "code",
   "execution_count": 82,
   "metadata": {},
   "outputs": [
    {
     "data": {
      "text/plain": [
       "<bound method DataFrame.info of     SUBDIVISION  YEAR   JAN   FEB   MAR    APR    MAY    JUN     JUL     AUG  \\\n",
       "0        DOUALA  1915  16.9  23.5  42.7  106.0  154.5  696.1   775.6   298.8   \n",
       "1        DOUALA  1916   0.0   7.8  22.0   82.4  199.0  920.2   513.9   396.9   \n",
       "2        DOUALA  1917   2.9  47.6  79.4   38.1  122.9  703.7   342.7   335.1   \n",
       "3        DOUALA  1918  42.9   5.0  32.8   51.3  683.0  464.3   167.5   376.0   \n",
       "4        DOUALA  1919  43.0   6.1  33.9   65.9  247.0  636.8   648.0   484.2   \n",
       "..          ...   ...   ...   ...   ...    ...    ...    ...     ...     ...   \n",
       "99       DOUALA  2014   4.6  10.3  17.9   95.7  251.0  454.4   677.8   733.9   \n",
       "100      DOUALA  2015   3.1   5.8  50.1  214.1  201.8  563.6   406.0   252.2   \n",
       "101      DOUALA  2016   2.4   3.8  35.9  143.0  186.4  522.2   412.3   325.5   \n",
       "102     DOUALA   2017   1.9   6.8   8.9   43.6  173.5  498.5   319.6   531.8   \n",
       "103      DOUALA  2018  29.1  52.1  48.6  116.4  183.8  625.4  1048.5  1398.9   \n",
       "\n",
       "       SEP    OCT    NOV   DEC   ANNUAL RAINFALL FLOODS  \n",
       "0    396.6  196.6  302.5  14.9            3024.5    YES  \n",
       "1    339.3  320.7  134.3   8.9            2945.3    YES  \n",
       "2    470.3  264.1  256.4  41.6            2704.8     NO  \n",
       "3     96.4  233.2  295.4  54.1            2501.9     NO  \n",
       "4    255.9  249.2  280.1  53.0            3003.3    YES  \n",
       "..     ...    ...    ...   ...               ...    ...  \n",
       "99   298.8  355.5   99.5  47.2            3046.4    YES  \n",
       "100  292.9  308.1  223.6  79.4            2600.6     NO  \n",
       "101  173.2  225.9  125.4  23.6            2176.6     NO  \n",
       "102  209.5  192.4   92.5  38.1            2117.1     NO  \n",
       "103  423.6  356.1  125.4  65.1            4473.0    YES  \n",
       "\n",
       "[104 rows x 16 columns]>"
      ]
     },
     "execution_count": 82,
     "metadata": {},
     "output_type": "execute_result"
    }
   ],
   "source": [
    "data.info"
   ]
  },
  {
   "cell_type": "code",
   "execution_count": 83,
   "metadata": {},
   "outputs": [
    {
     "data": {
      "text/html": [
       "<div>\n",
       "<style scoped>\n",
       "    .dataframe tbody tr th:only-of-type {\n",
       "        vertical-align: middle;\n",
       "    }\n",
       "\n",
       "    .dataframe tbody tr th {\n",
       "        vertical-align: top;\n",
       "    }\n",
       "\n",
       "    .dataframe thead th {\n",
       "        text-align: right;\n",
       "    }\n",
       "</style>\n",
       "<table border=\"1\" class=\"dataframe\">\n",
       "  <thead>\n",
       "    <tr style=\"text-align: right;\">\n",
       "      <th></th>\n",
       "      <th>YEAR</th>\n",
       "      <th>JAN</th>\n",
       "      <th>FEB</th>\n",
       "      <th>MAR</th>\n",
       "      <th>APR</th>\n",
       "      <th>MAY</th>\n",
       "      <th>JUN</th>\n",
       "      <th>JUL</th>\n",
       "      <th>AUG</th>\n",
       "      <th>SEP</th>\n",
       "      <th>OCT</th>\n",
       "      <th>NOV</th>\n",
       "      <th>DEC</th>\n",
       "      <th>ANNUAL RAINFALL</th>\n",
       "    </tr>\n",
       "  </thead>\n",
       "  <tbody>\n",
       "    <tr>\n",
       "      <th>YEAR</th>\n",
       "      <td>910.000000</td>\n",
       "      <td>-126.716019</td>\n",
       "      <td>-10.206796</td>\n",
       "      <td>-70.918932</td>\n",
       "      <td>39.359223</td>\n",
       "      <td>-547.104369</td>\n",
       "      <td>-806.922816</td>\n",
       "      <td>-1109.524757</td>\n",
       "      <td>77.821845</td>\n",
       "      <td>316.544175</td>\n",
       "      <td>185.372816</td>\n",
       "      <td>-479.029612</td>\n",
       "      <td>-94.806311</td>\n",
       "      <td>-2627.965049</td>\n",
       "    </tr>\n",
       "    <tr>\n",
       "      <th>JAN</th>\n",
       "      <td>-126.716019</td>\n",
       "      <td>241.296138</td>\n",
       "      <td>4.276559</td>\n",
       "      <td>18.681590</td>\n",
       "      <td>14.882407</td>\n",
       "      <td>85.998580</td>\n",
       "      <td>585.432307</td>\n",
       "      <td>115.492404</td>\n",
       "      <td>29.443759</td>\n",
       "      <td>-212.788522</td>\n",
       "      <td>41.496802</td>\n",
       "      <td>-58.384062</td>\n",
       "      <td>-48.942942</td>\n",
       "      <td>816.977614</td>\n",
       "    </tr>\n",
       "    <tr>\n",
       "      <th>FEB</th>\n",
       "      <td>-10.206796</td>\n",
       "      <td>4.276559</td>\n",
       "      <td>287.522416</td>\n",
       "      <td>134.418277</td>\n",
       "      <td>65.375963</td>\n",
       "      <td>-240.629199</td>\n",
       "      <td>168.817619</td>\n",
       "      <td>147.993056</td>\n",
       "      <td>87.605976</td>\n",
       "      <td>152.077821</td>\n",
       "      <td>119.793484</td>\n",
       "      <td>-328.440032</td>\n",
       "      <td>-57.034796</td>\n",
       "      <td>542.117879</td>\n",
       "    </tr>\n",
       "    <tr>\n",
       "      <th>MAR</th>\n",
       "      <td>-70.918932</td>\n",
       "      <td>18.681590</td>\n",
       "      <td>134.418277</td>\n",
       "      <td>967.485473</td>\n",
       "      <td>51.899150</td>\n",
       "      <td>-568.562585</td>\n",
       "      <td>207.095570</td>\n",
       "      <td>187.154405</td>\n",
       "      <td>146.659891</td>\n",
       "      <td>490.906250</td>\n",
       "      <td>61.685898</td>\n",
       "      <td>-174.301396</td>\n",
       "      <td>39.671226</td>\n",
       "      <td>1562.712767</td>\n",
       "    </tr>\n",
       "    <tr>\n",
       "      <th>APR</th>\n",
       "      <td>39.359223</td>\n",
       "      <td>14.882407</td>\n",
       "      <td>65.375963</td>\n",
       "      <td>51.899150</td>\n",
       "      <td>2034.813992</td>\n",
       "      <td>-852.152209</td>\n",
       "      <td>577.547903</td>\n",
       "      <td>675.300913</td>\n",
       "      <td>-1078.773419</td>\n",
       "      <td>-5.659826</td>\n",
       "      <td>644.191886</td>\n",
       "      <td>-180.831130</td>\n",
       "      <td>-75.578546</td>\n",
       "      <td>1870.349589</td>\n",
       "    </tr>\n",
       "    <tr>\n",
       "      <th>MAY</th>\n",
       "      <td>-547.104369</td>\n",
       "      <td>85.998580</td>\n",
       "      <td>-240.629199</td>\n",
       "      <td>-568.562585</td>\n",
       "      <td>-852.152209</td>\n",
       "      <td>23598.269745</td>\n",
       "      <td>-217.987536</td>\n",
       "      <td>-1070.740740</td>\n",
       "      <td>-3007.241566</td>\n",
       "      <td>2405.179163</td>\n",
       "      <td>3427.342500</td>\n",
       "      <td>1436.129090</td>\n",
       "      <td>-539.430619</td>\n",
       "      <td>24458.542670</td>\n",
       "    </tr>\n",
       "    <tr>\n",
       "      <th>JUN</th>\n",
       "      <td>-806.922816</td>\n",
       "      <td>585.432307</td>\n",
       "      <td>168.817619</td>\n",
       "      <td>207.095570</td>\n",
       "      <td>577.547903</td>\n",
       "      <td>-217.987536</td>\n",
       "      <td>33054.019409</td>\n",
       "      <td>6649.282807</td>\n",
       "      <td>-369.815023</td>\n",
       "      <td>212.158326</td>\n",
       "      <td>-523.382041</td>\n",
       "      <td>533.415027</td>\n",
       "      <td>-155.770395</td>\n",
       "      <td>40723.919436</td>\n",
       "    </tr>\n",
       "    <tr>\n",
       "      <th>JUL</th>\n",
       "      <td>-1109.524757</td>\n",
       "      <td>115.492404</td>\n",
       "      <td>147.993056</td>\n",
       "      <td>187.154405</td>\n",
       "      <td>675.300913</td>\n",
       "      <td>-1070.740740</td>\n",
       "      <td>6649.282807</td>\n",
       "      <td>53451.952419</td>\n",
       "      <td>7842.057792</td>\n",
       "      <td>5855.946093</td>\n",
       "      <td>116.324076</td>\n",
       "      <td>-174.754196</td>\n",
       "      <td>-944.821074</td>\n",
       "      <td>72857.996815</td>\n",
       "    </tr>\n",
       "    <tr>\n",
       "      <th>AUG</th>\n",
       "      <td>77.821845</td>\n",
       "      <td>29.443759</td>\n",
       "      <td>87.605976</td>\n",
       "      <td>146.659891</td>\n",
       "      <td>-1078.773419</td>\n",
       "      <td>-3007.241566</td>\n",
       "      <td>-369.815023</td>\n",
       "      <td>7842.057792</td>\n",
       "      <td>32811.157788</td>\n",
       "      <td>2171.221041</td>\n",
       "      <td>-3467.777761</td>\n",
       "      <td>-2581.669741</td>\n",
       "      <td>1179.446622</td>\n",
       "      <td>33766.233148</td>\n",
       "    </tr>\n",
       "    <tr>\n",
       "      <th>SEP</th>\n",
       "      <td>316.544175</td>\n",
       "      <td>-212.788522</td>\n",
       "      <td>152.077821</td>\n",
       "      <td>490.906250</td>\n",
       "      <td>-5.659826</td>\n",
       "      <td>2405.179163</td>\n",
       "      <td>212.158326</td>\n",
       "      <td>5855.946093</td>\n",
       "      <td>2171.221041</td>\n",
       "      <td>15451.197886</td>\n",
       "      <td>-408.102324</td>\n",
       "      <td>-430.691052</td>\n",
       "      <td>-171.264883</td>\n",
       "      <td>25510.939070</td>\n",
       "    </tr>\n",
       "    <tr>\n",
       "      <th>OCT</th>\n",
       "      <td>185.372816</td>\n",
       "      <td>41.496802</td>\n",
       "      <td>119.793484</td>\n",
       "      <td>61.685898</td>\n",
       "      <td>644.191886</td>\n",
       "      <td>3427.342500</td>\n",
       "      <td>-523.382041</td>\n",
       "      <td>116.324076</td>\n",
       "      <td>-3467.777761</td>\n",
       "      <td>-408.102324</td>\n",
       "      <td>9105.617950</td>\n",
       "      <td>4.612153</td>\n",
       "      <td>-205.074068</td>\n",
       "      <td>8919.258947</td>\n",
       "    </tr>\n",
       "    <tr>\n",
       "      <th>NOV</th>\n",
       "      <td>-479.029612</td>\n",
       "      <td>-58.384062</td>\n",
       "      <td>-328.440032</td>\n",
       "      <td>-174.301396</td>\n",
       "      <td>-180.831130</td>\n",
       "      <td>1436.129090</td>\n",
       "      <td>533.415027</td>\n",
       "      <td>-174.754196</td>\n",
       "      <td>-2581.669741</td>\n",
       "      <td>-430.691052</td>\n",
       "      <td>4.612153</td>\n",
       "      <td>6915.445339</td>\n",
       "      <td>225.863748</td>\n",
       "      <td>5186.380609</td>\n",
       "    </tr>\n",
       "    <tr>\n",
       "      <th>DEC</th>\n",
       "      <td>-94.806311</td>\n",
       "      <td>-48.942942</td>\n",
       "      <td>-57.034796</td>\n",
       "      <td>39.671226</td>\n",
       "      <td>-75.578546</td>\n",
       "      <td>-539.430619</td>\n",
       "      <td>-155.770395</td>\n",
       "      <td>-944.821074</td>\n",
       "      <td>1179.446622</td>\n",
       "      <td>-171.264883</td>\n",
       "      <td>-205.074068</td>\n",
       "      <td>225.863748</td>\n",
       "      <td>1269.125712</td>\n",
       "      <td>516.817868</td>\n",
       "    </tr>\n",
       "    <tr>\n",
       "      <th>ANNUAL RAINFALL</th>\n",
       "      <td>-2627.965049</td>\n",
       "      <td>816.977614</td>\n",
       "      <td>542.117879</td>\n",
       "      <td>1562.712767</td>\n",
       "      <td>1870.349589</td>\n",
       "      <td>24458.542670</td>\n",
       "      <td>40723.919436</td>\n",
       "      <td>72857.996815</td>\n",
       "      <td>33766.233148</td>\n",
       "      <td>25510.939070</td>\n",
       "      <td>8919.258947</td>\n",
       "      <td>5186.380609</td>\n",
       "      <td>516.817868</td>\n",
       "      <td>216752.132860</td>\n",
       "    </tr>\n",
       "  </tbody>\n",
       "</table>\n",
       "</div>"
      ],
      "text/plain": [
       "                         YEAR         JAN         FEB          MAR  \\\n",
       "YEAR               910.000000 -126.716019  -10.206796   -70.918932   \n",
       "JAN               -126.716019  241.296138    4.276559    18.681590   \n",
       "FEB                -10.206796    4.276559  287.522416   134.418277   \n",
       "MAR                -70.918932   18.681590  134.418277   967.485473   \n",
       "APR                 39.359223   14.882407   65.375963    51.899150   \n",
       "MAY               -547.104369   85.998580 -240.629199  -568.562585   \n",
       "JUN               -806.922816  585.432307  168.817619   207.095570   \n",
       "JUL              -1109.524757  115.492404  147.993056   187.154405   \n",
       "AUG                 77.821845   29.443759   87.605976   146.659891   \n",
       "SEP                316.544175 -212.788522  152.077821   490.906250   \n",
       "OCT                185.372816   41.496802  119.793484    61.685898   \n",
       "NOV               -479.029612  -58.384062 -328.440032  -174.301396   \n",
       "DEC                -94.806311  -48.942942  -57.034796    39.671226   \n",
       " ANNUAL RAINFALL -2627.965049  816.977614  542.117879  1562.712767   \n",
       "\n",
       "                          APR           MAY           JUN           JUL  \\\n",
       "YEAR                39.359223   -547.104369   -806.922816  -1109.524757   \n",
       "JAN                 14.882407     85.998580    585.432307    115.492404   \n",
       "FEB                 65.375963   -240.629199    168.817619    147.993056   \n",
       "MAR                 51.899150   -568.562585    207.095570    187.154405   \n",
       "APR               2034.813992   -852.152209    577.547903    675.300913   \n",
       "MAY               -852.152209  23598.269745   -217.987536  -1070.740740   \n",
       "JUN                577.547903   -217.987536  33054.019409   6649.282807   \n",
       "JUL                675.300913  -1070.740740   6649.282807  53451.952419   \n",
       "AUG              -1078.773419  -3007.241566   -369.815023   7842.057792   \n",
       "SEP                 -5.659826   2405.179163    212.158326   5855.946093   \n",
       "OCT                644.191886   3427.342500   -523.382041    116.324076   \n",
       "NOV               -180.831130   1436.129090    533.415027   -174.754196   \n",
       "DEC                -75.578546   -539.430619   -155.770395   -944.821074   \n",
       " ANNUAL RAINFALL  1870.349589  24458.542670  40723.919436  72857.996815   \n",
       "\n",
       "                           AUG           SEP          OCT          NOV  \\\n",
       "YEAR                 77.821845    316.544175   185.372816  -479.029612   \n",
       "JAN                  29.443759   -212.788522    41.496802   -58.384062   \n",
       "FEB                  87.605976    152.077821   119.793484  -328.440032   \n",
       "MAR                 146.659891    490.906250    61.685898  -174.301396   \n",
       "APR               -1078.773419     -5.659826   644.191886  -180.831130   \n",
       "MAY               -3007.241566   2405.179163  3427.342500  1436.129090   \n",
       "JUN                -369.815023    212.158326  -523.382041   533.415027   \n",
       "JUL                7842.057792   5855.946093   116.324076  -174.754196   \n",
       "AUG               32811.157788   2171.221041 -3467.777761 -2581.669741   \n",
       "SEP                2171.221041  15451.197886  -408.102324  -430.691052   \n",
       "OCT               -3467.777761   -408.102324  9105.617950     4.612153   \n",
       "NOV               -2581.669741   -430.691052     4.612153  6915.445339   \n",
       "DEC                1179.446622   -171.264883  -205.074068   225.863748   \n",
       " ANNUAL RAINFALL  33766.233148  25510.939070  8919.258947  5186.380609   \n",
       "\n",
       "                          DEC   ANNUAL RAINFALL  \n",
       "YEAR               -94.806311      -2627.965049  \n",
       "JAN                -48.942942        816.977614  \n",
       "FEB                -57.034796        542.117879  \n",
       "MAR                 39.671226       1562.712767  \n",
       "APR                -75.578546       1870.349589  \n",
       "MAY               -539.430619      24458.542670  \n",
       "JUN               -155.770395      40723.919436  \n",
       "JUL               -944.821074      72857.996815  \n",
       "AUG               1179.446622      33766.233148  \n",
       "SEP               -171.264883      25510.939070  \n",
       "OCT               -205.074068       8919.258947  \n",
       "NOV                225.863748       5186.380609  \n",
       "DEC               1269.125712        516.817868  \n",
       " ANNUAL RAINFALL   516.817868     216752.132860  "
      ]
     },
     "execution_count": 83,
     "metadata": {},
     "output_type": "execute_result"
    }
   ],
   "source": [
    "data.cov()"
   ]
  },
  {
   "cell_type": "code",
   "execution_count": 84,
   "metadata": {},
   "outputs": [
    {
     "data": {
      "text/html": [
       "<div>\n",
       "<style scoped>\n",
       "    .dataframe tbody tr th:only-of-type {\n",
       "        vertical-align: middle;\n",
       "    }\n",
       "\n",
       "    .dataframe tbody tr th {\n",
       "        vertical-align: top;\n",
       "    }\n",
       "\n",
       "    .dataframe thead th {\n",
       "        text-align: right;\n",
       "    }\n",
       "</style>\n",
       "<table border=\"1\" class=\"dataframe\">\n",
       "  <thead>\n",
       "    <tr style=\"text-align: right;\">\n",
       "      <th></th>\n",
       "      <th>YEAR</th>\n",
       "      <th>JAN</th>\n",
       "      <th>FEB</th>\n",
       "      <th>MAR</th>\n",
       "      <th>APR</th>\n",
       "      <th>MAY</th>\n",
       "      <th>JUN</th>\n",
       "      <th>JUL</th>\n",
       "      <th>AUG</th>\n",
       "      <th>SEP</th>\n",
       "      <th>OCT</th>\n",
       "      <th>NOV</th>\n",
       "      <th>DEC</th>\n",
       "      <th>ANNUAL RAINFALL</th>\n",
       "    </tr>\n",
       "  </thead>\n",
       "  <tbody>\n",
       "    <tr>\n",
       "      <th>YEAR</th>\n",
       "      <td>1.000000</td>\n",
       "      <td>-0.270418</td>\n",
       "      <td>-0.019954</td>\n",
       "      <td>-0.075582</td>\n",
       "      <td>0.028924</td>\n",
       "      <td>-0.118062</td>\n",
       "      <td>-0.147129</td>\n",
       "      <td>-0.159087</td>\n",
       "      <td>0.014242</td>\n",
       "      <td>0.084418</td>\n",
       "      <td>0.064398</td>\n",
       "      <td>-0.190955</td>\n",
       "      <td>-0.088219</td>\n",
       "      <td>-0.187119</td>\n",
       "    </tr>\n",
       "    <tr>\n",
       "      <th>JAN</th>\n",
       "      <td>-0.270418</td>\n",
       "      <td>1.000000</td>\n",
       "      <td>0.016236</td>\n",
       "      <td>0.038665</td>\n",
       "      <td>0.021239</td>\n",
       "      <td>0.036039</td>\n",
       "      <td>0.207295</td>\n",
       "      <td>0.032159</td>\n",
       "      <td>0.010464</td>\n",
       "      <td>-0.110203</td>\n",
       "      <td>0.027995</td>\n",
       "      <td>-0.045197</td>\n",
       "      <td>-0.088443</td>\n",
       "      <td>0.112967</td>\n",
       "    </tr>\n",
       "    <tr>\n",
       "      <th>FEB</th>\n",
       "      <td>-0.019954</td>\n",
       "      <td>0.016236</td>\n",
       "      <td>1.000000</td>\n",
       "      <td>0.254859</td>\n",
       "      <td>0.085471</td>\n",
       "      <td>-0.092379</td>\n",
       "      <td>0.054761</td>\n",
       "      <td>0.037751</td>\n",
       "      <td>0.028522</td>\n",
       "      <td>0.072152</td>\n",
       "      <td>0.074036</td>\n",
       "      <td>-0.232922</td>\n",
       "      <td>-0.094417</td>\n",
       "      <td>0.068671</td>\n",
       "    </tr>\n",
       "    <tr>\n",
       "      <th>MAR</th>\n",
       "      <td>-0.075582</td>\n",
       "      <td>0.038665</td>\n",
       "      <td>0.254859</td>\n",
       "      <td>1.000000</td>\n",
       "      <td>0.036989</td>\n",
       "      <td>-0.118992</td>\n",
       "      <td>0.036622</td>\n",
       "      <td>0.026025</td>\n",
       "      <td>0.026030</td>\n",
       "      <td>0.126968</td>\n",
       "      <td>0.020783</td>\n",
       "      <td>-0.067386</td>\n",
       "      <td>0.035801</td>\n",
       "      <td>0.107913</td>\n",
       "    </tr>\n",
       "    <tr>\n",
       "      <th>APR</th>\n",
       "      <td>0.028924</td>\n",
       "      <td>0.021239</td>\n",
       "      <td>0.085471</td>\n",
       "      <td>0.036989</td>\n",
       "      <td>1.000000</td>\n",
       "      <td>-0.122974</td>\n",
       "      <td>0.070423</td>\n",
       "      <td>0.064752</td>\n",
       "      <td>-0.132025</td>\n",
       "      <td>-0.001009</td>\n",
       "      <td>0.149657</td>\n",
       "      <td>-0.048206</td>\n",
       "      <td>-0.047031</td>\n",
       "      <td>0.089059</td>\n",
       "    </tr>\n",
       "    <tr>\n",
       "      <th>MAY</th>\n",
       "      <td>-0.118062</td>\n",
       "      <td>0.036039</td>\n",
       "      <td>-0.092379</td>\n",
       "      <td>-0.118992</td>\n",
       "      <td>-0.122974</td>\n",
       "      <td>1.000000</td>\n",
       "      <td>-0.007805</td>\n",
       "      <td>-0.030148</td>\n",
       "      <td>-0.108073</td>\n",
       "      <td>0.125958</td>\n",
       "      <td>0.233810</td>\n",
       "      <td>0.112420</td>\n",
       "      <td>-0.098570</td>\n",
       "      <td>0.341986</td>\n",
       "    </tr>\n",
       "    <tr>\n",
       "      <th>JUN</th>\n",
       "      <td>-0.147129</td>\n",
       "      <td>0.207295</td>\n",
       "      <td>0.054761</td>\n",
       "      <td>0.036622</td>\n",
       "      <td>0.070423</td>\n",
       "      <td>-0.007805</td>\n",
       "      <td>1.000000</td>\n",
       "      <td>0.158191</td>\n",
       "      <td>-0.011230</td>\n",
       "      <td>0.009388</td>\n",
       "      <td>-0.030168</td>\n",
       "      <td>0.035281</td>\n",
       "      <td>-0.024050</td>\n",
       "      <td>0.481123</td>\n",
       "    </tr>\n",
       "    <tr>\n",
       "      <th>JUL</th>\n",
       "      <td>-0.159087</td>\n",
       "      <td>0.032159</td>\n",
       "      <td>0.037751</td>\n",
       "      <td>0.026025</td>\n",
       "      <td>0.064752</td>\n",
       "      <td>-0.030148</td>\n",
       "      <td>0.158191</td>\n",
       "      <td>1.000000</td>\n",
       "      <td>0.187257</td>\n",
       "      <td>0.203767</td>\n",
       "      <td>0.005273</td>\n",
       "      <td>-0.009089</td>\n",
       "      <td>-0.114714</td>\n",
       "      <td>0.676883</td>\n",
       "    </tr>\n",
       "    <tr>\n",
       "      <th>AUG</th>\n",
       "      <td>0.014242</td>\n",
       "      <td>0.010464</td>\n",
       "      <td>0.028522</td>\n",
       "      <td>0.026030</td>\n",
       "      <td>-0.132025</td>\n",
       "      <td>-0.108073</td>\n",
       "      <td>-0.011230</td>\n",
       "      <td>0.187257</td>\n",
       "      <td>1.000000</td>\n",
       "      <td>0.096430</td>\n",
       "      <td>-0.200625</td>\n",
       "      <td>-0.171388</td>\n",
       "      <td>0.182774</td>\n",
       "      <td>0.400396</td>\n",
       "    </tr>\n",
       "    <tr>\n",
       "      <th>SEP</th>\n",
       "      <td>0.084418</td>\n",
       "      <td>-0.110203</td>\n",
       "      <td>0.072152</td>\n",
       "      <td>0.126968</td>\n",
       "      <td>-0.001009</td>\n",
       "      <td>0.125958</td>\n",
       "      <td>0.009388</td>\n",
       "      <td>0.203767</td>\n",
       "      <td>0.096430</td>\n",
       "      <td>1.000000</td>\n",
       "      <td>-0.034406</td>\n",
       "      <td>-0.041665</td>\n",
       "      <td>-0.038675</td>\n",
       "      <td>0.440822</td>\n",
       "    </tr>\n",
       "    <tr>\n",
       "      <th>OCT</th>\n",
       "      <td>0.064398</td>\n",
       "      <td>0.027995</td>\n",
       "      <td>0.074036</td>\n",
       "      <td>0.020783</td>\n",
       "      <td>0.149657</td>\n",
       "      <td>0.233810</td>\n",
       "      <td>-0.030168</td>\n",
       "      <td>0.005273</td>\n",
       "      <td>-0.200625</td>\n",
       "      <td>-0.034406</td>\n",
       "      <td>1.000000</td>\n",
       "      <td>0.000581</td>\n",
       "      <td>-0.060326</td>\n",
       "      <td>0.200767</td>\n",
       "    </tr>\n",
       "    <tr>\n",
       "      <th>NOV</th>\n",
       "      <td>-0.190955</td>\n",
       "      <td>-0.045197</td>\n",
       "      <td>-0.232922</td>\n",
       "      <td>-0.067386</td>\n",
       "      <td>-0.048206</td>\n",
       "      <td>0.112420</td>\n",
       "      <td>0.035281</td>\n",
       "      <td>-0.009089</td>\n",
       "      <td>-0.171388</td>\n",
       "      <td>-0.041665</td>\n",
       "      <td>0.000581</td>\n",
       "      <td>1.000000</td>\n",
       "      <td>0.076240</td>\n",
       "      <td>0.133959</td>\n",
       "    </tr>\n",
       "    <tr>\n",
       "      <th>DEC</th>\n",
       "      <td>-0.088219</td>\n",
       "      <td>-0.088443</td>\n",
       "      <td>-0.094417</td>\n",
       "      <td>0.035801</td>\n",
       "      <td>-0.047031</td>\n",
       "      <td>-0.098570</td>\n",
       "      <td>-0.024050</td>\n",
       "      <td>-0.114714</td>\n",
       "      <td>0.182774</td>\n",
       "      <td>-0.038675</td>\n",
       "      <td>-0.060326</td>\n",
       "      <td>0.076240</td>\n",
       "      <td>1.000000</td>\n",
       "      <td>0.031160</td>\n",
       "    </tr>\n",
       "    <tr>\n",
       "      <th>ANNUAL RAINFALL</th>\n",
       "      <td>-0.187119</td>\n",
       "      <td>0.112967</td>\n",
       "      <td>0.068671</td>\n",
       "      <td>0.107913</td>\n",
       "      <td>0.089059</td>\n",
       "      <td>0.341986</td>\n",
       "      <td>0.481123</td>\n",
       "      <td>0.676883</td>\n",
       "      <td>0.400396</td>\n",
       "      <td>0.440822</td>\n",
       "      <td>0.200767</td>\n",
       "      <td>0.133959</td>\n",
       "      <td>0.031160</td>\n",
       "      <td>1.000000</td>\n",
       "    </tr>\n",
       "  </tbody>\n",
       "</table>\n",
       "</div>"
      ],
      "text/plain": [
       "                      YEAR       JAN       FEB       MAR       APR       MAY  \\\n",
       "YEAR              1.000000 -0.270418 -0.019954 -0.075582  0.028924 -0.118062   \n",
       "JAN              -0.270418  1.000000  0.016236  0.038665  0.021239  0.036039   \n",
       "FEB              -0.019954  0.016236  1.000000  0.254859  0.085471 -0.092379   \n",
       "MAR              -0.075582  0.038665  0.254859  1.000000  0.036989 -0.118992   \n",
       "APR               0.028924  0.021239  0.085471  0.036989  1.000000 -0.122974   \n",
       "MAY              -0.118062  0.036039 -0.092379 -0.118992 -0.122974  1.000000   \n",
       "JUN              -0.147129  0.207295  0.054761  0.036622  0.070423 -0.007805   \n",
       "JUL              -0.159087  0.032159  0.037751  0.026025  0.064752 -0.030148   \n",
       "AUG               0.014242  0.010464  0.028522  0.026030 -0.132025 -0.108073   \n",
       "SEP               0.084418 -0.110203  0.072152  0.126968 -0.001009  0.125958   \n",
       "OCT               0.064398  0.027995  0.074036  0.020783  0.149657  0.233810   \n",
       "NOV              -0.190955 -0.045197 -0.232922 -0.067386 -0.048206  0.112420   \n",
       "DEC              -0.088219 -0.088443 -0.094417  0.035801 -0.047031 -0.098570   \n",
       " ANNUAL RAINFALL -0.187119  0.112967  0.068671  0.107913  0.089059  0.341986   \n",
       "\n",
       "                       JUN       JUL       AUG       SEP       OCT       NOV  \\\n",
       "YEAR             -0.147129 -0.159087  0.014242  0.084418  0.064398 -0.190955   \n",
       "JAN               0.207295  0.032159  0.010464 -0.110203  0.027995 -0.045197   \n",
       "FEB               0.054761  0.037751  0.028522  0.072152  0.074036 -0.232922   \n",
       "MAR               0.036622  0.026025  0.026030  0.126968  0.020783 -0.067386   \n",
       "APR               0.070423  0.064752 -0.132025 -0.001009  0.149657 -0.048206   \n",
       "MAY              -0.007805 -0.030148 -0.108073  0.125958  0.233810  0.112420   \n",
       "JUN               1.000000  0.158191 -0.011230  0.009388 -0.030168  0.035281   \n",
       "JUL               0.158191  1.000000  0.187257  0.203767  0.005273 -0.009089   \n",
       "AUG              -0.011230  0.187257  1.000000  0.096430 -0.200625 -0.171388   \n",
       "SEP               0.009388  0.203767  0.096430  1.000000 -0.034406 -0.041665   \n",
       "OCT              -0.030168  0.005273 -0.200625 -0.034406  1.000000  0.000581   \n",
       "NOV               0.035281 -0.009089 -0.171388 -0.041665  0.000581  1.000000   \n",
       "DEC              -0.024050 -0.114714  0.182774 -0.038675 -0.060326  0.076240   \n",
       " ANNUAL RAINFALL  0.481123  0.676883  0.400396  0.440822  0.200767  0.133959   \n",
       "\n",
       "                       DEC   ANNUAL RAINFALL  \n",
       "YEAR             -0.088219         -0.187119  \n",
       "JAN              -0.088443          0.112967  \n",
       "FEB              -0.094417          0.068671  \n",
       "MAR               0.035801          0.107913  \n",
       "APR              -0.047031          0.089059  \n",
       "MAY              -0.098570          0.341986  \n",
       "JUN              -0.024050          0.481123  \n",
       "JUL              -0.114714          0.676883  \n",
       "AUG               0.182774          0.400396  \n",
       "SEP              -0.038675          0.440822  \n",
       "OCT              -0.060326          0.200767  \n",
       "NOV               0.076240          0.133959  \n",
       "DEC               1.000000          0.031160  \n",
       " ANNUAL RAINFALL  0.031160          1.000000  "
      ]
     },
     "execution_count": 84,
     "metadata": {},
     "output_type": "execute_result"
    }
   ],
   "source": [
    "data.corr()"
   ]
  },
  {
   "cell_type": "code",
   "execution_count": 85,
   "metadata": {},
   "outputs": [],
   "source": [
    "# replacing the yes/no in floods coloumn by 1/0\n",
    "data['FLOODS'].replace(['YES','NO'],[1,0],inplace=True)"
   ]
  },
  {
   "cell_type": "code",
   "execution_count": 86,
   "metadata": {},
   "outputs": [
    {
     "data": {
      "text/html": [
       "<div>\n",
       "<style scoped>\n",
       "    .dataframe tbody tr th:only-of-type {\n",
       "        vertical-align: middle;\n",
       "    }\n",
       "\n",
       "    .dataframe tbody tr th {\n",
       "        vertical-align: top;\n",
       "    }\n",
       "\n",
       "    .dataframe thead th {\n",
       "        text-align: right;\n",
       "    }\n",
       "</style>\n",
       "<table border=\"1\" class=\"dataframe\">\n",
       "  <thead>\n",
       "    <tr style=\"text-align: right;\">\n",
       "      <th></th>\n",
       "      <th>SUBDIVISION</th>\n",
       "      <th>YEAR</th>\n",
       "      <th>JAN</th>\n",
       "      <th>FEB</th>\n",
       "      <th>MAR</th>\n",
       "      <th>APR</th>\n",
       "      <th>MAY</th>\n",
       "      <th>JUN</th>\n",
       "      <th>JUL</th>\n",
       "      <th>AUG</th>\n",
       "      <th>SEP</th>\n",
       "      <th>OCT</th>\n",
       "      <th>NOV</th>\n",
       "      <th>DEC</th>\n",
       "      <th>ANNUAL RAINFALL</th>\n",
       "      <th>FLOODS</th>\n",
       "    </tr>\n",
       "  </thead>\n",
       "  <tbody>\n",
       "    <tr>\n",
       "      <th>0</th>\n",
       "      <td>DOUALA</td>\n",
       "      <td>1915</td>\n",
       "      <td>16.9</td>\n",
       "      <td>23.5</td>\n",
       "      <td>42.7</td>\n",
       "      <td>106.0</td>\n",
       "      <td>154.5</td>\n",
       "      <td>696.1</td>\n",
       "      <td>775.6</td>\n",
       "      <td>298.8</td>\n",
       "      <td>396.6</td>\n",
       "      <td>196.6</td>\n",
       "      <td>302.5</td>\n",
       "      <td>14.9</td>\n",
       "      <td>3024.5</td>\n",
       "      <td>1</td>\n",
       "    </tr>\n",
       "    <tr>\n",
       "      <th>1</th>\n",
       "      <td>DOUALA</td>\n",
       "      <td>1916</td>\n",
       "      <td>0.0</td>\n",
       "      <td>7.8</td>\n",
       "      <td>22.0</td>\n",
       "      <td>82.4</td>\n",
       "      <td>199.0</td>\n",
       "      <td>920.2</td>\n",
       "      <td>513.9</td>\n",
       "      <td>396.9</td>\n",
       "      <td>339.3</td>\n",
       "      <td>320.7</td>\n",
       "      <td>134.3</td>\n",
       "      <td>8.9</td>\n",
       "      <td>2945.3</td>\n",
       "      <td>1</td>\n",
       "    </tr>\n",
       "    <tr>\n",
       "      <th>2</th>\n",
       "      <td>DOUALA</td>\n",
       "      <td>1917</td>\n",
       "      <td>2.9</td>\n",
       "      <td>47.6</td>\n",
       "      <td>79.4</td>\n",
       "      <td>38.1</td>\n",
       "      <td>122.9</td>\n",
       "      <td>703.7</td>\n",
       "      <td>342.7</td>\n",
       "      <td>335.1</td>\n",
       "      <td>470.3</td>\n",
       "      <td>264.1</td>\n",
       "      <td>256.4</td>\n",
       "      <td>41.6</td>\n",
       "      <td>2704.8</td>\n",
       "      <td>0</td>\n",
       "    </tr>\n",
       "    <tr>\n",
       "      <th>3</th>\n",
       "      <td>DOUALA</td>\n",
       "      <td>1918</td>\n",
       "      <td>42.9</td>\n",
       "      <td>5.0</td>\n",
       "      <td>32.8</td>\n",
       "      <td>51.3</td>\n",
       "      <td>683.0</td>\n",
       "      <td>464.3</td>\n",
       "      <td>167.5</td>\n",
       "      <td>376.0</td>\n",
       "      <td>96.4</td>\n",
       "      <td>233.2</td>\n",
       "      <td>295.4</td>\n",
       "      <td>54.1</td>\n",
       "      <td>2501.9</td>\n",
       "      <td>0</td>\n",
       "    </tr>\n",
       "    <tr>\n",
       "      <th>4</th>\n",
       "      <td>DOUALA</td>\n",
       "      <td>1919</td>\n",
       "      <td>43.0</td>\n",
       "      <td>6.1</td>\n",
       "      <td>33.9</td>\n",
       "      <td>65.9</td>\n",
       "      <td>247.0</td>\n",
       "      <td>636.8</td>\n",
       "      <td>648.0</td>\n",
       "      <td>484.2</td>\n",
       "      <td>255.9</td>\n",
       "      <td>249.2</td>\n",
       "      <td>280.1</td>\n",
       "      <td>53.0</td>\n",
       "      <td>3003.3</td>\n",
       "      <td>1</td>\n",
       "    </tr>\n",
       "  </tbody>\n",
       "</table>\n",
       "</div>"
      ],
      "text/plain": [
       "  SUBDIVISION  YEAR   JAN   FEB   MAR    APR    MAY    JUN    JUL    AUG  \\\n",
       "0      DOUALA  1915  16.9  23.5  42.7  106.0  154.5  696.1  775.6  298.8   \n",
       "1      DOUALA  1916   0.0   7.8  22.0   82.4  199.0  920.2  513.9  396.9   \n",
       "2      DOUALA  1917   2.9  47.6  79.4   38.1  122.9  703.7  342.7  335.1   \n",
       "3      DOUALA  1918  42.9   5.0  32.8   51.3  683.0  464.3  167.5  376.0   \n",
       "4      DOUALA  1919  43.0   6.1  33.9   65.9  247.0  636.8  648.0  484.2   \n",
       "\n",
       "     SEP    OCT    NOV   DEC   ANNUAL RAINFALL  FLOODS  \n",
       "0  396.6  196.6  302.5  14.9            3024.5       1  \n",
       "1  339.3  320.7  134.3   8.9            2945.3       1  \n",
       "2  470.3  264.1  256.4  41.6            2704.8       0  \n",
       "3   96.4  233.2  295.4  54.1            2501.9       0  \n",
       "4  255.9  249.2  280.1  53.0            3003.3       1  "
      ]
     },
     "execution_count": 86,
     "metadata": {},
     "output_type": "execute_result"
    }
   ],
   "source": [
    "#Printing the clean data\n",
    "data.head()"
   ]
  },
  {
   "cell_type": "code",
   "execution_count": 87,
   "metadata": {},
   "outputs": [
    {
     "data": {
      "text/html": [
       "<div>\n",
       "<style scoped>\n",
       "    .dataframe tbody tr th:only-of-type {\n",
       "        vertical-align: middle;\n",
       "    }\n",
       "\n",
       "    .dataframe tbody tr th {\n",
       "        vertical-align: top;\n",
       "    }\n",
       "\n",
       "    .dataframe thead th {\n",
       "        text-align: right;\n",
       "    }\n",
       "</style>\n",
       "<table border=\"1\" class=\"dataframe\">\n",
       "  <thead>\n",
       "    <tr style=\"text-align: right;\">\n",
       "      <th></th>\n",
       "      <th>YEAR</th>\n",
       "      <th>JAN</th>\n",
       "      <th>FEB</th>\n",
       "      <th>MAR</th>\n",
       "      <th>APR</th>\n",
       "      <th>MAY</th>\n",
       "      <th>JUN</th>\n",
       "      <th>JUL</th>\n",
       "      <th>AUG</th>\n",
       "      <th>SEP</th>\n",
       "      <th>OCT</th>\n",
       "      <th>NOV</th>\n",
       "      <th>DEC</th>\n",
       "    </tr>\n",
       "  </thead>\n",
       "  <tbody>\n",
       "    <tr>\n",
       "      <th>0</th>\n",
       "      <td>1915</td>\n",
       "      <td>16.9</td>\n",
       "      <td>23.5</td>\n",
       "      <td>42.7</td>\n",
       "      <td>106.0</td>\n",
       "      <td>154.5</td>\n",
       "      <td>696.1</td>\n",
       "      <td>775.6</td>\n",
       "      <td>298.8</td>\n",
       "      <td>396.6</td>\n",
       "      <td>196.6</td>\n",
       "      <td>302.5</td>\n",
       "      <td>14.9</td>\n",
       "    </tr>\n",
       "    <tr>\n",
       "      <th>1</th>\n",
       "      <td>1916</td>\n",
       "      <td>0.0</td>\n",
       "      <td>7.8</td>\n",
       "      <td>22.0</td>\n",
       "      <td>82.4</td>\n",
       "      <td>199.0</td>\n",
       "      <td>920.2</td>\n",
       "      <td>513.9</td>\n",
       "      <td>396.9</td>\n",
       "      <td>339.3</td>\n",
       "      <td>320.7</td>\n",
       "      <td>134.3</td>\n",
       "      <td>8.9</td>\n",
       "    </tr>\n",
       "    <tr>\n",
       "      <th>2</th>\n",
       "      <td>1917</td>\n",
       "      <td>2.9</td>\n",
       "      <td>47.6</td>\n",
       "      <td>79.4</td>\n",
       "      <td>38.1</td>\n",
       "      <td>122.9</td>\n",
       "      <td>703.7</td>\n",
       "      <td>342.7</td>\n",
       "      <td>335.1</td>\n",
       "      <td>470.3</td>\n",
       "      <td>264.1</td>\n",
       "      <td>256.4</td>\n",
       "      <td>41.6</td>\n",
       "    </tr>\n",
       "    <tr>\n",
       "      <th>3</th>\n",
       "      <td>1918</td>\n",
       "      <td>42.9</td>\n",
       "      <td>5.0</td>\n",
       "      <td>32.8</td>\n",
       "      <td>51.3</td>\n",
       "      <td>683.0</td>\n",
       "      <td>464.3</td>\n",
       "      <td>167.5</td>\n",
       "      <td>376.0</td>\n",
       "      <td>96.4</td>\n",
       "      <td>233.2</td>\n",
       "      <td>295.4</td>\n",
       "      <td>54.1</td>\n",
       "    </tr>\n",
       "    <tr>\n",
       "      <th>4</th>\n",
       "      <td>1919</td>\n",
       "      <td>43.0</td>\n",
       "      <td>6.1</td>\n",
       "      <td>33.9</td>\n",
       "      <td>65.9</td>\n",
       "      <td>247.0</td>\n",
       "      <td>636.8</td>\n",
       "      <td>648.0</td>\n",
       "      <td>484.2</td>\n",
       "      <td>255.9</td>\n",
       "      <td>249.2</td>\n",
       "      <td>280.1</td>\n",
       "      <td>53.0</td>\n",
       "    </tr>\n",
       "  </tbody>\n",
       "</table>\n",
       "</div>"
      ],
      "text/plain": [
       "   YEAR   JAN   FEB   MAR    APR    MAY    JUN    JUL    AUG    SEP    OCT  \\\n",
       "0  1915  16.9  23.5  42.7  106.0  154.5  696.1  775.6  298.8  396.6  196.6   \n",
       "1  1916   0.0   7.8  22.0   82.4  199.0  920.2  513.9  396.9  339.3  320.7   \n",
       "2  1917   2.9  47.6  79.4   38.1  122.9  703.7  342.7  335.1  470.3  264.1   \n",
       "3  1918  42.9   5.0  32.8   51.3  683.0  464.3  167.5  376.0   96.4  233.2   \n",
       "4  1919  43.0   6.1  33.9   65.9  247.0  636.8  648.0  484.2  255.9  249.2   \n",
       "\n",
       "     NOV   DEC  \n",
       "0  302.5  14.9  \n",
       "1  134.3   8.9  \n",
       "2  256.4  41.6  \n",
       "3  295.4  54.1  \n",
       "4  280.1  53.0  "
      ]
     },
     "execution_count": 87,
     "metadata": {},
     "output_type": "execute_result"
    }
   ],
   "source": [
    "# Seperating the data which we are gonna use for prediction.\n",
    "x=data.iloc[:,1:14]\n",
    "x.head()"
   ]
  },
  {
   "cell_type": "code",
   "execution_count": 88,
   "metadata": {},
   "outputs": [
    {
     "data": {
      "text/plain": [
       "0      1\n",
       "1      1\n",
       "2      0\n",
       "3      0\n",
       "4      1\n",
       "      ..\n",
       "99     1\n",
       "100    0\n",
       "101    0\n",
       "102    0\n",
       "103    1\n",
       "Name: FLOODS, Length: 104, dtype: int64"
      ]
     },
     "execution_count": 88,
     "metadata": {},
     "output_type": "execute_result"
    }
   ],
   "source": [
    "# Now seperate the flood label from the dataset.\n",
    "y=data.iloc[:,-1]\n",
    "y"
   ]
  },
  {
   "cell_type": "markdown",
   "metadata": {},
   "source": [
    "# Plotting the Data\n"
   ]
  },
  {
   "cell_type": "code",
   "execution_count": 89,
   "metadata": {},
   "outputs": [
    {
     "data": {
      "image/png": "[encoded data removed]",
      "text/plain": [
       "<Figure size 432x288 with 4 Axes>"
      ]
     },
     "metadata": {
      "needs_background": "light"
     },
     "output_type": "display_data"
    }
   ],
   "source": [
    "import matplotlib.pyplot as plt   \n",
    "# sets the backend of matplotlib to the 'inline' backend. \n",
    "%matplotlib inline                   \n",
    "c = data[['JUN','JUL','AUG','SEP']]\n",
    "c.hist()\n",
    "plt.show()\n",
    "# How the rainfall index vary during rainy season"
   ]
  },
  {
   "cell_type": "code",
   "execution_count": 90,
   "metadata": {},
   "outputs": [
    {
     "data": {
      "image/png": "[encoded data removed]",
      "text/plain": [
       "<Figure size 1008x432 with 1 Axes>"
      ]
     },
     "metadata": {
      "needs_background": "light"
     },
     "output_type": "display_data"
    }
   ],
   "source": [
    "ax = data[['JAN', 'FEB', 'MAR', 'APR','MAY', 'JUN', 'AUG', 'SEP', 'OCT','NOV','DEC']].mean().plot.bar(width=0.5,edgecolor='k',align='center',linewidth=2,figsize=(14,6))\n",
    "plt.xlabel('Month',fontsize=30)\n",
    "plt.ylabel('Monthly Rainfall',fontsize=20)\n",
    "plt.title('Rainfall in Douala for all Months',fontsize=25)\n",
    "ax.tick_params(labelsize=20)\n",
    "plt.grid()\n",
    "plt.ioff()"
   ]
  },
  {
   "cell_type": "markdown",
   "metadata": {},
   "source": [
    "# Using sklearn to develop the ML Model"
   ]
  },
  {
   "cell_type": "code",
   "execution_count": 91,
   "metadata": {},
   "outputs": [
    {
     "data": {
      "text/plain": [
       "array([[0.        , 0.20239521, 0.29746835, ..., 0.25650781, 0.81113439,\n",
       "        0.07319486],\n",
       "       [0.00970874, 0.        , 0.09873418, ..., 0.50500601, 0.30769231,\n",
       "        0.04352127],\n",
       "       [0.01941748, 0.03473054, 0.60253165, ..., 0.39167   , 0.67315175,\n",
       "        0.20524233],\n",
       "       ...,\n",
       "       [0.98058252, 0.02874251, 0.04810127, ..., 0.31517821, 0.28105358,\n",
       "        0.11622156],\n",
       "       [0.99029126, 0.02275449, 0.08607595, ..., 0.24809772, 0.18258007,\n",
       "        0.18793274],\n",
       "       [1.        , 0.34850299, 0.65949367, ..., 0.57589107, 0.28105358,\n",
       "        0.3214639 ]])"
      ]
     },
     "execution_count": 91,
     "metadata": {},
     "output_type": "execute_result"
    }
   ],
   "source": [
    "# Scaling the data between 0 and 1.\n",
    "from sklearn import preprocessing\n",
    "minmax = preprocessing.MinMaxScaler(feature_range=(0,1))\n",
    "minmax.fit(x).transform(x)"
   ]
  },
  {
   "cell_type": "code",
   "execution_count": 92,
   "metadata": {},
   "outputs": [
    {
     "data": {
      "text/html": [
       "<div>\n",
       "<style scoped>\n",
       "    .dataframe tbody tr th:only-of-type {\n",
       "        vertical-align: middle;\n",
       "    }\n",
       "\n",
       "    .dataframe tbody tr th {\n",
       "        vertical-align: top;\n",
       "    }\n",
       "\n",
       "    .dataframe thead th {\n",
       "        text-align: right;\n",
       "    }\n",
       "</style>\n",
       "<table border=\"1\" class=\"dataframe\">\n",
       "  <thead>\n",
       "    <tr style=\"text-align: right;\">\n",
       "      <th></th>\n",
       "      <th>YEAR</th>\n",
       "      <th>JAN</th>\n",
       "      <th>FEB</th>\n",
       "      <th>MAR</th>\n",
       "      <th>APR</th>\n",
       "      <th>MAY</th>\n",
       "      <th>JUN</th>\n",
       "      <th>JUL</th>\n",
       "      <th>AUG</th>\n",
       "      <th>SEP</th>\n",
       "      <th>OCT</th>\n",
       "      <th>NOV</th>\n",
       "      <th>DEC</th>\n",
       "    </tr>\n",
       "  </thead>\n",
       "  <tbody>\n",
       "    <tr>\n",
       "      <th>21</th>\n",
       "      <td>1936</td>\n",
       "      <td>1.2</td>\n",
       "      <td>16.5</td>\n",
       "      <td>116.0</td>\n",
       "      <td>34.0</td>\n",
       "      <td>466.5</td>\n",
       "      <td>620.8</td>\n",
       "      <td>672.1</td>\n",
       "      <td>367.9</td>\n",
       "      <td>286.7</td>\n",
       "      <td>231.7</td>\n",
       "      <td>211.1</td>\n",
       "      <td>18.6</td>\n",
       "    </tr>\n",
       "    <tr>\n",
       "      <th>30</th>\n",
       "      <td>1945</td>\n",
       "      <td>4.4</td>\n",
       "      <td>9.9</td>\n",
       "      <td>12.7</td>\n",
       "      <td>104.1</td>\n",
       "      <td>53.4</td>\n",
       "      <td>549.8</td>\n",
       "      <td>704.0</td>\n",
       "      <td>351.8</td>\n",
       "      <td>110.9</td>\n",
       "      <td>253.8</td>\n",
       "      <td>259.5</td>\n",
       "      <td>18.0</td>\n",
       "    </tr>\n",
       "    <tr>\n",
       "      <th>10</th>\n",
       "      <td>1925</td>\n",
       "      <td>4.1</td>\n",
       "      <td>16.5</td>\n",
       "      <td>76.9</td>\n",
       "      <td>93.4</td>\n",
       "      <td>258.2</td>\n",
       "      <td>688.8</td>\n",
       "      <td>593.5</td>\n",
       "      <td>554.1</td>\n",
       "      <td>158.8</td>\n",
       "      <td>295.4</td>\n",
       "      <td>223.7</td>\n",
       "      <td>98.8</td>\n",
       "    </tr>\n",
       "    <tr>\n",
       "      <th>12</th>\n",
       "      <td>1927</td>\n",
       "      <td>18.8</td>\n",
       "      <td>35.3</td>\n",
       "      <td>49.6</td>\n",
       "      <td>86.5</td>\n",
       "      <td>265.4</td>\n",
       "      <td>720.2</td>\n",
       "      <td>888.2</td>\n",
       "      <td>315.0</td>\n",
       "      <td>335.6</td>\n",
       "      <td>135.8</td>\n",
       "      <td>137.6</td>\n",
       "      <td>6.8</td>\n",
       "    </tr>\n",
       "    <tr>\n",
       "      <th>33</th>\n",
       "      <td>1948</td>\n",
       "      <td>43.0</td>\n",
       "      <td>8.3</td>\n",
       "      <td>48.2</td>\n",
       "      <td>125.0</td>\n",
       "      <td>212.3</td>\n",
       "      <td>910.2</td>\n",
       "      <td>619.0</td>\n",
       "      <td>487.9</td>\n",
       "      <td>166.6</td>\n",
       "      <td>183.9</td>\n",
       "      <td>215.6</td>\n",
       "      <td>19.2</td>\n",
       "    </tr>\n",
       "  </tbody>\n",
       "</table>\n",
       "</div>"
      ],
      "text/plain": [
       "    YEAR   JAN   FEB    MAR    APR    MAY    JUN    JUL    AUG    SEP    OCT  \\\n",
       "21  1936   1.2  16.5  116.0   34.0  466.5  620.8  672.1  367.9  286.7  231.7   \n",
       "30  1945   4.4   9.9   12.7  104.1   53.4  549.8  704.0  351.8  110.9  253.8   \n",
       "10  1925   4.1  16.5   76.9   93.4  258.2  688.8  593.5  554.1  158.8  295.4   \n",
       "12  1927  18.8  35.3   49.6   86.5  265.4  720.2  888.2  315.0  335.6  135.8   \n",
       "33  1948  43.0   8.3   48.2  125.0  212.3  910.2  619.0  487.9  166.6  183.9   \n",
       "\n",
       "      NOV   DEC  \n",
       "21  211.1  18.6  \n",
       "30  259.5  18.0  \n",
       "10  223.7  98.8  \n",
       "12  137.6   6.8  \n",
       "33  215.6  19.2  "
      ]
     },
     "execution_count": 92,
     "metadata": {},
     "output_type": "execute_result"
    }
   ],
   "source": [
    "#dividing the dataset into training dataset and test dataset. \n",
    "from sklearn import model_selection,neighbors\n",
    "from sklearn.model_selection import train_test_split\n",
    "x_train,x_test,y_train,y_test=train_test_split(x,y,test_size=0.2)\n",
    "x_train.head()"
   ]
  },
  {
   "cell_type": "code",
   "execution_count": 93,
   "metadata": {},
   "outputs": [
    {
     "data": {
      "text/plain": [
       "YEAR      int64\n",
       "JAN     float64\n",
       "FEB     float64\n",
       "MAR     float64\n",
       "APR     float64\n",
       "MAY     float64\n",
       "JUN     float64\n",
       "JUL     float64\n",
       "AUG     float64\n",
       "SEP     float64\n",
       "OCT     float64\n",
       "NOV     float64\n",
       "DEC     float64\n",
       "dtype: object"
      ]
     },
     "execution_count": 93,
     "metadata": {},
     "output_type": "execute_result"
    }
   ],
   "source": [
    "x_train.dtypes"
   ]
  },
  {
   "cell_type": "code",
   "execution_count": 94,
   "metadata": {},
   "outputs": [
    {
     "data": {
      "text/html": [
       "<div>\n",
       "<style scoped>\n",
       "    .dataframe tbody tr th:only-of-type {\n",
       "        vertical-align: middle;\n",
       "    }\n",
       "\n",
       "    .dataframe tbody tr th {\n",
       "        vertical-align: top;\n",
       "    }\n",
       "\n",
       "    .dataframe thead th {\n",
       "        text-align: right;\n",
       "    }\n",
       "</style>\n",
       "<table border=\"1\" class=\"dataframe\">\n",
       "  <thead>\n",
       "    <tr style=\"text-align: right;\">\n",
       "      <th></th>\n",
       "      <th>YEAR</th>\n",
       "      <th>JAN</th>\n",
       "      <th>FEB</th>\n",
       "      <th>MAR</th>\n",
       "      <th>APR</th>\n",
       "      <th>MAY</th>\n",
       "      <th>JUN</th>\n",
       "      <th>JUL</th>\n",
       "      <th>AUG</th>\n",
       "      <th>SEP</th>\n",
       "      <th>OCT</th>\n",
       "      <th>NOV</th>\n",
       "      <th>DEC</th>\n",
       "    </tr>\n",
       "  </thead>\n",
       "  <tbody>\n",
       "    <tr>\n",
       "      <th>43</th>\n",
       "      <td>1958</td>\n",
       "      <td>4.4</td>\n",
       "      <td>19.3</td>\n",
       "      <td>57.3</td>\n",
       "      <td>135.1</td>\n",
       "      <td>353.5</td>\n",
       "      <td>713.3</td>\n",
       "      <td>622.7</td>\n",
       "      <td>526.6</td>\n",
       "      <td>86.1</td>\n",
       "      <td>191.0</td>\n",
       "      <td>206.1</td>\n",
       "      <td>7.7</td>\n",
       "    </tr>\n",
       "    <tr>\n",
       "      <th>62</th>\n",
       "      <td>1977</td>\n",
       "      <td>1.1</td>\n",
       "      <td>15.7</td>\n",
       "      <td>28.3</td>\n",
       "      <td>102.3</td>\n",
       "      <td>306.4</td>\n",
       "      <td>599.6</td>\n",
       "      <td>753.3</td>\n",
       "      <td>234.2</td>\n",
       "      <td>201.3</td>\n",
       "      <td>437.0</td>\n",
       "      <td>361.7</td>\n",
       "      <td>6.7</td>\n",
       "    </tr>\n",
       "    <tr>\n",
       "      <th>27</th>\n",
       "      <td>1942</td>\n",
       "      <td>2.4</td>\n",
       "      <td>4.7</td>\n",
       "      <td>23.2</td>\n",
       "      <td>180.3</td>\n",
       "      <td>191.9</td>\n",
       "      <td>813.6</td>\n",
       "      <td>828.8</td>\n",
       "      <td>329.3</td>\n",
       "      <td>99.8</td>\n",
       "      <td>374.4</td>\n",
       "      <td>84.7</td>\n",
       "      <td>117.9</td>\n",
       "    </tr>\n",
       "    <tr>\n",
       "      <th>15</th>\n",
       "      <td>1930</td>\n",
       "      <td>10.8</td>\n",
       "      <td>10.8</td>\n",
       "      <td>39.0</td>\n",
       "      <td>102.7</td>\n",
       "      <td>404.9</td>\n",
       "      <td>633.1</td>\n",
       "      <td>401.7</td>\n",
       "      <td>273.4</td>\n",
       "      <td>411.5</td>\n",
       "      <td>433.9</td>\n",
       "      <td>207.0</td>\n",
       "      <td>89.2</td>\n",
       "    </tr>\n",
       "    <tr>\n",
       "      <th>86</th>\n",
       "      <td>2001</td>\n",
       "      <td>16.5</td>\n",
       "      <td>28.3</td>\n",
       "      <td>7.0</td>\n",
       "      <td>238.0</td>\n",
       "      <td>238.6</td>\n",
       "      <td>715.3</td>\n",
       "      <td>598.5</td>\n",
       "      <td>361.3</td>\n",
       "      <td>216.8</td>\n",
       "      <td>319.6</td>\n",
       "      <td>181.0</td>\n",
       "      <td>10.1</td>\n",
       "    </tr>\n",
       "  </tbody>\n",
       "</table>\n",
       "</div>"
      ],
      "text/plain": [
       "    YEAR   JAN   FEB   MAR    APR    MAY    JUN    JUL    AUG    SEP    OCT  \\\n",
       "43  1958   4.4  19.3  57.3  135.1  353.5  713.3  622.7  526.6   86.1  191.0   \n",
       "62  1977   1.1  15.7  28.3  102.3  306.4  599.6  753.3  234.2  201.3  437.0   \n",
       "27  1942   2.4   4.7  23.2  180.3  191.9  813.6  828.8  329.3   99.8  374.4   \n",
       "15  1930  10.8  10.8  39.0  102.7  404.9  633.1  401.7  273.4  411.5  433.9   \n",
       "86  2001  16.5  28.3   7.0  238.0  238.6  715.3  598.5  361.3  216.8  319.6   \n",
       "\n",
       "      NOV    DEC  \n",
       "43  206.1    7.7  \n",
       "62  361.7    6.7  \n",
       "27   84.7  117.9  \n",
       "15  207.0   89.2  \n",
       "86  181.0   10.1  "
      ]
     },
     "execution_count": 94,
     "metadata": {},
     "output_type": "execute_result"
    }
   ],
   "source": [
    "x_test.head()"
   ]
  },
  {
   "cell_type": "code",
   "execution_count": 95,
   "metadata": {},
   "outputs": [
    {
     "data": {
      "text/plain": [
       "21    1\n",
       "30    0\n",
       "10    1\n",
       "12    1\n",
       "33    1\n",
       "     ..\n",
       "48    0\n",
       "73    0\n",
       "77    1\n",
       "57    0\n",
       "11    1\n",
       "Name: FLOODS, Length: 83, dtype: int32"
      ]
     },
     "execution_count": 95,
     "metadata": {},
     "output_type": "execute_result"
    }
   ],
   "source": [
    "# type casting.\n",
    "y_train=y_train.astype('int')\n",
    "y_train"
   ]
  },
  {
   "cell_type": "code",
   "execution_count": 96,
   "metadata": {},
   "outputs": [
    {
     "data": {
      "text/plain": [
       "43     1\n",
       "62     1\n",
       "27     1\n",
       "15     1\n",
       "86     0\n",
       "32     1\n",
       "31     1\n",
       "50     0\n",
       "42     1\n",
       "102    0\n",
       "98     1\n",
       "75     0\n",
       "54     0\n",
       "40     1\n",
       "68     0\n",
       "97     0\n",
       "4      1\n",
       "103    1\n",
       "72     0\n",
       "69     0\n",
       "8      1\n",
       "Name: FLOODS, dtype: int32"
      ]
     },
     "execution_count": 96,
     "metadata": {},
     "output_type": "execute_result"
    }
   ],
   "source": [
    "y_test=y_test.astype('int')\n",
    "y_test"
   ]
  },
  {
   "cell_type": "markdown",
   "metadata": {},
   "source": [
    "# Using Prediction Algorithms:"
   ]
  },
  {
   "cell_type": "markdown",
   "metadata": {},
   "source": [
    "## KNN classifier to predict"
   ]
  },
  {
   "cell_type": "code",
   "execution_count": 97,
   "metadata": {},
   "outputs": [
    {
     "data": {
      "text/plain": [
       "KNeighborsClassifier()"
      ]
     },
     "execution_count": 97,
     "metadata": {},
     "output_type": "execute_result"
    }
   ],
   "source": [
    "clf=neighbors.KNeighborsClassifier()\n",
    "clf.fit(x_train,y_train)"
   ]
  },
  {
   "cell_type": "code",
   "execution_count": 98,
   "metadata": {},
   "outputs": [
    {
     "name": "stdout",
     "output_type": "stream",
     "text": [
      "Predicted Values for the Floods:\n"
     ]
    },
    {
     "data": {
      "text/plain": [
       "array([1, 0, 1, 0, 0, 0, 1, 0, 1, 0, 1, 0, 0, 1, 0, 0, 1, 1, 0, 0, 1])"
      ]
     },
     "execution_count": 98,
     "metadata": {},
     "output_type": "execute_result"
    }
   ],
   "source": [
    "# Predicted chance of Flood.\n",
    "print(\"Predicted Values for the Floods:\")\n",
    "y_predict=clf.predict(x_test)\n",
    "y_predict"
   ]
  },
  {
   "cell_type": "code",
   "execution_count": 99,
   "metadata": {},
   "outputs": [
    {
     "name": "stdout",
     "output_type": "stream",
     "text": [
      "Actual Values for the Floods:\n",
      "43     1\n",
      "62     1\n",
      "27     1\n",
      "15     1\n",
      "86     0\n",
      "32     1\n",
      "31     1\n",
      "50     0\n",
      "42     1\n",
      "102    0\n",
      "98     1\n",
      "75     0\n",
      "54     0\n",
      "40     1\n",
      "68     0\n",
      "97     0\n",
      "4      1\n",
      "103    1\n",
      "72     0\n",
      "69     0\n",
      "8      1\n",
      "Name: FLOODS, dtype: int32\n"
     ]
    }
   ],
   "source": [
    "print(\"Actual Values for the Floods:\")\n",
    "print(y_test)"
   ]
  },
  {
   "cell_type": "code",
   "execution_count": 100,
   "metadata": {},
   "outputs": [
    {
     "name": "stdout",
     "output_type": "stream",
     "text": [
      "List of the Predicted Values:\n",
      "[1 0 1 0 0 0 1 0 1 0 1 0 0 1 0 0 1 1 0 0 1]\n"
     ]
    }
   ],
   "source": [
    "print(\"List of the Predicted Values:\")\n",
    "print(y_predict)"
   ]
  },
  {
   "cell_type": "code",
   "execution_count": 101,
   "metadata": {},
   "outputs": [],
   "source": [
    "# Scaling the dataset.\n",
    "from sklearn.model_selection import cross_val_score,cross_val_predict\n",
    "x_train_std= minmax.fit_transform(x_train)\n",
    "x_test_std= minmax.fit_transform(x_test)\n",
    "knn_acc=cross_val_score(clf,x_train_std,y_train,cv=3,scoring='accuracy',n_jobs=-1)\n",
    "knn_proba=cross_val_predict(clf,x_train_std,y_train,cv=3,method='predict_proba')"
   ]
  },
  {
   "cell_type": "code",
   "execution_count": 102,
   "metadata": {},
   "outputs": [
    {
     "data": {
      "text/plain": [
       "array([0.75      , 0.64285714, 0.62962963])"
      ]
     },
     "execution_count": 102,
     "metadata": {},
     "output_type": "execute_result"
    }
   ],
   "source": [
    "knn_acc"
   ]
  },
  {
   "cell_type": "code",
   "execution_count": 103,
   "metadata": {},
   "outputs": [
    {
     "data": {
      "text/plain": [
       "array([[0. , 1. ],\n",
       "       [0.6, 0.4],\n",
       "       [0.6, 0.4],\n",
       "       [0. , 1. ],\n",
       "       [0.4, 0.6],\n",
       "       [0.6, 0.4],\n",
       "       [0.4, 0.6],\n",
       "       [0.8, 0.2],\n",
       "       [1. , 0. ],\n",
       "       [0. , 1. ],\n",
       "       [0.6, 0.4],\n",
       "       [0.2, 0.8],\n",
       "       [0. , 1. ],\n",
       "       [0.8, 0.2],\n",
       "       [0.8, 0.2],\n",
       "       [0.6, 0.4],\n",
       "       [0.6, 0.4],\n",
       "       [0.8, 0.2],\n",
       "       [0.6, 0.4],\n",
       "       [0.4, 0.6],\n",
       "       [0.6, 0.4],\n",
       "       [0.8, 0.2],\n",
       "       [0.8, 0.2],\n",
       "       [0.6, 0.4],\n",
       "       [0.8, 0.2],\n",
       "       [0.6, 0.4],\n",
       "       [0.8, 0.2],\n",
       "       [0.4, 0.6],\n",
       "       [0.6, 0.4],\n",
       "       [0.4, 0.6],\n",
       "       [0.6, 0.4],\n",
       "       [0.6, 0.4],\n",
       "       [0.4, 0.6],\n",
       "       [0.6, 0.4],\n",
       "       [0.6, 0.4],\n",
       "       [0.6, 0.4],\n",
       "       [0.6, 0.4],\n",
       "       [1. , 0. ],\n",
       "       [0.8, 0.2],\n",
       "       [0.6, 0.4],\n",
       "       [1. , 0. ],\n",
       "       [0.8, 0.2],\n",
       "       [0.2, 0.8],\n",
       "       [0.8, 0.2],\n",
       "       [0.2, 0.8],\n",
       "       [0. , 1. ],\n",
       "       [0.8, 0.2],\n",
       "       [0.2, 0.8],\n",
       "       [0.8, 0.2],\n",
       "       [1. , 0. ],\n",
       "       [0.2, 0.8],\n",
       "       [0.8, 0.2],\n",
       "       [0.6, 0.4],\n",
       "       [0.2, 0.8],\n",
       "       [1. , 0. ],\n",
       "       [0.8, 0.2],\n",
       "       [1. , 0. ],\n",
       "       [0.8, 0.2],\n",
       "       [0.8, 0.2],\n",
       "       [0.4, 0.6],\n",
       "       [0.4, 0.6],\n",
       "       [0.8, 0.2],\n",
       "       [0.2, 0.8],\n",
       "       [0.4, 0.6],\n",
       "       [1. , 0. ],\n",
       "       [0.6, 0.4],\n",
       "       [0.4, 0.6],\n",
       "       [1. , 0. ],\n",
       "       [0.6, 0.4],\n",
       "       [0. , 1. ],\n",
       "       [1. , 0. ],\n",
       "       [0.6, 0.4],\n",
       "       [0.6, 0.4],\n",
       "       [0.8, 0.2],\n",
       "       [0.6, 0.4],\n",
       "       [0.8, 0.2],\n",
       "       [1. , 0. ],\n",
       "       [0.8, 0.2],\n",
       "       [0.8, 0.2],\n",
       "       [0.6, 0.4],\n",
       "       [0.8, 0.2],\n",
       "       [0.4, 0.6],\n",
       "       [0.6, 0.4]])"
      ]
     },
     "execution_count": 103,
     "metadata": {},
     "output_type": "execute_result"
    }
   ],
   "source": [
    "knn_proba"
   ]
  },
  {
   "cell_type": "markdown",
   "metadata": {},
   "source": [
    "### How accurate is our model?"
   ]
  },
  {
   "cell_type": "code",
   "execution_count": 104,
   "metadata": {},
   "outputs": [
    {
     "name": "stdout",
     "output_type": "stream",
     "text": [
      "\n",
      "Accuracy Score:85.714286\n",
      "Recall Score:75.000000\n",
      "ROC score:87.500000\n",
      "[[9 0]\n",
      " [3 9]]\n"
     ]
    }
   ],
   "source": [
    "from sklearn.metrics import accuracy_score,recall_score,roc_auc_score,confusion_matrix\n",
    "print(\"\\nAccuracy Score:%f\"%(accuracy_score(y_test,y_predict)*100))\n",
    "print(\"Recall Score:%f\"%(recall_score(y_test,y_predict)*100))\n",
    "print(\"ROC score:%f\"%(roc_auc_score(y_test,y_predict)*100))\n",
    "print(confusion_matrix(y_test,y_predict))"
   ]
  },
  {
   "cell_type": "markdown",
   "metadata": {},
   "source": [
    "## Logistic Regression to predict"
   ]
  },
  {
   "cell_type": "code",
   "execution_count": 105,
   "metadata": {},
   "outputs": [],
   "source": [
    "x_train_std=minmax.fit_transform(x_train)         # fit the values in between 0 and 1.\n",
    "y_train_std=minmax.transform(x_test)\n",
    "\n",
    "from sklearn.model_selection import cross_val_score,cross_val_predict\n",
    "from sklearn.linear_model import LogisticRegression\n",
    "lr=LogisticRegression()\n",
    "lr.fit(x_train,y_train)\n",
    "lr_acc=cross_val_score(lr,x_train_std,y_train,cv=3,scoring='accuracy',n_jobs=-1)\n",
    "lr_proba=cross_val_predict(lr,x_train_std,y_train,cv=3,method='predict_proba')"
   ]
  },
  {
   "cell_type": "code",
   "execution_count": 106,
   "metadata": {},
   "outputs": [
    {
     "data": {
      "text/plain": [
       "array([0.89285714, 0.78571429, 0.88888889])"
      ]
     },
     "execution_count": 106,
     "metadata": {},
     "output_type": "execute_result"
    }
   ],
   "source": [
    "lr_acc"
   ]
  },
  {
   "cell_type": "code",
   "execution_count": 107,
   "metadata": {},
   "outputs": [
    {
     "data": {
      "text/plain": [
       "array([[0.49166103, 0.50833897],\n",
       "       [0.61771334, 0.38228666],\n",
       "       [0.48851549, 0.51148451],\n",
       "       [0.42262693, 0.57737307],\n",
       "       [0.40746319, 0.59253681],\n",
       "       [0.40817603, 0.59182397],\n",
       "       [0.43087321, 0.56912679],\n",
       "       [0.56926235, 0.43073765],\n",
       "       [0.63862799, 0.36137201],\n",
       "       [0.13111413, 0.86888587],\n",
       "       [0.48792996, 0.51207004],\n",
       "       [0.35330715, 0.64669285],\n",
       "       [0.1480289 , 0.8519711 ],\n",
       "       [0.73634864, 0.26365136],\n",
       "       [0.64492786, 0.35507214],\n",
       "       [0.35603564, 0.64396436],\n",
       "       [0.38911778, 0.61088222],\n",
       "       [0.5647283 , 0.4352717 ],\n",
       "       [0.76965594, 0.23034406],\n",
       "       [0.38616744, 0.61383256],\n",
       "       [0.41436554, 0.58563446],\n",
       "       [0.84036107, 0.15963893],\n",
       "       [0.64957798, 0.35042202],\n",
       "       [0.3463147 , 0.6536853 ],\n",
       "       [0.52736137, 0.47263863],\n",
       "       [0.2962128 , 0.7037872 ],\n",
       "       [0.4117974 , 0.5882026 ],\n",
       "       [0.42388148, 0.57611852],\n",
       "       [0.68017464, 0.31982536],\n",
       "       [0.62082948, 0.37917052],\n",
       "       [0.51787078, 0.48212922],\n",
       "       [0.64760788, 0.35239212],\n",
       "       [0.266983  , 0.733017  ],\n",
       "       [0.48954522, 0.51045478],\n",
       "       [0.49552952, 0.50447048],\n",
       "       [0.56664229, 0.43335771],\n",
       "       [0.53340705, 0.46659295],\n",
       "       [0.78022739, 0.21977261],\n",
       "       [0.55980396, 0.44019604],\n",
       "       [0.44509321, 0.55490679],\n",
       "       [0.72676815, 0.27323185],\n",
       "       [0.63014444, 0.36985556],\n",
       "       [0.29318492, 0.70681508],\n",
       "       [0.59676231, 0.40323769],\n",
       "       [0.20717511, 0.79282489],\n",
       "       [0.35221261, 0.64778739],\n",
       "       [0.65499607, 0.34500393],\n",
       "       [0.32745305, 0.67254695],\n",
       "       [0.53911711, 0.46088289],\n",
       "       [0.78684931, 0.21315069],\n",
       "       [0.30203091, 0.69796909],\n",
       "       [0.58251365, 0.41748635],\n",
       "       [0.44310256, 0.55689744],\n",
       "       [0.49112782, 0.50887218],\n",
       "       [0.6262007 , 0.3737993 ],\n",
       "       [0.72708554, 0.27291446],\n",
       "       [0.80890287, 0.19109713],\n",
       "       [0.73540533, 0.26459467],\n",
       "       [0.67793545, 0.32206455],\n",
       "       [0.34812989, 0.65187011],\n",
       "       [0.56717443, 0.43282557],\n",
       "       [0.77421706, 0.22578294],\n",
       "       [0.40956204, 0.59043796],\n",
       "       [0.42920629, 0.57079371],\n",
       "       [0.60044416, 0.39955584],\n",
       "       [0.54816628, 0.45183372],\n",
       "       [0.33052155, 0.66947845],\n",
       "       [0.79949378, 0.20050622],\n",
       "       [0.61764845, 0.38235155],\n",
       "       [0.13201101, 0.86798899],\n",
       "       [0.61946623, 0.38053377],\n",
       "       [0.38740151, 0.61259849],\n",
       "       [0.54417154, 0.45582846],\n",
       "       [0.44566703, 0.55433297],\n",
       "       [0.51901996, 0.48098004],\n",
       "       [0.69134742, 0.30865258],\n",
       "       [0.70713475, 0.29286525],\n",
       "       [0.43165859, 0.56834141],\n",
       "       [0.64616167, 0.35383833],\n",
       "       [0.6107709 , 0.3892291 ],\n",
       "       [0.43789351, 0.56210649],\n",
       "       [0.53900591, 0.46099409],\n",
       "       [0.47377401, 0.52622599]])"
      ]
     },
     "execution_count": 107,
     "metadata": {},
     "output_type": "execute_result"
    }
   ],
   "source": [
    "lr_proba"
   ]
  },
  {
   "cell_type": "code",
   "execution_count": 108,
   "metadata": {},
   "outputs": [
    {
     "data": {
      "text/plain": [
       "array([1, 1, 1, 1, 0, 1, 1, 0, 1, 0, 1, 0, 0, 1, 0, 0, 1, 1, 0, 0, 1])"
      ]
     },
     "execution_count": 108,
     "metadata": {},
     "output_type": "execute_result"
    }
   ],
   "source": [
    "y_pred=lr.predict(x_test)\n",
    "y_pred"
   ]
  },
  {
   "cell_type": "code",
   "execution_count": 109,
   "metadata": {},
   "outputs": [
    {
     "name": "stdout",
     "output_type": "stream",
     "text": [
      "[1 1 1 1 0 1 1 0 1 0 1 0 0 1 0 0 1 1 0 0 1]\n"
     ]
    }
   ],
   "source": [
    "print(y_test.values)"
   ]
  },
  {
   "cell_type": "code",
   "execution_count": 110,
   "metadata": {},
   "outputs": [
    {
     "name": "stdout",
     "output_type": "stream",
     "text": [
      "List of the Predicted Values:\n",
      "[1 1 1 1 0 1 1 0 1 0 1 0 0 1 0 0 1 1 0 0 1]\n"
     ]
    }
   ],
   "source": [
    "print(\"List of the Predicted Values:\")\n",
    "print(y_pred)"
   ]
  },
  {
   "cell_type": "markdown",
   "metadata": {},
   "source": [
    "### Accuracy and Efficiency of our Model "
   ]
  },
  {
   "cell_type": "code",
   "execution_count": 111,
   "metadata": {},
   "outputs": [
    {
     "name": "stdout",
     "output_type": "stream",
     "text": [
      "\n",
      "accuracy score:100.000000\n",
      "recall score:100.000000\n",
      "roc score:100.000000\n",
      "[[ 9  0]\n",
      " [ 0 12]]\n"
     ]
    }
   ],
   "source": [
    "from sklearn.metrics import accuracy_score,recall_score,roc_auc_score,confusion_matrix\n",
    "print(\"\\naccuracy score:%f\"%(accuracy_score(y_test,y_pred)*100))\n",
    "print(\"recall score:%f\"%(recall_score(y_test,y_pred)*100))\n",
    "print(\"roc score:%f\"%(roc_auc_score(y_test,y_pred)*100))\n",
    "print(confusion_matrix(y_test,y_pred))"
   ]
  },
  {
   "cell_type": "markdown",
   "metadata": {},
   "source": [
    "## Support Vector Classification to predict"
   ]
  },
  {
   "cell_type": "code",
   "execution_count": 112,
   "metadata": {},
   "outputs": [],
   "source": [
    "from sklearn.svm import SVC\n",
    "svc=SVC(kernel='rbf',probability=True)\n",
    "svc_classifier=svc.fit(x_train,y_train)\n",
    "svc_acc=cross_val_score(svc_classifier,x_train_std,y_train,cv=3,scoring=\"accuracy\",n_jobs=-1)\n",
    "svc_proba=cross_val_predict(svc_classifier,x_train_std,y_train,cv=3,method='predict_proba')"
   ]
  },
  {
   "cell_type": "code",
   "execution_count": 113,
   "metadata": {},
   "outputs": [
    {
     "data": {
      "text/plain": [
       "array([0.96428571, 0.78571429, 0.81481481])"
      ]
     },
     "execution_count": 113,
     "metadata": {},
     "output_type": "execute_result"
    }
   ],
   "source": [
    "svc_acc"
   ]
  },
  {
   "cell_type": "code",
   "execution_count": 114,
   "metadata": {},
   "outputs": [
    {
     "data": {
      "text/plain": [
       "array([[2.40972270e-01, 7.59027730e-01],\n",
       "       [7.89513986e-01, 2.10486014e-01],\n",
       "       [2.98517449e-01, 7.01482551e-01],\n",
       "       [3.97470674e-02, 9.60252933e-01],\n",
       "       [5.23188907e-02, 9.47681109e-01],\n",
       "       [3.73572801e-01, 6.26427199e-01],\n",
       "       [3.83596433e-01, 6.16403567e-01],\n",
       "       [7.24915389e-01, 2.75084611e-01],\n",
       "       [9.51752155e-01, 4.82478450e-02],\n",
       "       [2.58981404e-03, 9.97410186e-01],\n",
       "       [6.71326922e-01, 3.28673078e-01],\n",
       "       [7.08807985e-02, 9.29119201e-01],\n",
       "       [5.37457187e-07, 9.99999463e-01],\n",
       "       [9.88667582e-01, 1.13324175e-02],\n",
       "       [8.62820364e-01, 1.37179636e-01],\n",
       "       [3.13954975e-01, 6.86045025e-01],\n",
       "       [1.28516643e-01, 8.71483357e-01],\n",
       "       [5.40507088e-01, 4.59492912e-01],\n",
       "       [9.83684909e-01, 1.63150915e-02],\n",
       "       [2.57924585e-01, 7.42075415e-01],\n",
       "       [4.14923105e-01, 5.85076895e-01],\n",
       "       [9.96012828e-01, 3.98717241e-03],\n",
       "       [9.91691495e-01, 8.30850503e-03],\n",
       "       [2.67062264e-01, 7.32937736e-01],\n",
       "       [3.42989795e-01, 6.57010205e-01],\n",
       "       [2.94616266e-01, 7.05383734e-01],\n",
       "       [5.00000000e-01, 5.00000000e-01],\n",
       "       [3.85252457e-01, 6.14747543e-01],\n",
       "       [9.86386851e-01, 1.36131490e-02],\n",
       "       [4.88242944e-01, 5.11757056e-01],\n",
       "       [4.74555311e-01, 5.25444689e-01],\n",
       "       [9.43288225e-01, 5.67117747e-02],\n",
       "       [9.19997663e-02, 9.08000234e-01],\n",
       "       [4.70580898e-01, 5.29419102e-01],\n",
       "       [4.75490927e-01, 5.24509073e-01],\n",
       "       [8.57838723e-01, 1.42161277e-01],\n",
       "       [5.00000000e-01, 5.00000000e-01],\n",
       "       [9.13417382e-01, 8.65826185e-02],\n",
       "       [6.98433032e-01, 3.01566968e-01],\n",
       "       [3.26880586e-01, 6.73119414e-01],\n",
       "       [7.95295824e-01, 2.04704176e-01],\n",
       "       [7.64029316e-01, 2.35970684e-01],\n",
       "       [1.93840563e-01, 8.06159437e-01],\n",
       "       [8.05370162e-01, 1.94629838e-01],\n",
       "       [2.18059398e-02, 9.78194060e-01],\n",
       "       [1.47598924e-01, 8.52401076e-01],\n",
       "       [8.14470850e-01, 1.85529150e-01],\n",
       "       [1.33669043e-01, 8.66330957e-01],\n",
       "       [6.76752764e-01, 3.23247236e-01],\n",
       "       [9.37970067e-01, 6.20299333e-02],\n",
       "       [1.56157944e-01, 8.43842056e-01],\n",
       "       [7.95753215e-01, 2.04246785e-01],\n",
       "       [3.48859631e-01, 6.51140369e-01],\n",
       "       [3.59625813e-01, 6.40374187e-01],\n",
       "       [7.28886528e-01, 2.71113472e-01],\n",
       "       [8.39011928e-01, 1.60988072e-01],\n",
       "       [9.82835225e-01, 1.71647746e-02],\n",
       "       [9.05595524e-01, 9.44044764e-02],\n",
       "       [8.80837985e-01, 1.19162015e-01],\n",
       "       [6.49148485e-02, 9.35085152e-01],\n",
       "       [4.60254700e-01, 5.39745300e-01],\n",
       "       [6.08167530e-01, 3.91832470e-01],\n",
       "       [1.39923887e-01, 8.60076113e-01],\n",
       "       [2.38602076e-01, 7.61397924e-01],\n",
       "       [7.65298248e-01, 2.34701752e-01],\n",
       "       [6.40181161e-01, 3.59818839e-01],\n",
       "       [9.58762101e-02, 9.04123790e-01],\n",
       "       [9.46418602e-01, 5.35813985e-02],\n",
       "       [5.00000000e-01, 5.00000000e-01],\n",
       "       [3.90152510e-02, 9.60984749e-01],\n",
       "       [7.53560360e-01, 2.46439640e-01],\n",
       "       [2.94545428e-01, 7.05454572e-01],\n",
       "       [3.60157825e-01, 6.39842175e-01],\n",
       "       [4.47593262e-01, 5.52406738e-01],\n",
       "       [6.25206023e-01, 3.74793977e-01],\n",
       "       [6.64531599e-01, 3.35468401e-01],\n",
       "       [9.40584517e-01, 5.94154832e-02],\n",
       "       [1.97056997e-01, 8.02943003e-01],\n",
       "       [8.42917341e-01, 1.57082659e-01],\n",
       "       [6.91258160e-01, 3.08741840e-01],\n",
       "       [3.44647971e-01, 6.55352029e-01],\n",
       "       [4.18476183e-01, 5.81523817e-01],\n",
       "       [3.97397088e-01, 6.02602912e-01]])"
      ]
     },
     "execution_count": 114,
     "metadata": {},
     "output_type": "execute_result"
    }
   ],
   "source": [
    "svc_proba"
   ]
  },
  {
   "cell_type": "code",
   "execution_count": 115,
   "metadata": {},
   "outputs": [
    {
     "data": {
      "text/plain": [
       "array([0.75902773, 0.21048601, 0.70148255, 0.96025293, 0.94768111,\n",
       "       0.6264272 , 0.61640357, 0.27508461, 0.04824785, 0.99741019,\n",
       "       0.32867308, 0.9291192 , 0.99999946, 0.01133242, 0.13717964,\n",
       "       0.68604502, 0.87148336, 0.45949291, 0.01631509, 0.74207542,\n",
       "       0.5850769 , 0.00398717, 0.00830851, 0.73293774, 0.65701021,\n",
       "       0.70538373, 0.5       , 0.61474754, 0.01361315, 0.51175706,\n",
       "       0.52544469, 0.05671177, 0.90800023, 0.5294191 , 0.52450907,\n",
       "       0.14216128, 0.5       , 0.08658262, 0.30156697, 0.67311941,\n",
       "       0.20470418, 0.23597068, 0.80615944, 0.19462984, 0.97819406,\n",
       "       0.85240108, 0.18552915, 0.86633096, 0.32324724, 0.06202993,\n",
       "       0.84384206, 0.20424679, 0.65114037, 0.64037419, 0.27111347,\n",
       "       0.16098807, 0.01716477, 0.09440448, 0.11916202, 0.93508515,\n",
       "       0.5397453 , 0.39183247, 0.86007611, 0.76139792, 0.23470175,\n",
       "       0.35981884, 0.90412379, 0.0535814 , 0.5       , 0.96098475,\n",
       "       0.24643964, 0.70545457, 0.63984217, 0.55240674, 0.37479398,\n",
       "       0.3354684 , 0.05941548, 0.802943  , 0.15708266, 0.30874184,\n",
       "       0.65535203, 0.58152382, 0.60260291])"
      ]
     },
     "execution_count": 115,
     "metadata": {},
     "output_type": "execute_result"
    }
   ],
   "source": [
    "svc_scores=svc_proba[:,1]\n",
    "svc_scores"
   ]
  },
  {
   "cell_type": "code",
   "execution_count": 116,
   "metadata": {},
   "outputs": [
    {
     "name": "stdout",
     "output_type": "stream",
     "text": [
      "Actual Flood Values:\n",
      "[1 1 1 1 0 1 1 0 1 0 1 0 0 1 0 0 1 1 0 0 1]\n"
     ]
    }
   ],
   "source": [
    "y_pred=svc_classifier.predict(x_test)\n",
    "print(\"Actual Flood Values:\")\n",
    "print(y_test.values)"
   ]
  },
  {
   "cell_type": "code",
   "execution_count": 117,
   "metadata": {},
   "outputs": [
    {
     "name": "stdout",
     "output_type": "stream",
     "text": [
      "Predicted Flood Values:\n",
      "[1 1 1 0 0 1 1 0 1 0 1 0 0 1 0 0 1 1 0 0 1]\n"
     ]
    }
   ],
   "source": [
    "print(\"Predicted Flood Values:\")\n",
    "print(y_pred)"
   ]
  },
  {
   "cell_type": "markdown",
   "metadata": {},
   "source": [
    "### Accuracy of our model"
   ]
  },
  {
   "cell_type": "code",
   "execution_count": 118,
   "metadata": {},
   "outputs": [
    {
     "name": "stdout",
     "output_type": "stream",
     "text": [
      "\n",
      "accuracy score:95.238095\n",
      "recall score:91.666667\n",
      "roc score:95.833333\n",
      "[[ 9  0]\n",
      " [ 1 11]]\n"
     ]
    }
   ],
   "source": [
    "from sklearn.metrics import accuracy_score,recall_score,roc_auc_score,confusion_matrix\n",
    "print(\"\\naccuracy score:%f\"%(accuracy_score(y_test,y_pred)*100))\n",
    "print(\"recall score:%f\"%(recall_score(y_test,y_pred)*100))\n",
    "print(\"roc score:%f\"%(roc_auc_score(y_test,y_pred)*100))\n",
    "print(confusion_matrix(y_test,y_pred))"
   ]
  },
  {
   "cell_type": "markdown",
   "metadata": {},
   "source": [
    "# Decision Tree Classification to Predict"
   ]
  },
  {
   "cell_type": "code",
   "execution_count": 119,
   "metadata": {},
   "outputs": [
    {
     "data": {
      "text/plain": [
       "array([0.57142857, 0.64285714, 0.62962963])"
      ]
     },
     "execution_count": 119,
     "metadata": {},
     "output_type": "execute_result"
    }
   ],
   "source": [
    "from sklearn.tree import DecisionTreeClassifier\n",
    "dtc_clf=DecisionTreeClassifier()\n",
    "dtc_clf.fit(x_train,y_train)\n",
    "dtc_clf_acc=cross_val_score(dtc_clf,x_train_std,y_train,cv=3,scoring=\"accuracy\",n_jobs=-1)\n",
    "dtc_clf_acc"
   ]
  },
  {
   "cell_type": "code",
   "execution_count": 120,
   "metadata": {},
   "outputs": [
    {
     "name": "stdout",
     "output_type": "stream",
     "text": [
      "Predicted Values:\n"
     ]
    },
    {
     "data": {
      "text/plain": [
       "array([1, 1, 1, 0, 1, 1, 1, 0, 1, 0, 1, 0, 1, 0, 0, 0, 1, 1, 0, 1, 1])"
      ]
     },
     "execution_count": 120,
     "metadata": {},
     "output_type": "execute_result"
    }
   ],
   "source": [
    "print(\"Predicted Values:\")\n",
    "y_pred=dtc_clf.predict(x_test)\n",
    "y_pred"
   ]
  },
  {
   "cell_type": "code",
   "execution_count": 121,
   "metadata": {},
   "outputs": [
    {
     "name": "stdout",
     "output_type": "stream",
     "text": [
      "Actual Values:\n",
      "[1 1 1 1 0 1 1 0 1 0 1 0 0 1 0 0 1 1 0 0 1]\n"
     ]
    }
   ],
   "source": [
    "print(\"Actual Values:\")\n",
    "print(y_test.values)"
   ]
  },
  {
   "cell_type": "markdown",
   "metadata": {},
   "source": [
    "### Printing the Accuracy"
   ]
  },
  {
   "cell_type": "code",
   "execution_count": 122,
   "metadata": {},
   "outputs": [
    {
     "name": "stdout",
     "output_type": "stream",
     "text": [
      "\n",
      "accuracy score:76.190476\n",
      "recall score:83.333333\n",
      "roc score:75.000000\n",
      "[[ 6  3]\n",
      " [ 2 10]]\n"
     ]
    }
   ],
   "source": [
    "from sklearn.metrics import accuracy_score,recall_score,roc_auc_score,confusion_matrix\n",
    "print(\"\\naccuracy score:%f\"%(accuracy_score(y_test,y_pred)*100))\n",
    "print(\"recall score:%f\"%(recall_score(y_test,y_pred)*100))\n",
    "print(\"roc score:%f\"%(roc_auc_score(y_test,y_pred)*100))\n",
    "print(confusion_matrix(y_test,y_pred))"
   ]
  },
  {
   "cell_type": "markdown",
   "metadata": {},
   "source": [
    "# Random Forest Classifier to predict"
   ]
  },
  {
   "cell_type": "code",
   "execution_count": 123,
   "metadata": {},
   "outputs": [
    {
     "data": {
      "text/plain": [
       "RandomForestClassifier(max_depth=3, random_state=0)"
      ]
     },
     "execution_count": 123,
     "metadata": {},
     "output_type": "execute_result"
    }
   ],
   "source": [
    "from sklearn.ensemble import RandomForestClassifier\n",
    "rmf=RandomForestClassifier(max_depth=3,random_state=0)\n",
    "rmf_clf=rmf.fit(x_train,y_train)\n",
    "rmf_clf"
   ]
  },
  {
   "cell_type": "code",
   "execution_count": 124,
   "metadata": {},
   "outputs": [],
   "source": [
    "rmf_clf_acc=cross_val_score(rmf_clf,x_train_std,y_train,cv=3,scoring=\"accuracy\",n_jobs=-1)\n",
    "rmf_proba=cross_val_predict(rmf_clf,x_train_std,y_train,cv=3,method='predict_proba')"
   ]
  },
  {
   "cell_type": "code",
   "execution_count": 125,
   "metadata": {},
   "outputs": [
    {
     "data": {
      "text/plain": [
       "array([0.85714286, 0.82142857, 0.62962963])"
      ]
     },
     "execution_count": 125,
     "metadata": {},
     "output_type": "execute_result"
    }
   ],
   "source": [
    "rmf_clf_acc"
   ]
  },
  {
   "cell_type": "code",
   "execution_count": 126,
   "metadata": {},
   "outputs": [
    {
     "data": {
      "text/plain": [
       "array([[0.65260163, 0.34739837],\n",
       "       [0.73105216, 0.26894784],\n",
       "       [0.4822759 , 0.5177241 ],\n",
       "       [0.33987719, 0.66012281],\n",
       "       [0.34725983, 0.65274017],\n",
       "       [0.48811392, 0.51188608],\n",
       "       [0.55858285, 0.44141715],\n",
       "       [0.49186122, 0.50813878],\n",
       "       [0.56333227, 0.43666773],\n",
       "       [0.2299846 , 0.7700154 ],\n",
       "       [0.43401318, 0.56598682],\n",
       "       [0.31228935, 0.68771065],\n",
       "       [0.14090627, 0.85909373],\n",
       "       [0.64829964, 0.35170036],\n",
       "       [0.75571129, 0.24428871],\n",
       "       [0.45031028, 0.54968972],\n",
       "       [0.47562694, 0.52437306],\n",
       "       [0.6195578 , 0.3804422 ],\n",
       "       [0.69326853, 0.30673147],\n",
       "       [0.38201396, 0.61798604],\n",
       "       [0.40456901, 0.59543099],\n",
       "       [0.88780235, 0.11219765],\n",
       "       [0.64516296, 0.35483704],\n",
       "       [0.38479159, 0.61520841],\n",
       "       [0.35053756, 0.64946244],\n",
       "       [0.34373187, 0.65626813],\n",
       "       [0.38344435, 0.61655565],\n",
       "       [0.29330299, 0.70669701],\n",
       "       [0.79686942, 0.20313058],\n",
       "       [0.61853739, 0.38146261],\n",
       "       [0.34234759, 0.65765241],\n",
       "       [0.76396476, 0.23603524],\n",
       "       [0.27648069, 0.72351931],\n",
       "       [0.47470218, 0.52529782],\n",
       "       [0.48989649, 0.51010351],\n",
       "       [0.66519165, 0.33480835],\n",
       "       [0.36503528, 0.63496472],\n",
       "       [0.75136452, 0.24863548],\n",
       "       [0.39736487, 0.60263513],\n",
       "       [0.53906987, 0.46093013],\n",
       "       [0.84865333, 0.15134667],\n",
       "       [0.69166855, 0.30833145],\n",
       "       [0.45369586, 0.54630414],\n",
       "       [0.74665356, 0.25334644],\n",
       "       [0.17737035, 0.82262965],\n",
       "       [0.3298616 , 0.6701384 ],\n",
       "       [0.68051276, 0.31948724],\n",
       "       [0.29856855, 0.70143145],\n",
       "       [0.69466276, 0.30533724],\n",
       "       [0.78864491, 0.21135509],\n",
       "       [0.3912799 , 0.6087201 ],\n",
       "       [0.56638139, 0.43361861],\n",
       "       [0.50270578, 0.49729422],\n",
       "       [0.64196699, 0.35803301],\n",
       "       [0.68217102, 0.31782898],\n",
       "       [0.71702441, 0.28297559],\n",
       "       [0.86120384, 0.13879616],\n",
       "       [0.51396482, 0.48603518],\n",
       "       [0.54957401, 0.45042599],\n",
       "       [0.16298795, 0.83701205],\n",
       "       [0.39474335, 0.60525665],\n",
       "       [0.83853149, 0.16146851],\n",
       "       [0.65429938, 0.34570062],\n",
       "       [0.41936029, 0.58063971],\n",
       "       [0.44187327, 0.55812673],\n",
       "       [0.43320245, 0.56679755],\n",
       "       [0.39067025, 0.60932975],\n",
       "       [0.55160756, 0.44839244],\n",
       "       [0.52387976, 0.47612024],\n",
       "       [0.25773272, 0.74226728],\n",
       "       [0.5348951 , 0.4651049 ],\n",
       "       [0.32054661, 0.67945339],\n",
       "       [0.56444818, 0.43555182],\n",
       "       [0.58003958, 0.41996042],\n",
       "       [0.55835937, 0.44164063],\n",
       "       [0.43625678, 0.56374322],\n",
       "       [0.6269515 , 0.3730485 ],\n",
       "       [0.28695603, 0.71304397],\n",
       "       [0.48063619, 0.51936381],\n",
       "       [0.80775149, 0.19224851],\n",
       "       [0.36956717, 0.63043283],\n",
       "       [0.62368278, 0.37631722],\n",
       "       [0.47679298, 0.52320702]])"
      ]
     },
     "execution_count": 126,
     "metadata": {},
     "output_type": "execute_result"
    }
   ],
   "source": [
    "rmf_proba"
   ]
  },
  {
   "cell_type": "code",
   "execution_count": 127,
   "metadata": {},
   "outputs": [
    {
     "name": "stdout",
     "output_type": "stream",
     "text": [
      "\n",
      "accuracy score:76.190476\n",
      "recall score:83.333333\n",
      "roc score:75.000000\n",
      "[[ 6  3]\n",
      " [ 2 10]]\n"
     ]
    }
   ],
   "source": [
    "from sklearn.metrics import accuracy_score,recall_score,roc_auc_score,confusion_matrix\n",
    "print(\"\\naccuracy score:%f\"%(accuracy_score(y_test,y_pred)*100))\n",
    "print(\"recall score:%f\"%(recall_score(y_test,y_pred)*100))\n",
    "print(\"roc score:%f\"%(roc_auc_score(y_test,y_pred)*100))\n",
    "print(confusion_matrix(y_test,y_pred))"
   ]
  },
  {
   "cell_type": "markdown",
   "metadata": {},
   "source": [
    "# Final Accuracy of our Models "
   ]
  },
  {
   "cell_type": "markdown",
   "metadata": {},
   "source": [
    "### Comparing all the prediction models"
   ]
  },
  {
   "cell_type": "code",
   "execution_count": 128,
   "metadata": {},
   "outputs": [
    {
     "data": {
      "text/html": [
       "<div>\n",
       "<style scoped>\n",
       "    .dataframe tbody tr th:only-of-type {\n",
       "        vertical-align: middle;\n",
       "    }\n",
       "\n",
       "    .dataframe tbody tr th {\n",
       "        vertical-align: top;\n",
       "    }\n",
       "\n",
       "    .dataframe thead th {\n",
       "        text-align: right;\n",
       "    }\n",
       "</style>\n",
       "<table border=\"1\" class=\"dataframe\">\n",
       "  <thead>\n",
       "    <tr style=\"text-align: right;\">\n",
       "      <th></th>\n",
       "      <th>Name</th>\n",
       "      <th>Score</th>\n",
       "    </tr>\n",
       "  </thead>\n",
       "  <tbody>\n",
       "    <tr>\n",
       "      <th>0</th>\n",
       "      <td>KNN</td>\n",
       "      <td>0.857143</td>\n",
       "    </tr>\n",
       "    <tr>\n",
       "      <th>1</th>\n",
       "      <td>LR</td>\n",
       "      <td>1.000000</td>\n",
       "    </tr>\n",
       "    <tr>\n",
       "      <th>2</th>\n",
       "      <td>SVC</td>\n",
       "      <td>0.952381</td>\n",
       "    </tr>\n",
       "    <tr>\n",
       "      <th>3</th>\n",
       "      <td>DT</td>\n",
       "      <td>0.761905</td>\n",
       "    </tr>\n",
       "    <tr>\n",
       "      <th>4</th>\n",
       "      <td>RF</td>\n",
       "      <td>0.809524</td>\n",
       "    </tr>\n",
       "  </tbody>\n",
       "</table>\n",
       "</div>"
      ],
      "text/plain": [
       "  Name     Score\n",
       "0  KNN  0.857143\n",
       "1   LR  1.000000\n",
       "2  SVC  0.952381\n",
       "3   DT  0.761905\n",
       "4   RF  0.809524"
      ]
     },
     "execution_count": 128,
     "metadata": {},
     "output_type": "execute_result"
    }
   ],
   "source": [
    "models = []\n",
    "from sklearn.neighbors import KNeighborsClassifier\n",
    "from sklearn.svm import SVC\n",
    "from sklearn.linear_model import LogisticRegression\n",
    "from sklearn.tree import DecisionTreeClassifier\n",
    "from sklearn.naive_bayes import GaussianNB\n",
    "from sklearn.ensemble import RandomForestClassifier\n",
    "from sklearn.ensemble import GradientBoostingClassifier\n",
    "models.append(('KNN', KNeighborsClassifier()))\n",
    "models.append(('LR', LogisticRegression()))\n",
    "models.append(('SVC', SVC()))\n",
    "models.append(('DT', DecisionTreeClassifier()))\n",
    "models.append(('RF', RandomForestClassifier()))\n",
    "\n",
    "names = []\n",
    "scores = []\n",
    "for name, model in models:\n",
    "    model.fit(x_train, y_train)\n",
    "    y_pred = model.predict(x_test)\n",
    "    scores.append(accuracy_score(y_test, y_pred))\n",
    "    names.append(name)\n",
    "tr_split = pd.DataFrame({'Name': names, 'Score': scores})\n",
    "tr_split"
   ]
  },
  {
   "cell_type": "code",
   "execution_count": 129,
   "metadata": {},
   "outputs": [
    {
     "data": {
      "image/png": "[encoded data removed]",
      "text/plain": [
       "<Figure size 432x288 with 1 Axes>"
      ]
     },
     "metadata": {
      "needs_background": "light"
     },
     "output_type": "display_data"
    }
   ],
   "source": [
    "import seaborn as sns\n",
    "axis = sns.barplot(x = 'Name', y = 'Score', data =tr_split )\n",
    "axis.set(xlabel='Classifier Models', ylabel='Accuracy of the Model')\n",
    "for p in axis.patches:\n",
    "    height = p.get_height()\n",
    "    axis.text(p.get_x() + p.get_width()/2, height + 0.01, '{:1.4f}'.format(height), ha=\"center\") \n",
    "    \n",
    "plt.show()"
   ]
  },
  {
   "cell_type": "code",
   "execution_count": 70,
   "metadata": {},
   "outputs": [
    {
     "data": {
      "text/plain": [
       "0.9523809523809523"
      ]
     },
     "execution_count": 70,
     "metadata": {},
     "output_type": "execute_result"
    }
   ],
   "source": [
    "tr_split['Score'].max() "
   ]
  },
  {
   "cell_type": "markdown",
   "metadata": {},
   "source": [
    "### So we can see and choose the best model for Prediction."
   ]
  },
  {
   "cell_type": "markdown",
   "metadata": {},
   "source": [
    "# End of the Code."
   ]
  },
  {
   "cell_type": "markdown",
   "metadata": {},
   "source": []
  },
  {
   "cell_type": "code",
   "execution_count": 68,
   "metadata": {},
   "outputs": [
    {
     "name": "stdout",
     "output_type": "stream",
     "text": [
      "               ALGORITHM    PROBLEM_TYPE RESULTS_INTERPRETABLE_BY_YOU  \\\n",
      "0                    KNN          Either                          Yes   \n",
      "1      Linear regression      Regression                          Yes   \n",
      "2  Logistique regression  Classification                     Somewhat   \n",
      "3            Naive Bayes  Classification                     Somewhat   \n",
      "4         Decision trees          Either               Classification   \n",
      "5         Random Forests          Either                     A little   \n",
      "6               Adaboost          Either                     A little   \n",
      "7        Neural networks          Either                           No   \n",
      "\n",
      "  EASY_TO_EXPLAIN_ALGORITHM_TO_OTHERS  AVERAGE_PREDICTIVE_ALGORITHM  \\\n",
      "0                                  Yes                        Lower   \n",
      "1                                  Yes                        Lower   \n",
      "2                              Somwhat                        Lower   \n",
      "3                              Somwhat                        Lower   \n",
      "4                             Somewhat                      Somwhat   \n",
      "5                                   No                       Higher   \n",
      "6                                   No                       Higher   \n",
      "7                                   No                       Higher   \n",
      "\n",
      "                       TRAINING_SPEED PREDICTIVE_SPEED  \\\n",
      "0                                Fast     Depends on n   \n",
      "1                                Fast             Fast   \n",
      "2                                Fast             Fast   \n",
      "3  Fast(excluding feature extraction)             Fast   \n",
      "4                               Lower             Fast   \n",
      "5                                Slow         Moderate   \n",
      "6                                Slow             Fast   \n",
      "7                                Slow             Fast   \n",
      "\n",
      "  AMOUNT_OF_PARAMETER_TURING_NEEDED PERFORM_WELL_WITH_OBSERVATIONS  \\\n",
      "0                           Minimal                             No   \n",
      "1    None(excluding regularization)                            Yes   \n",
      "2    None(excluding regularization)                            Yes   \n",
      "3       Some for feature extraction                            Yes   \n",
      "4                              Fast                           Some   \n",
      "5                              Some                             No   \n",
      "6                              Some                             No   \n",
      "7                              Lots                             No   \n",
      "\n",
      "      HANDLES_LOTS_OF_RELEVANT_FEATURES  \\\n",
      "0                                    No   \n",
      "1                                    No   \n",
      "2                                    No   \n",
      "3                                   Yes   \n",
      "4                                    No   \n",
      "5  Yes(unless noise ratio is very high)   \n",
      "6                                   Yes   \n",
      "7                                   Yes   \n",
      "\n",
      "  AUTOMATICALY_LEARNS_FEATURE_INTERACTIONS GIVES_CALIBRATED_PROBABILITIES  \\\n",
      "0                                       No                            Yes   \n",
      "1                                       No                            NaN   \n",
      "2                                       No                            Yes   \n",
      "3                                       No                             No   \n",
      "4                                       No                            Yes   \n",
      "5                                      Yes                       Possibly   \n",
      "6                                      Yes                       Possibly   \n",
      "7                                      Yes                       Possibly   \n",
      "\n",
      "  PARAMETER? FEATURES_MIGHT_NEED_SCALLING? ALGORITHM.1  \n",
      "0         No                           Yes         NaN  \n",
      "1        Yes        No(unless regularized)         NaN  \n",
      "2        Yes        No(unless regularized)         NaN  \n",
      "3        Yes                            No         NaN  \n",
      "4   Possibly                            No          No  \n",
      "5         No                            No         NaN  \n",
      "6         No                            No         NaN  \n",
      "7         No                           Yes         NaN  \n"
     ]
    }
   ],
   "source": [
    "import numpy as np\n",
    "import pandas as pd # data processing, CSV file I/O (e.g. pd.read_csv)\n",
    "data1 = pd.read_csv('saaty.csv')\n",
    "print(data1)"
   ]
  },
  {
   "cell_type": "code",
   "execution_count": null,
   "metadata": {},
   "outputs": [],
   "source": []
  },
  {
   "cell_type": "code",
   "execution_count": null,
   "metadata": {},
   "outputs": [],
   "source": []
  }
 ],
 "metadata": {
  "kernelspec": {
   "display_name": "Python 3",
   "language": "python",
   "name": "python3"
  },
  "language_info": {
   "codemirror_mode": {
    "name": "ipython",
    "version": 3
   },
   "file_extension": ".py",
   "mimetype": "text/x-python",
   "name": "python",
   "nbconvert_exporter": "python",
   "pygments_lexer": "ipython3",
   "version": "3.8.8"
  }
 },
 "nbformat": 4,
 "nbformat_minor": 2
}
