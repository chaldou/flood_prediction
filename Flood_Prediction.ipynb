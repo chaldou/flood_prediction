{
 "cells": [
  {
   "cell_type": "markdown",
   "metadata": {},
   "source": [
    "# Flood Prediction Machine Learning Model "
   ]
  },
  {
   "cell_type": "code",
   "execution_count": 1,
   "metadata": {},
   "outputs": [],
   "source": [
    "# This Machine Learning Model uses 5 Machine Learning Algorithms namely KNN Classification, Logistic Regression[LR], Support \n",
    "# Vector[SVM], Decision Tree[DT] and Random Forest[RF] to get the best possible model to predict the floods using Douala Rainfall Data."
   ]
  },
  {
   "cell_type": "code",
   "execution_count": 2,
   "metadata": {},
   "outputs": [
    {
     "name": "stdout",
     "output_type": "stream",
     "text": [
      "['.ipynb_checkpoints', 'Douala.csv', 'Flood_Prediction.ipynb']\n"
     ]
    }
   ],
   "source": [
    "# It will list the files in the input directory.\n",
    "import os\n",
    "print(os.listdir(r\"C:\\Users\\SHADO\\flood_prediction\"))  # Name of the project Directory"
   ]
  },
  {
   "cell_type": "code",
   "execution_count": 3,
   "metadata": {},
   "outputs": [],
   "source": [
    "# Ignoring Warnings.\n",
    "import warnings\n",
    "warnings.filterwarnings('ignore')"
   ]
  },
  {
   "cell_type": "code",
   "execution_count": 4,
   "metadata": {
    "scrolled": true
   },
   "outputs": [
    {
     "data": {
      "text/plain": [
       "'C:\\\\Users\\\\SHADO\\\\flood_prediction'"
      ]
     },
     "execution_count": 4,
     "metadata": {},
     "output_type": "execute_result"
    }
   ],
   "source": [
    "# Directory where our Dataset is stored for processing in the ML Model.\n",
    "os.chdir(r\"C:\\Users\\SHADO\\flood_prediction\") # Path of our Project Folder\n",
    "os.getcwd()"
   ]
  },
  {
   "cell_type": "markdown",
   "metadata": {},
   "source": [
    "## Data Insights"
   ]
  },
  {
   "cell_type": "markdown",
   "metadata": {},
   "source": [
    "#### Importing Required Libraries."
   ]
  },
  {
   "cell_type": "code",
   "execution_count": 5,
   "metadata": {},
   "outputs": [
    {
     "name": "stdout",
     "output_type": "stream",
     "text": [
      "       TOWN  YEAR   JAN   FEB   MAR    APR    MAY     JUN     JUL     AUG  \\\n",
      "0    DOUALA  1901  28.7  44.7  51.6  160.0  174.7   824.6   743.0   357.5   \n",
      "1    DOUALA  1902   6.7   2.6  57.3   83.9  134.5   390.9  1205.0   315.8   \n",
      "2    DOUALA  1903   3.2  18.6   3.1   83.6  249.7   558.6  1022.5   420.2   \n",
      "3    DOUALA  1904  23.7   3.0  32.2   71.5  235.7  1098.2   725.5   351.8   \n",
      "4    DOUALA  1905   1.2  22.3   9.4  105.9  263.3   850.2   520.5   293.6   \n",
      "..      ...   ...   ...   ...   ...    ...    ...     ...     ...     ...   \n",
      "113  DOUALA  2014   4.6  10.3  17.9   95.7  251.0   454.4   677.8   733.9   \n",
      "114  DOUALA  2015   3.1   5.8  50.1  214.1  201.8   563.6   406.0   252.2   \n",
      "115  DOUALA  2016   2.4   3.8  35.9  143.0  186.4   522.2   412.3   325.5   \n",
      "116  DOUALA  2017   1.9   6.8   8.9   43.6  173.5   498.5   319.6   531.8   \n",
      "117  DOUALA  2018  29.1  52.1  48.6  116.4  183.8   625.4  1048.5  1398.9   \n",
      "\n",
      "       SEP    OCT    NOV    DEC   ANNUAL RAINFALL FLOODS  \n",
      "0    197.7  266.9  350.8   48.4            3248.6    YES  \n",
      "1    491.6  358.4  158.3  121.5            3326.6    YES  \n",
      "2    341.8  354.1  157.0   59.0            3271.2    YES  \n",
      "3    222.7  328.1   33.9    3.3            3129.7    YES  \n",
      "4    217.2  383.5   74.4    0.2            2741.6     NO  \n",
      "..     ...    ...    ...    ...               ...    ...  \n",
      "113  298.8  355.5   99.5   47.2            3046.4    YES  \n",
      "114  292.9  308.1  223.6   79.4            2600.6     NO  \n",
      "115  173.2  225.9  125.4   23.6            2176.6     NO  \n",
      "116  209.5  192.4   92.5   38.1            2117.1     NO  \n",
      "117  423.6  356.1  125.4   65.1            4473.0    YES  \n",
      "\n",
      "[118 rows x 16 columns]\n"
     ]
    }
   ],
   "source": [
    "import numpy as np # linear algebra\n",
    "import pandas as pd # data processing, CSV file I/O (e.g. pd.read_csv)\n",
    "data = pd.read_csv('Douala.csv')\n",
    "print(data)"
   ]
  },
  {
   "cell_type": "code",
   "execution_count": 6,
   "metadata": {
    "scrolled": true
   },
   "outputs": [
    {
     "data": {
      "text/html": [
       "<div>\n",
       "<style scoped>\n",
       "    .dataframe tbody tr th:only-of-type {\n",
       "        vertical-align: middle;\n",
       "    }\n",
       "\n",
       "    .dataframe tbody tr th {\n",
       "        vertical-align: top;\n",
       "    }\n",
       "\n",
       "    .dataframe thead th {\n",
       "        text-align: right;\n",
       "    }\n",
       "</style>\n",
       "<table border=\"1\" class=\"dataframe\">\n",
       "  <thead>\n",
       "    <tr style=\"text-align: right;\">\n",
       "      <th></th>\n",
       "      <th>TOWN</th>\n",
       "      <th>YEAR</th>\n",
       "      <th>JAN</th>\n",
       "      <th>FEB</th>\n",
       "      <th>MAR</th>\n",
       "      <th>APR</th>\n",
       "      <th>MAY</th>\n",
       "      <th>JUN</th>\n",
       "      <th>JUL</th>\n",
       "      <th>AUG</th>\n",
       "      <th>SEP</th>\n",
       "      <th>OCT</th>\n",
       "      <th>NOV</th>\n",
       "      <th>DEC</th>\n",
       "      <th>ANNUAL RAINFALL</th>\n",
       "      <th>FLOODS</th>\n",
       "    </tr>\n",
       "  </thead>\n",
       "  <tbody>\n",
       "    <tr>\n",
       "      <th>0</th>\n",
       "      <td>DOUALA</td>\n",
       "      <td>1901</td>\n",
       "      <td>28.7</td>\n",
       "      <td>44.7</td>\n",
       "      <td>51.6</td>\n",
       "      <td>160.0</td>\n",
       "      <td>174.7</td>\n",
       "      <td>824.6</td>\n",
       "      <td>743.0</td>\n",
       "      <td>357.5</td>\n",
       "      <td>197.7</td>\n",
       "      <td>266.9</td>\n",
       "      <td>350.8</td>\n",
       "      <td>48.4</td>\n",
       "      <td>3248.6</td>\n",
       "      <td>YES</td>\n",
       "    </tr>\n",
       "    <tr>\n",
       "      <th>1</th>\n",
       "      <td>DOUALA</td>\n",
       "      <td>1902</td>\n",
       "      <td>6.7</td>\n",
       "      <td>2.6</td>\n",
       "      <td>57.3</td>\n",
       "      <td>83.9</td>\n",
       "      <td>134.5</td>\n",
       "      <td>390.9</td>\n",
       "      <td>1205.0</td>\n",
       "      <td>315.8</td>\n",
       "      <td>491.6</td>\n",
       "      <td>358.4</td>\n",
       "      <td>158.3</td>\n",
       "      <td>121.5</td>\n",
       "      <td>3326.6</td>\n",
       "      <td>YES</td>\n",
       "    </tr>\n",
       "    <tr>\n",
       "      <th>2</th>\n",
       "      <td>DOUALA</td>\n",
       "      <td>1903</td>\n",
       "      <td>3.2</td>\n",
       "      <td>18.6</td>\n",
       "      <td>3.1</td>\n",
       "      <td>83.6</td>\n",
       "      <td>249.7</td>\n",
       "      <td>558.6</td>\n",
       "      <td>1022.5</td>\n",
       "      <td>420.2</td>\n",
       "      <td>341.8</td>\n",
       "      <td>354.1</td>\n",
       "      <td>157.0</td>\n",
       "      <td>59.0</td>\n",
       "      <td>3271.2</td>\n",
       "      <td>YES</td>\n",
       "    </tr>\n",
       "    <tr>\n",
       "      <th>3</th>\n",
       "      <td>DOUALA</td>\n",
       "      <td>1904</td>\n",
       "      <td>23.7</td>\n",
       "      <td>3.0</td>\n",
       "      <td>32.2</td>\n",
       "      <td>71.5</td>\n",
       "      <td>235.7</td>\n",
       "      <td>1098.2</td>\n",
       "      <td>725.5</td>\n",
       "      <td>351.8</td>\n",
       "      <td>222.7</td>\n",
       "      <td>328.1</td>\n",
       "      <td>33.9</td>\n",
       "      <td>3.3</td>\n",
       "      <td>3129.7</td>\n",
       "      <td>YES</td>\n",
       "    </tr>\n",
       "    <tr>\n",
       "      <th>4</th>\n",
       "      <td>DOUALA</td>\n",
       "      <td>1905</td>\n",
       "      <td>1.2</td>\n",
       "      <td>22.3</td>\n",
       "      <td>9.4</td>\n",
       "      <td>105.9</td>\n",
       "      <td>263.3</td>\n",
       "      <td>850.2</td>\n",
       "      <td>520.5</td>\n",
       "      <td>293.6</td>\n",
       "      <td>217.2</td>\n",
       "      <td>383.5</td>\n",
       "      <td>74.4</td>\n",
       "      <td>0.2</td>\n",
       "      <td>2741.6</td>\n",
       "      <td>NO</td>\n",
       "    </tr>\n",
       "  </tbody>\n",
       "</table>\n",
       "</div>"
      ],
      "text/plain": [
       "     TOWN  YEAR   JAN   FEB   MAR    APR    MAY     JUN     JUL    AUG    SEP  \\\n",
       "0  DOUALA  1901  28.7  44.7  51.6  160.0  174.7   824.6   743.0  357.5  197.7   \n",
       "1  DOUALA  1902   6.7   2.6  57.3   83.9  134.5   390.9  1205.0  315.8  491.6   \n",
       "2  DOUALA  1903   3.2  18.6   3.1   83.6  249.7   558.6  1022.5  420.2  341.8   \n",
       "3  DOUALA  1904  23.7   3.0  32.2   71.5  235.7  1098.2   725.5  351.8  222.7   \n",
       "4  DOUALA  1905   1.2  22.3   9.4  105.9  263.3   850.2   520.5  293.6  217.2   \n",
       "\n",
       "     OCT    NOV    DEC   ANNUAL RAINFALL FLOODS  \n",
       "0  266.9  350.8   48.4            3248.6    YES  \n",
       "1  358.4  158.3  121.5            3326.6    YES  \n",
       "2  354.1  157.0   59.0            3271.2    YES  \n",
       "3  328.1   33.9    3.3            3129.7    YES  \n",
       "4  383.5   74.4    0.2            2741.6     NO  "
      ]
     },
     "execution_count": 6,
     "metadata": {},
     "output_type": "execute_result"
    }
   ],
   "source": [
    "data.head()"
   ]
  },
  {
   "cell_type": "code",
   "execution_count": 7,
   "metadata": {
    "scrolled": true
   },
   "outputs": [
    {
     "data": {
      "text/html": [
       "<div>\n",
       "<style scoped>\n",
       "    .dataframe tbody tr th:only-of-type {\n",
       "        vertical-align: middle;\n",
       "    }\n",
       "\n",
       "    .dataframe tbody tr th {\n",
       "        vertical-align: top;\n",
       "    }\n",
       "\n",
       "    .dataframe thead th {\n",
       "        text-align: right;\n",
       "    }\n",
       "</style>\n",
       "<table border=\"1\" class=\"dataframe\">\n",
       "  <thead>\n",
       "    <tr style=\"text-align: right;\">\n",
       "      <th></th>\n",
       "      <th>TOWN</th>\n",
       "      <th>YEAR</th>\n",
       "      <th>JAN</th>\n",
       "      <th>FEB</th>\n",
       "      <th>MAR</th>\n",
       "      <th>APR</th>\n",
       "      <th>MAY</th>\n",
       "      <th>JUN</th>\n",
       "      <th>JUL</th>\n",
       "      <th>AUG</th>\n",
       "      <th>SEP</th>\n",
       "      <th>OCT</th>\n",
       "      <th>NOV</th>\n",
       "      <th>DEC</th>\n",
       "      <th>ANNUAL RAINFALL</th>\n",
       "      <th>FLOODS</th>\n",
       "    </tr>\n",
       "  </thead>\n",
       "  <tbody>\n",
       "    <tr>\n",
       "      <th>113</th>\n",
       "      <td>DOUALA</td>\n",
       "      <td>2014</td>\n",
       "      <td>4.6</td>\n",
       "      <td>10.3</td>\n",
       "      <td>17.9</td>\n",
       "      <td>95.7</td>\n",
       "      <td>251.0</td>\n",
       "      <td>454.4</td>\n",
       "      <td>677.8</td>\n",
       "      <td>733.9</td>\n",
       "      <td>298.8</td>\n",
       "      <td>355.5</td>\n",
       "      <td>99.5</td>\n",
       "      <td>47.2</td>\n",
       "      <td>3046.4</td>\n",
       "      <td>YES</td>\n",
       "    </tr>\n",
       "    <tr>\n",
       "      <th>114</th>\n",
       "      <td>DOUALA</td>\n",
       "      <td>2015</td>\n",
       "      <td>3.1</td>\n",
       "      <td>5.8</td>\n",
       "      <td>50.1</td>\n",
       "      <td>214.1</td>\n",
       "      <td>201.8</td>\n",
       "      <td>563.6</td>\n",
       "      <td>406.0</td>\n",
       "      <td>252.2</td>\n",
       "      <td>292.9</td>\n",
       "      <td>308.1</td>\n",
       "      <td>223.6</td>\n",
       "      <td>79.4</td>\n",
       "      <td>2600.6</td>\n",
       "      <td>NO</td>\n",
       "    </tr>\n",
       "    <tr>\n",
       "      <th>115</th>\n",
       "      <td>DOUALA</td>\n",
       "      <td>2016</td>\n",
       "      <td>2.4</td>\n",
       "      <td>3.8</td>\n",
       "      <td>35.9</td>\n",
       "      <td>143.0</td>\n",
       "      <td>186.4</td>\n",
       "      <td>522.2</td>\n",
       "      <td>412.3</td>\n",
       "      <td>325.5</td>\n",
       "      <td>173.2</td>\n",
       "      <td>225.9</td>\n",
       "      <td>125.4</td>\n",
       "      <td>23.6</td>\n",
       "      <td>2176.6</td>\n",
       "      <td>NO</td>\n",
       "    </tr>\n",
       "    <tr>\n",
       "      <th>116</th>\n",
       "      <td>DOUALA</td>\n",
       "      <td>2017</td>\n",
       "      <td>1.9</td>\n",
       "      <td>6.8</td>\n",
       "      <td>8.9</td>\n",
       "      <td>43.6</td>\n",
       "      <td>173.5</td>\n",
       "      <td>498.5</td>\n",
       "      <td>319.6</td>\n",
       "      <td>531.8</td>\n",
       "      <td>209.5</td>\n",
       "      <td>192.4</td>\n",
       "      <td>92.5</td>\n",
       "      <td>38.1</td>\n",
       "      <td>2117.1</td>\n",
       "      <td>NO</td>\n",
       "    </tr>\n",
       "    <tr>\n",
       "      <th>117</th>\n",
       "      <td>DOUALA</td>\n",
       "      <td>2018</td>\n",
       "      <td>29.1</td>\n",
       "      <td>52.1</td>\n",
       "      <td>48.6</td>\n",
       "      <td>116.4</td>\n",
       "      <td>183.8</td>\n",
       "      <td>625.4</td>\n",
       "      <td>1048.5</td>\n",
       "      <td>1398.9</td>\n",
       "      <td>423.6</td>\n",
       "      <td>356.1</td>\n",
       "      <td>125.4</td>\n",
       "      <td>65.1</td>\n",
       "      <td>4473.0</td>\n",
       "      <td>YES</td>\n",
       "    </tr>\n",
       "  </tbody>\n",
       "</table>\n",
       "</div>"
      ],
      "text/plain": [
       "       TOWN  YEAR   JAN   FEB   MAR    APR    MAY    JUN     JUL     AUG  \\\n",
       "113  DOUALA  2014   4.6  10.3  17.9   95.7  251.0  454.4   677.8   733.9   \n",
       "114  DOUALA  2015   3.1   5.8  50.1  214.1  201.8  563.6   406.0   252.2   \n",
       "115  DOUALA  2016   2.4   3.8  35.9  143.0  186.4  522.2   412.3   325.5   \n",
       "116  DOUALA  2017   1.9   6.8   8.9   43.6  173.5  498.5   319.6   531.8   \n",
       "117  DOUALA  2018  29.1  52.1  48.6  116.4  183.8  625.4  1048.5  1398.9   \n",
       "\n",
       "       SEP    OCT    NOV   DEC   ANNUAL RAINFALL FLOODS  \n",
       "113  298.8  355.5   99.5  47.2            3046.4    YES  \n",
       "114  292.9  308.1  223.6  79.4            2600.6     NO  \n",
       "115  173.2  225.9  125.4  23.6            2176.6     NO  \n",
       "116  209.5  192.4   92.5  38.1            2117.1     NO  \n",
       "117  423.6  356.1  125.4  65.1            4473.0    YES  "
      ]
     },
     "execution_count": 7,
     "metadata": {},
     "output_type": "execute_result"
    }
   ],
   "source": [
    "data.tail()"
   ]
  },
  {
   "cell_type": "markdown",
   "metadata": {},
   "source": [
    "# Finding number of missing values"
   ]
  },
  {
   "cell_type": "code",
   "execution_count": 8,
   "metadata": {},
   "outputs": [
    {
     "data": {
      "text/plain": [
       "TOWN                0\n",
       "YEAR                0\n",
       "JAN                 0\n",
       "FEB                 0\n",
       "MAR                 0\n",
       "APR                 0\n",
       "MAY                 0\n",
       "JUN                 0\n",
       "JUL                 0\n",
       "AUG                 0\n",
       "SEP                 0\n",
       "OCT                 0\n",
       "NOV                 0\n",
       "DEC                 0\n",
       " ANNUAL RAINFALL    0\n",
       "FLOODS              0\n",
       "dtype: int64"
      ]
     },
     "execution_count": 8,
     "metadata": {},
     "output_type": "execute_result"
    }
   ],
   "source": [
    "data.isnull().sum()  # cheaking if any colomns is left empty or not."
   ]
  },
  {
   "cell_type": "markdown",
   "metadata": {},
   "source": [
    "# Analyzing the Dataset"
   ]
  },
  {
   "cell_type": "code",
   "execution_count": 9,
   "metadata": {},
   "outputs": [
    {
     "name": "stdout",
     "output_type": "stream",
     "text": [
      "(118, 16)\n"
     ]
    }
   ],
   "source": [
    "print(data.shape)"
   ]
  },
  {
   "cell_type": "code",
   "execution_count": 10,
   "metadata": {},
   "outputs": [
    {
     "data": {
      "text/html": [
       "<div>\n",
       "<style scoped>\n",
       "    .dataframe tbody tr th:only-of-type {\n",
       "        vertical-align: middle;\n",
       "    }\n",
       "\n",
       "    .dataframe tbody tr th {\n",
       "        vertical-align: top;\n",
       "    }\n",
       "\n",
       "    .dataframe thead th {\n",
       "        text-align: right;\n",
       "    }\n",
       "</style>\n",
       "<table border=\"1\" class=\"dataframe\">\n",
       "  <thead>\n",
       "    <tr style=\"text-align: right;\">\n",
       "      <th></th>\n",
       "      <th>YEAR</th>\n",
       "      <th>JAN</th>\n",
       "      <th>FEB</th>\n",
       "      <th>MAR</th>\n",
       "      <th>APR</th>\n",
       "      <th>MAY</th>\n",
       "      <th>JUN</th>\n",
       "      <th>JUL</th>\n",
       "      <th>AUG</th>\n",
       "      <th>SEP</th>\n",
       "      <th>OCT</th>\n",
       "      <th>NOV</th>\n",
       "      <th>DEC</th>\n",
       "      <th>ANNUAL RAINFALL</th>\n",
       "    </tr>\n",
       "  </thead>\n",
       "  <tbody>\n",
       "    <tr>\n",
       "      <th>count</th>\n",
       "      <td>118.000000</td>\n",
       "      <td>118.000000</td>\n",
       "      <td>118.000000</td>\n",
       "      <td>118.000000</td>\n",
       "      <td>118.000000</td>\n",
       "      <td>118.000000</td>\n",
       "      <td>118.000000</td>\n",
       "      <td>118.000000</td>\n",
       "      <td>118.000000</td>\n",
       "      <td>118.000000</td>\n",
       "      <td>118.000000</td>\n",
       "      <td>118.000000</td>\n",
       "      <td>118.000000</td>\n",
       "      <td>118.000000</td>\n",
       "    </tr>\n",
       "    <tr>\n",
       "      <th>mean</th>\n",
       "      <td>1959.500000</td>\n",
       "      <td>12.218644</td>\n",
       "      <td>15.633898</td>\n",
       "      <td>36.670339</td>\n",
       "      <td>110.330508</td>\n",
       "      <td>228.644915</td>\n",
       "      <td>651.617797</td>\n",
       "      <td>698.220339</td>\n",
       "      <td>430.369492</td>\n",
       "      <td>246.207627</td>\n",
       "      <td>293.207627</td>\n",
       "      <td>162.311017</td>\n",
       "      <td>40.009322</td>\n",
       "      <td>2925.405085</td>\n",
       "    </tr>\n",
       "    <tr>\n",
       "      <th>std</th>\n",
       "      <td>34.207699</td>\n",
       "      <td>15.473766</td>\n",
       "      <td>16.406290</td>\n",
       "      <td>30.063862</td>\n",
       "      <td>44.633452</td>\n",
       "      <td>147.548778</td>\n",
       "      <td>186.181363</td>\n",
       "      <td>228.988966</td>\n",
       "      <td>181.980463</td>\n",
       "      <td>121.901131</td>\n",
       "      <td>93.705253</td>\n",
       "      <td>83.200485</td>\n",
       "      <td>36.676330</td>\n",
       "      <td>452.169407</td>\n",
       "    </tr>\n",
       "    <tr>\n",
       "      <th>min</th>\n",
       "      <td>1901.000000</td>\n",
       "      <td>0.000000</td>\n",
       "      <td>0.000000</td>\n",
       "      <td>0.100000</td>\n",
       "      <td>13.100000</td>\n",
       "      <td>53.400000</td>\n",
       "      <td>196.800000</td>\n",
       "      <td>167.500000</td>\n",
       "      <td>178.600000</td>\n",
       "      <td>41.300000</td>\n",
       "      <td>68.500000</td>\n",
       "      <td>31.500000</td>\n",
       "      <td>0.100000</td>\n",
       "      <td>2068.800000</td>\n",
       "    </tr>\n",
       "    <tr>\n",
       "      <th>25%</th>\n",
       "      <td>1930.250000</td>\n",
       "      <td>2.175000</td>\n",
       "      <td>4.700000</td>\n",
       "      <td>18.100000</td>\n",
       "      <td>74.350000</td>\n",
       "      <td>125.050000</td>\n",
       "      <td>535.550000</td>\n",
       "      <td>533.200000</td>\n",
       "      <td>316.725000</td>\n",
       "      <td>155.425000</td>\n",
       "      <td>222.125000</td>\n",
       "      <td>93.025000</td>\n",
       "      <td>10.350000</td>\n",
       "      <td>2613.525000</td>\n",
       "    </tr>\n",
       "    <tr>\n",
       "      <th>50%</th>\n",
       "      <td>1959.500000</td>\n",
       "      <td>5.800000</td>\n",
       "      <td>8.350000</td>\n",
       "      <td>28.400000</td>\n",
       "      <td>110.400000</td>\n",
       "      <td>184.600000</td>\n",
       "      <td>625.600000</td>\n",
       "      <td>691.650000</td>\n",
       "      <td>386.250000</td>\n",
       "      <td>223.550000</td>\n",
       "      <td>284.300000</td>\n",
       "      <td>152.450000</td>\n",
       "      <td>31.100000</td>\n",
       "      <td>2934.300000</td>\n",
       "    </tr>\n",
       "    <tr>\n",
       "      <th>75%</th>\n",
       "      <td>1988.750000</td>\n",
       "      <td>18.175000</td>\n",
       "      <td>21.400000</td>\n",
       "      <td>49.825000</td>\n",
       "      <td>136.450000</td>\n",
       "      <td>264.875000</td>\n",
       "      <td>786.975000</td>\n",
       "      <td>832.425000</td>\n",
       "      <td>500.100000</td>\n",
       "      <td>334.500000</td>\n",
       "      <td>355.150000</td>\n",
       "      <td>218.325000</td>\n",
       "      <td>54.025000</td>\n",
       "      <td>3170.400000</td>\n",
       "    </tr>\n",
       "    <tr>\n",
       "      <th>max</th>\n",
       "      <td>2018.000000</td>\n",
       "      <td>83.500000</td>\n",
       "      <td>79.000000</td>\n",
       "      <td>217.200000</td>\n",
       "      <td>238.000000</td>\n",
       "      <td>738.800000</td>\n",
       "      <td>1098.200000</td>\n",
       "      <td>1526.500000</td>\n",
       "      <td>1398.900000</td>\n",
       "      <td>526.700000</td>\n",
       "      <td>567.900000</td>\n",
       "      <td>365.600000</td>\n",
       "      <td>202.300000</td>\n",
       "      <td>4473.000000</td>\n",
       "    </tr>\n",
       "  </tbody>\n",
       "</table>\n",
       "</div>"
      ],
      "text/plain": [
       "              YEAR         JAN         FEB         MAR         APR  \\\n",
       "count   118.000000  118.000000  118.000000  118.000000  118.000000   \n",
       "mean   1959.500000   12.218644   15.633898   36.670339  110.330508   \n",
       "std      34.207699   15.473766   16.406290   30.063862   44.633452   \n",
       "min    1901.000000    0.000000    0.000000    0.100000   13.100000   \n",
       "25%    1930.250000    2.175000    4.700000   18.100000   74.350000   \n",
       "50%    1959.500000    5.800000    8.350000   28.400000  110.400000   \n",
       "75%    1988.750000   18.175000   21.400000   49.825000  136.450000   \n",
       "max    2018.000000   83.500000   79.000000  217.200000  238.000000   \n",
       "\n",
       "              MAY          JUN          JUL          AUG         SEP  \\\n",
       "count  118.000000   118.000000   118.000000   118.000000  118.000000   \n",
       "mean   228.644915   651.617797   698.220339   430.369492  246.207627   \n",
       "std    147.548778   186.181363   228.988966   181.980463  121.901131   \n",
       "min     53.400000   196.800000   167.500000   178.600000   41.300000   \n",
       "25%    125.050000   535.550000   533.200000   316.725000  155.425000   \n",
       "50%    184.600000   625.600000   691.650000   386.250000  223.550000   \n",
       "75%    264.875000   786.975000   832.425000   500.100000  334.500000   \n",
       "max    738.800000  1098.200000  1526.500000  1398.900000  526.700000   \n",
       "\n",
       "              OCT         NOV         DEC   ANNUAL RAINFALL  \n",
       "count  118.000000  118.000000  118.000000        118.000000  \n",
       "mean   293.207627  162.311017   40.009322       2925.405085  \n",
       "std     93.705253   83.200485   36.676330        452.169407  \n",
       "min     68.500000   31.500000    0.100000       2068.800000  \n",
       "25%    222.125000   93.025000   10.350000       2613.525000  \n",
       "50%    284.300000  152.450000   31.100000       2934.300000  \n",
       "75%    355.150000  218.325000   54.025000       3170.400000  \n",
       "max    567.900000  365.600000  202.300000       4473.000000  "
      ]
     },
     "execution_count": 10,
     "metadata": {},
     "output_type": "execute_result"
    }
   ],
   "source": [
    "data.describe()"
   ]
  },
  {
   "cell_type": "code",
   "execution_count": 11,
   "metadata": {},
   "outputs": [
    {
     "data": {
      "text/plain": [
       "<bound method DataFrame.info of        TOWN  YEAR   JAN   FEB   MAR    APR    MAY     JUN     JUL     AUG  \\\n",
       "0    DOUALA  1901  28.7  44.7  51.6  160.0  174.7   824.6   743.0   357.5   \n",
       "1    DOUALA  1902   6.7   2.6  57.3   83.9  134.5   390.9  1205.0   315.8   \n",
       "2    DOUALA  1903   3.2  18.6   3.1   83.6  249.7   558.6  1022.5   420.2   \n",
       "3    DOUALA  1904  23.7   3.0  32.2   71.5  235.7  1098.2   725.5   351.8   \n",
       "4    DOUALA  1905   1.2  22.3   9.4  105.9  263.3   850.2   520.5   293.6   \n",
       "..      ...   ...   ...   ...   ...    ...    ...     ...     ...     ...   \n",
       "113  DOUALA  2014   4.6  10.3  17.9   95.7  251.0   454.4   677.8   733.9   \n",
       "114  DOUALA  2015   3.1   5.8  50.1  214.1  201.8   563.6   406.0   252.2   \n",
       "115  DOUALA  2016   2.4   3.8  35.9  143.0  186.4   522.2   412.3   325.5   \n",
       "116  DOUALA  2017   1.9   6.8   8.9   43.6  173.5   498.5   319.6   531.8   \n",
       "117  DOUALA  2018  29.1  52.1  48.6  116.4  183.8   625.4  1048.5  1398.9   \n",
       "\n",
       "       SEP    OCT    NOV    DEC   ANNUAL RAINFALL FLOODS  \n",
       "0    197.7  266.9  350.8   48.4            3248.6    YES  \n",
       "1    491.6  358.4  158.3  121.5            3326.6    YES  \n",
       "2    341.8  354.1  157.0   59.0            3271.2    YES  \n",
       "3    222.7  328.1   33.9    3.3            3129.7    YES  \n",
       "4    217.2  383.5   74.4    0.2            2741.6     NO  \n",
       "..     ...    ...    ...    ...               ...    ...  \n",
       "113  298.8  355.5   99.5   47.2            3046.4    YES  \n",
       "114  292.9  308.1  223.6   79.4            2600.6     NO  \n",
       "115  173.2  225.9  125.4   23.6            2176.6     NO  \n",
       "116  209.5  192.4   92.5   38.1            2117.1     NO  \n",
       "117  423.6  356.1  125.4   65.1            4473.0    YES  \n",
       "\n",
       "[118 rows x 16 columns]>"
      ]
     },
     "execution_count": 11,
     "metadata": {},
     "output_type": "execute_result"
    }
   ],
   "source": [
    "data.info"
   ]
  },
  {
   "cell_type": "code",
   "execution_count": 12,
   "metadata": {},
   "outputs": [
    {
     "data": {
      "text/html": [
       "<div>\n",
       "<style scoped>\n",
       "    .dataframe tbody tr th:only-of-type {\n",
       "        vertical-align: middle;\n",
       "    }\n",
       "\n",
       "    .dataframe tbody tr th {\n",
       "        vertical-align: top;\n",
       "    }\n",
       "\n",
       "    .dataframe thead th {\n",
       "        text-align: right;\n",
       "    }\n",
       "</style>\n",
       "<table border=\"1\" class=\"dataframe\">\n",
       "  <thead>\n",
       "    <tr style=\"text-align: right;\">\n",
       "      <th></th>\n",
       "      <th>YEAR</th>\n",
       "      <th>JAN</th>\n",
       "      <th>FEB</th>\n",
       "      <th>MAR</th>\n",
       "      <th>APR</th>\n",
       "      <th>MAY</th>\n",
       "      <th>JUN</th>\n",
       "      <th>JUL</th>\n",
       "      <th>AUG</th>\n",
       "      <th>SEP</th>\n",
       "      <th>OCT</th>\n",
       "      <th>NOV</th>\n",
       "      <th>DEC</th>\n",
       "      <th>ANNUAL RAINFALL</th>\n",
       "    </tr>\n",
       "  </thead>\n",
       "  <tbody>\n",
       "    <tr>\n",
       "      <th>YEAR</th>\n",
       "      <td>1170.166667</td>\n",
       "      <td>-119.378632</td>\n",
       "      <td>2.176923</td>\n",
       "      <td>-13.207265</td>\n",
       "      <td>132.625641</td>\n",
       "      <td>-301.126068</td>\n",
       "      <td>-1114.149145</td>\n",
       "      <td>-1749.953846</td>\n",
       "      <td>274.983761</td>\n",
       "      <td>448.915812</td>\n",
       "      <td>-96.876496</td>\n",
       "      <td>-370.360256</td>\n",
       "      <td>-155.123504</td>\n",
       "      <td>-3063.344444</td>\n",
       "    </tr>\n",
       "    <tr>\n",
       "      <th>JAN</th>\n",
       "      <td>-119.378632</td>\n",
       "      <td>239.437427</td>\n",
       "      <td>4.979192</td>\n",
       "      <td>36.577053</td>\n",
       "      <td>24.039512</td>\n",
       "      <td>163.062403</td>\n",
       "      <td>545.574281</td>\n",
       "      <td>121.970900</td>\n",
       "      <td>24.434163</td>\n",
       "      <td>-214.094844</td>\n",
       "      <td>-50.812451</td>\n",
       "      <td>-14.205421</td>\n",
       "      <td>-50.968209</td>\n",
       "      <td>830.154092</td>\n",
       "    </tr>\n",
       "    <tr>\n",
       "      <th>FEB</th>\n",
       "      <td>2.176923</td>\n",
       "      <td>4.979192</td>\n",
       "      <td>269.166362</td>\n",
       "      <td>121.027766</td>\n",
       "      <td>90.585966</td>\n",
       "      <td>-202.129655</td>\n",
       "      <td>165.293580</td>\n",
       "      <td>21.748364</td>\n",
       "      <td>69.442838</td>\n",
       "      <td>132.629654</td>\n",
       "      <td>81.684355</td>\n",
       "      <td>-222.332684</td>\n",
       "      <td>-76.434079</td>\n",
       "      <td>455.913330</td>\n",
       "    </tr>\n",
       "    <tr>\n",
       "      <th>MAR</th>\n",
       "      <td>-13.207265</td>\n",
       "      <td>36.577053</td>\n",
       "      <td>121.027766</td>\n",
       "      <td>903.835779</td>\n",
       "      <td>99.315784</td>\n",
       "      <td>-456.721990</td>\n",
       "      <td>106.348567</td>\n",
       "      <td>126.186249</td>\n",
       "      <td>232.033874</td>\n",
       "      <td>527.184758</td>\n",
       "      <td>-64.980285</td>\n",
       "      <td>-81.573089</td>\n",
       "      <td>28.990108</td>\n",
       "      <td>1578.305793</td>\n",
       "    </tr>\n",
       "    <tr>\n",
       "      <th>APR</th>\n",
       "      <td>132.625641</td>\n",
       "      <td>24.039512</td>\n",
       "      <td>90.585966</td>\n",
       "      <td>99.315784</td>\n",
       "      <td>1992.145044</td>\n",
       "      <td>-754.490185</td>\n",
       "      <td>606.540393</td>\n",
       "      <td>153.070058</td>\n",
       "      <td>-388.591540</td>\n",
       "      <td>70.336859</td>\n",
       "      <td>473.330962</td>\n",
       "      <td>82.464276</td>\n",
       "      <td>-180.710372</td>\n",
       "      <td>2267.590185</td>\n",
       "    </tr>\n",
       "    <tr>\n",
       "      <th>MAY</th>\n",
       "      <td>-301.126068</td>\n",
       "      <td>163.062403</td>\n",
       "      <td>-202.129655</td>\n",
       "      <td>-456.721990</td>\n",
       "      <td>-754.490185</td>\n",
       "      <td>21770.641812</td>\n",
       "      <td>33.929279</td>\n",
       "      <td>-1571.703571</td>\n",
       "      <td>-3340.586652</td>\n",
       "      <td>2101.892304</td>\n",
       "      <td>2725.149056</td>\n",
       "      <td>1165.417193</td>\n",
       "      <td>-638.978371</td>\n",
       "      <td>20997.420795</td>\n",
       "    </tr>\n",
       "    <tr>\n",
       "      <th>JUN</th>\n",
       "      <td>-1114.149145</td>\n",
       "      <td>545.574281</td>\n",
       "      <td>165.293580</td>\n",
       "      <td>106.348567</td>\n",
       "      <td>606.540393</td>\n",
       "      <td>33.929279</td>\n",
       "      <td>34663.499937</td>\n",
       "      <td>4047.567071</td>\n",
       "      <td>-492.944239</td>\n",
       "      <td>-1194.576633</td>\n",
       "      <td>20.161145</td>\n",
       "      <td>247.329460</td>\n",
       "      <td>-581.699654</td>\n",
       "      <td>38170.332986</td>\n",
       "    </tr>\n",
       "    <tr>\n",
       "      <th>JUL</th>\n",
       "      <td>-1749.953846</td>\n",
       "      <td>121.970900</td>\n",
       "      <td>21.748364</td>\n",
       "      <td>126.186249</td>\n",
       "      <td>153.070058</td>\n",
       "      <td>-1571.703571</td>\n",
       "      <td>4047.567071</td>\n",
       "      <td>52435.946420</td>\n",
       "      <td>6436.876865</td>\n",
       "      <td>5846.347194</td>\n",
       "      <td>541.214459</td>\n",
       "      <td>-543.479371</td>\n",
       "      <td>-113.988396</td>\n",
       "      <td>67508.201520</td>\n",
       "    </tr>\n",
       "    <tr>\n",
       "      <th>AUG</th>\n",
       "      <td>274.983761</td>\n",
       "      <td>24.434163</td>\n",
       "      <td>69.442838</td>\n",
       "      <td>232.033874</td>\n",
       "      <td>-388.591540</td>\n",
       "      <td>-3340.586652</td>\n",
       "      <td>-492.944239</td>\n",
       "      <td>6436.876865</td>\n",
       "      <td>33116.888805</td>\n",
       "      <td>2178.762799</td>\n",
       "      <td>-3094.959423</td>\n",
       "      <td>-1706.808293</td>\n",
       "      <td>948.365073</td>\n",
       "      <td>33987.052721</td>\n",
       "    </tr>\n",
       "    <tr>\n",
       "      <th>SEP</th>\n",
       "      <td>448.915812</td>\n",
       "      <td>-214.094844</td>\n",
       "      <td>132.629654</td>\n",
       "      <td>527.184758</td>\n",
       "      <td>70.336859</td>\n",
       "      <td>2101.892304</td>\n",
       "      <td>-1194.576633</td>\n",
       "      <td>5846.347194</td>\n",
       "      <td>2178.762799</td>\n",
       "      <td>14859.885839</td>\n",
       "      <td>-369.500828</td>\n",
       "      <td>-280.077350</td>\n",
       "      <td>-49.210243</td>\n",
       "      <td>23610.285602</td>\n",
       "    </tr>\n",
       "    <tr>\n",
       "      <th>OCT</th>\n",
       "      <td>-96.876496</td>\n",
       "      <td>-50.812451</td>\n",
       "      <td>81.684355</td>\n",
       "      <td>-64.980285</td>\n",
       "      <td>473.330962</td>\n",
       "      <td>2725.149056</td>\n",
       "      <td>20.161145</td>\n",
       "      <td>541.214459</td>\n",
       "      <td>-3094.959423</td>\n",
       "      <td>-369.500828</td>\n",
       "      <td>8780.674386</td>\n",
       "      <td>-187.580256</td>\n",
       "      <td>-134.262978</td>\n",
       "      <td>8722.467910</td>\n",
       "    </tr>\n",
       "    <tr>\n",
       "      <th>NOV</th>\n",
       "      <td>-370.360256</td>\n",
       "      <td>-14.205421</td>\n",
       "      <td>-222.332684</td>\n",
       "      <td>-81.573089</td>\n",
       "      <td>82.464276</td>\n",
       "      <td>1165.417193</td>\n",
       "      <td>247.329460</td>\n",
       "      <td>-543.479371</td>\n",
       "      <td>-1706.808293</td>\n",
       "      <td>-280.077350</td>\n",
       "      <td>-187.580256</td>\n",
       "      <td>6922.320647</td>\n",
       "      <td>215.801948</td>\n",
       "      <td>5597.319516</td>\n",
       "    </tr>\n",
       "    <tr>\n",
       "      <th>DEC</th>\n",
       "      <td>-155.123504</td>\n",
       "      <td>-50.968209</td>\n",
       "      <td>-76.434079</td>\n",
       "      <td>28.990108</td>\n",
       "      <td>-180.710372</td>\n",
       "      <td>-638.978371</td>\n",
       "      <td>-581.699654</td>\n",
       "      <td>-113.988396</td>\n",
       "      <td>948.365073</td>\n",
       "      <td>-49.210243</td>\n",
       "      <td>-134.262978</td>\n",
       "      <td>215.801948</td>\n",
       "      <td>1345.153160</td>\n",
       "      <td>712.560721</td>\n",
       "    </tr>\n",
       "    <tr>\n",
       "      <th>ANNUAL RAINFALL</th>\n",
       "      <td>-3063.344444</td>\n",
       "      <td>830.154092</td>\n",
       "      <td>455.913330</td>\n",
       "      <td>1578.305793</td>\n",
       "      <td>2267.590185</td>\n",
       "      <td>20997.420795</td>\n",
       "      <td>38170.332986</td>\n",
       "      <td>67508.201520</td>\n",
       "      <td>33987.052721</td>\n",
       "      <td>23610.285602</td>\n",
       "      <td>8722.467910</td>\n",
       "      <td>5597.319516</td>\n",
       "      <td>712.560721</td>\n",
       "      <td>204457.172453</td>\n",
       "    </tr>\n",
       "  </tbody>\n",
       "</table>\n",
       "</div>"
      ],
      "text/plain": [
       "                         YEAR         JAN         FEB          MAR  \\\n",
       "YEAR              1170.166667 -119.378632    2.176923   -13.207265   \n",
       "JAN               -119.378632  239.437427    4.979192    36.577053   \n",
       "FEB                  2.176923    4.979192  269.166362   121.027766   \n",
       "MAR                -13.207265   36.577053  121.027766   903.835779   \n",
       "APR                132.625641   24.039512   90.585966    99.315784   \n",
       "MAY               -301.126068  163.062403 -202.129655  -456.721990   \n",
       "JUN              -1114.149145  545.574281  165.293580   106.348567   \n",
       "JUL              -1749.953846  121.970900   21.748364   126.186249   \n",
       "AUG                274.983761   24.434163   69.442838   232.033874   \n",
       "SEP                448.915812 -214.094844  132.629654   527.184758   \n",
       "OCT                -96.876496  -50.812451   81.684355   -64.980285   \n",
       "NOV               -370.360256  -14.205421 -222.332684   -81.573089   \n",
       "DEC               -155.123504  -50.968209  -76.434079    28.990108   \n",
       " ANNUAL RAINFALL -3063.344444  830.154092  455.913330  1578.305793   \n",
       "\n",
       "                          APR           MAY           JUN           JUL  \\\n",
       "YEAR               132.625641   -301.126068  -1114.149145  -1749.953846   \n",
       "JAN                 24.039512    163.062403    545.574281    121.970900   \n",
       "FEB                 90.585966   -202.129655    165.293580     21.748364   \n",
       "MAR                 99.315784   -456.721990    106.348567    126.186249   \n",
       "APR               1992.145044   -754.490185    606.540393    153.070058   \n",
       "MAY               -754.490185  21770.641812     33.929279  -1571.703571   \n",
       "JUN                606.540393     33.929279  34663.499937   4047.567071   \n",
       "JUL                153.070058  -1571.703571   4047.567071  52435.946420   \n",
       "AUG               -388.591540  -3340.586652   -492.944239   6436.876865   \n",
       "SEP                 70.336859   2101.892304  -1194.576633   5846.347194   \n",
       "OCT                473.330962   2725.149056     20.161145    541.214459   \n",
       "NOV                 82.464276   1165.417193    247.329460   -543.479371   \n",
       "DEC               -180.710372   -638.978371   -581.699654   -113.988396   \n",
       " ANNUAL RAINFALL  2267.590185  20997.420795  38170.332986  67508.201520   \n",
       "\n",
       "                           AUG           SEP          OCT          NOV  \\\n",
       "YEAR                274.983761    448.915812   -96.876496  -370.360256   \n",
       "JAN                  24.434163   -214.094844   -50.812451   -14.205421   \n",
       "FEB                  69.442838    132.629654    81.684355  -222.332684   \n",
       "MAR                 232.033874    527.184758   -64.980285   -81.573089   \n",
       "APR                -388.591540     70.336859   473.330962    82.464276   \n",
       "MAY               -3340.586652   2101.892304  2725.149056  1165.417193   \n",
       "JUN                -492.944239  -1194.576633    20.161145   247.329460   \n",
       "JUL                6436.876865   5846.347194   541.214459  -543.479371   \n",
       "AUG               33116.888805   2178.762799 -3094.959423 -1706.808293   \n",
       "SEP                2178.762799  14859.885839  -369.500828  -280.077350   \n",
       "OCT               -3094.959423   -369.500828  8780.674386  -187.580256   \n",
       "NOV               -1706.808293   -280.077350  -187.580256  6922.320647   \n",
       "DEC                 948.365073    -49.210243  -134.262978   215.801948   \n",
       " ANNUAL RAINFALL  33987.052721  23610.285602  8722.467910  5597.319516   \n",
       "\n",
       "                          DEC   ANNUAL RAINFALL  \n",
       "YEAR              -155.123504      -3063.344444  \n",
       "JAN                -50.968209        830.154092  \n",
       "FEB                -76.434079        455.913330  \n",
       "MAR                 28.990108       1578.305793  \n",
       "APR               -180.710372       2267.590185  \n",
       "MAY               -638.978371      20997.420795  \n",
       "JUN               -581.699654      38170.332986  \n",
       "JUL               -113.988396      67508.201520  \n",
       "AUG                948.365073      33987.052721  \n",
       "SEP                -49.210243      23610.285602  \n",
       "OCT               -134.262978       8722.467910  \n",
       "NOV                215.801948       5597.319516  \n",
       "DEC               1345.153160        712.560721  \n",
       " ANNUAL RAINFALL   712.560721     204457.172453  "
      ]
     },
     "execution_count": 12,
     "metadata": {},
     "output_type": "execute_result"
    }
   ],
   "source": [
    "data.cov()"
   ]
  },
  {
   "cell_type": "code",
   "execution_count": 13,
   "metadata": {},
   "outputs": [
    {
     "data": {
      "text/html": [
       "<div>\n",
       "<style scoped>\n",
       "    .dataframe tbody tr th:only-of-type {\n",
       "        vertical-align: middle;\n",
       "    }\n",
       "\n",
       "    .dataframe tbody tr th {\n",
       "        vertical-align: top;\n",
       "    }\n",
       "\n",
       "    .dataframe thead th {\n",
       "        text-align: right;\n",
       "    }\n",
       "</style>\n",
       "<table border=\"1\" class=\"dataframe\">\n",
       "  <thead>\n",
       "    <tr style=\"text-align: right;\">\n",
       "      <th></th>\n",
       "      <th>YEAR</th>\n",
       "      <th>JAN</th>\n",
       "      <th>FEB</th>\n",
       "      <th>MAR</th>\n",
       "      <th>APR</th>\n",
       "      <th>MAY</th>\n",
       "      <th>JUN</th>\n",
       "      <th>JUL</th>\n",
       "      <th>AUG</th>\n",
       "      <th>SEP</th>\n",
       "      <th>OCT</th>\n",
       "      <th>NOV</th>\n",
       "      <th>DEC</th>\n",
       "      <th>ANNUAL RAINFALL</th>\n",
       "    </tr>\n",
       "  </thead>\n",
       "  <tbody>\n",
       "    <tr>\n",
       "      <th>YEAR</th>\n",
       "      <td>1.000000</td>\n",
       "      <td>-0.225531</td>\n",
       "      <td>0.003879</td>\n",
       "      <td>-0.012842</td>\n",
       "      <td>0.086865</td>\n",
       "      <td>-0.059661</td>\n",
       "      <td>-0.174938</td>\n",
       "      <td>-0.223403</td>\n",
       "      <td>0.044173</td>\n",
       "      <td>0.107655</td>\n",
       "      <td>-0.030223</td>\n",
       "      <td>-0.130129</td>\n",
       "      <td>-0.123643</td>\n",
       "      <td>-0.198048</td>\n",
       "    </tr>\n",
       "    <tr>\n",
       "      <th>JAN</th>\n",
       "      <td>-0.225531</td>\n",
       "      <td>1.000000</td>\n",
       "      <td>0.019613</td>\n",
       "      <td>0.078626</td>\n",
       "      <td>0.034807</td>\n",
       "      <td>0.071420</td>\n",
       "      <td>0.189375</td>\n",
       "      <td>0.034423</td>\n",
       "      <td>0.008677</td>\n",
       "      <td>-0.113502</td>\n",
       "      <td>-0.035044</td>\n",
       "      <td>-0.011034</td>\n",
       "      <td>-0.089809</td>\n",
       "      <td>0.118648</td>\n",
       "    </tr>\n",
       "    <tr>\n",
       "      <th>FEB</th>\n",
       "      <td>0.003879</td>\n",
       "      <td>0.019613</td>\n",
       "      <td>1.000000</td>\n",
       "      <td>0.245375</td>\n",
       "      <td>0.123706</td>\n",
       "      <td>-0.083500</td>\n",
       "      <td>0.054114</td>\n",
       "      <td>0.005789</td>\n",
       "      <td>0.023259</td>\n",
       "      <td>0.066317</td>\n",
       "      <td>0.053133</td>\n",
       "      <td>-0.162880</td>\n",
       "      <td>-0.127025</td>\n",
       "      <td>0.061457</td>\n",
       "    </tr>\n",
       "    <tr>\n",
       "      <th>MAR</th>\n",
       "      <td>-0.012842</td>\n",
       "      <td>0.078626</td>\n",
       "      <td>0.245375</td>\n",
       "      <td>1.000000</td>\n",
       "      <td>0.074014</td>\n",
       "      <td>-0.102961</td>\n",
       "      <td>0.019000</td>\n",
       "      <td>0.018330</td>\n",
       "      <td>0.042411</td>\n",
       "      <td>0.143850</td>\n",
       "      <td>-0.023066</td>\n",
       "      <td>-0.032612</td>\n",
       "      <td>0.026292</td>\n",
       "      <td>0.116103</td>\n",
       "    </tr>\n",
       "    <tr>\n",
       "      <th>APR</th>\n",
       "      <td>0.086865</td>\n",
       "      <td>0.034807</td>\n",
       "      <td>0.123706</td>\n",
       "      <td>0.074014</td>\n",
       "      <td>1.000000</td>\n",
       "      <td>-0.114566</td>\n",
       "      <td>0.072990</td>\n",
       "      <td>0.014977</td>\n",
       "      <td>-0.047842</td>\n",
       "      <td>0.012928</td>\n",
       "      <td>0.113172</td>\n",
       "      <td>0.022206</td>\n",
       "      <td>-0.110392</td>\n",
       "      <td>0.112358</td>\n",
       "    </tr>\n",
       "    <tr>\n",
       "      <th>MAY</th>\n",
       "      <td>-0.059661</td>\n",
       "      <td>0.071420</td>\n",
       "      <td>-0.083500</td>\n",
       "      <td>-0.102961</td>\n",
       "      <td>-0.114566</td>\n",
       "      <td>1.000000</td>\n",
       "      <td>0.001235</td>\n",
       "      <td>-0.046518</td>\n",
       "      <td>-0.124412</td>\n",
       "      <td>0.116860</td>\n",
       "      <td>0.197102</td>\n",
       "      <td>0.094934</td>\n",
       "      <td>-0.118077</td>\n",
       "      <td>0.314723</td>\n",
       "    </tr>\n",
       "    <tr>\n",
       "      <th>JUN</th>\n",
       "      <td>-0.174938</td>\n",
       "      <td>0.189375</td>\n",
       "      <td>0.054114</td>\n",
       "      <td>0.019000</td>\n",
       "      <td>0.072990</td>\n",
       "      <td>0.001235</td>\n",
       "      <td>1.000000</td>\n",
       "      <td>0.094939</td>\n",
       "      <td>-0.014549</td>\n",
       "      <td>-0.052634</td>\n",
       "      <td>0.001156</td>\n",
       "      <td>0.015967</td>\n",
       "      <td>-0.085188</td>\n",
       "      <td>0.453407</td>\n",
       "    </tr>\n",
       "    <tr>\n",
       "      <th>JUL</th>\n",
       "      <td>-0.223403</td>\n",
       "      <td>0.034423</td>\n",
       "      <td>0.005789</td>\n",
       "      <td>0.018330</td>\n",
       "      <td>0.014977</td>\n",
       "      <td>-0.046518</td>\n",
       "      <td>0.094939</td>\n",
       "      <td>1.000000</td>\n",
       "      <td>0.154467</td>\n",
       "      <td>0.209441</td>\n",
       "      <td>0.025223</td>\n",
       "      <td>-0.028526</td>\n",
       "      <td>-0.013573</td>\n",
       "      <td>0.651990</td>\n",
       "    </tr>\n",
       "    <tr>\n",
       "      <th>AUG</th>\n",
       "      <td>0.044173</td>\n",
       "      <td>0.008677</td>\n",
       "      <td>0.023259</td>\n",
       "      <td>0.042411</td>\n",
       "      <td>-0.047842</td>\n",
       "      <td>-0.124412</td>\n",
       "      <td>-0.014549</td>\n",
       "      <td>0.154467</td>\n",
       "      <td>1.000000</td>\n",
       "      <td>0.098215</td>\n",
       "      <td>-0.181496</td>\n",
       "      <td>-0.112729</td>\n",
       "      <td>0.142090</td>\n",
       "      <td>0.413036</td>\n",
       "    </tr>\n",
       "    <tr>\n",
       "      <th>SEP</th>\n",
       "      <td>0.107655</td>\n",
       "      <td>-0.113502</td>\n",
       "      <td>0.066317</td>\n",
       "      <td>0.143850</td>\n",
       "      <td>0.012928</td>\n",
       "      <td>0.116860</td>\n",
       "      <td>-0.052634</td>\n",
       "      <td>0.209441</td>\n",
       "      <td>0.098215</td>\n",
       "      <td>1.000000</td>\n",
       "      <td>-0.032348</td>\n",
       "      <td>-0.027615</td>\n",
       "      <td>-0.011007</td>\n",
       "      <td>0.428344</td>\n",
       "    </tr>\n",
       "    <tr>\n",
       "      <th>OCT</th>\n",
       "      <td>-0.030223</td>\n",
       "      <td>-0.035044</td>\n",
       "      <td>0.053133</td>\n",
       "      <td>-0.023066</td>\n",
       "      <td>0.113172</td>\n",
       "      <td>0.197102</td>\n",
       "      <td>0.001156</td>\n",
       "      <td>0.025223</td>\n",
       "      <td>-0.181496</td>\n",
       "      <td>-0.032348</td>\n",
       "      <td>1.000000</td>\n",
       "      <td>-0.024060</td>\n",
       "      <td>-0.039067</td>\n",
       "      <td>0.205861</td>\n",
       "    </tr>\n",
       "    <tr>\n",
       "      <th>NOV</th>\n",
       "      <td>-0.130129</td>\n",
       "      <td>-0.011034</td>\n",
       "      <td>-0.162880</td>\n",
       "      <td>-0.032612</td>\n",
       "      <td>0.022206</td>\n",
       "      <td>0.094934</td>\n",
       "      <td>0.015967</td>\n",
       "      <td>-0.028526</td>\n",
       "      <td>-0.112729</td>\n",
       "      <td>-0.027615</td>\n",
       "      <td>-0.024060</td>\n",
       "      <td>1.000000</td>\n",
       "      <td>0.070720</td>\n",
       "      <td>0.148783</td>\n",
       "    </tr>\n",
       "    <tr>\n",
       "      <th>DEC</th>\n",
       "      <td>-0.123643</td>\n",
       "      <td>-0.089809</td>\n",
       "      <td>-0.127025</td>\n",
       "      <td>0.026292</td>\n",
       "      <td>-0.110392</td>\n",
       "      <td>-0.118077</td>\n",
       "      <td>-0.085188</td>\n",
       "      <td>-0.013573</td>\n",
       "      <td>0.142090</td>\n",
       "      <td>-0.011007</td>\n",
       "      <td>-0.039067</td>\n",
       "      <td>0.070720</td>\n",
       "      <td>1.000000</td>\n",
       "      <td>0.042967</td>\n",
       "    </tr>\n",
       "    <tr>\n",
       "      <th>ANNUAL RAINFALL</th>\n",
       "      <td>-0.198048</td>\n",
       "      <td>0.118648</td>\n",
       "      <td>0.061457</td>\n",
       "      <td>0.116103</td>\n",
       "      <td>0.112358</td>\n",
       "      <td>0.314723</td>\n",
       "      <td>0.453407</td>\n",
       "      <td>0.651990</td>\n",
       "      <td>0.413036</td>\n",
       "      <td>0.428344</td>\n",
       "      <td>0.205861</td>\n",
       "      <td>0.148783</td>\n",
       "      <td>0.042967</td>\n",
       "      <td>1.000000</td>\n",
       "    </tr>\n",
       "  </tbody>\n",
       "</table>\n",
       "</div>"
      ],
      "text/plain": [
       "                      YEAR       JAN       FEB       MAR       APR       MAY  \\\n",
       "YEAR              1.000000 -0.225531  0.003879 -0.012842  0.086865 -0.059661   \n",
       "JAN              -0.225531  1.000000  0.019613  0.078626  0.034807  0.071420   \n",
       "FEB               0.003879  0.019613  1.000000  0.245375  0.123706 -0.083500   \n",
       "MAR              -0.012842  0.078626  0.245375  1.000000  0.074014 -0.102961   \n",
       "APR               0.086865  0.034807  0.123706  0.074014  1.000000 -0.114566   \n",
       "MAY              -0.059661  0.071420 -0.083500 -0.102961 -0.114566  1.000000   \n",
       "JUN              -0.174938  0.189375  0.054114  0.019000  0.072990  0.001235   \n",
       "JUL              -0.223403  0.034423  0.005789  0.018330  0.014977 -0.046518   \n",
       "AUG               0.044173  0.008677  0.023259  0.042411 -0.047842 -0.124412   \n",
       "SEP               0.107655 -0.113502  0.066317  0.143850  0.012928  0.116860   \n",
       "OCT              -0.030223 -0.035044  0.053133 -0.023066  0.113172  0.197102   \n",
       "NOV              -0.130129 -0.011034 -0.162880 -0.032612  0.022206  0.094934   \n",
       "DEC              -0.123643 -0.089809 -0.127025  0.026292 -0.110392 -0.118077   \n",
       " ANNUAL RAINFALL -0.198048  0.118648  0.061457  0.116103  0.112358  0.314723   \n",
       "\n",
       "                       JUN       JUL       AUG       SEP       OCT       NOV  \\\n",
       "YEAR             -0.174938 -0.223403  0.044173  0.107655 -0.030223 -0.130129   \n",
       "JAN               0.189375  0.034423  0.008677 -0.113502 -0.035044 -0.011034   \n",
       "FEB               0.054114  0.005789  0.023259  0.066317  0.053133 -0.162880   \n",
       "MAR               0.019000  0.018330  0.042411  0.143850 -0.023066 -0.032612   \n",
       "APR               0.072990  0.014977 -0.047842  0.012928  0.113172  0.022206   \n",
       "MAY               0.001235 -0.046518 -0.124412  0.116860  0.197102  0.094934   \n",
       "JUN               1.000000  0.094939 -0.014549 -0.052634  0.001156  0.015967   \n",
       "JUL               0.094939  1.000000  0.154467  0.209441  0.025223 -0.028526   \n",
       "AUG              -0.014549  0.154467  1.000000  0.098215 -0.181496 -0.112729   \n",
       "SEP              -0.052634  0.209441  0.098215  1.000000 -0.032348 -0.027615   \n",
       "OCT               0.001156  0.025223 -0.181496 -0.032348  1.000000 -0.024060   \n",
       "NOV               0.015967 -0.028526 -0.112729 -0.027615 -0.024060  1.000000   \n",
       "DEC              -0.085188 -0.013573  0.142090 -0.011007 -0.039067  0.070720   \n",
       " ANNUAL RAINFALL  0.453407  0.651990  0.413036  0.428344  0.205861  0.148783   \n",
       "\n",
       "                       DEC   ANNUAL RAINFALL  \n",
       "YEAR             -0.123643         -0.198048  \n",
       "JAN              -0.089809          0.118648  \n",
       "FEB              -0.127025          0.061457  \n",
       "MAR               0.026292          0.116103  \n",
       "APR              -0.110392          0.112358  \n",
       "MAY              -0.118077          0.314723  \n",
       "JUN              -0.085188          0.453407  \n",
       "JUL              -0.013573          0.651990  \n",
       "AUG               0.142090          0.413036  \n",
       "SEP              -0.011007          0.428344  \n",
       "OCT              -0.039067          0.205861  \n",
       "NOV               0.070720          0.148783  \n",
       "DEC               1.000000          0.042967  \n",
       " ANNUAL RAINFALL  0.042967          1.000000  "
      ]
     },
     "execution_count": 13,
     "metadata": {},
     "output_type": "execute_result"
    }
   ],
   "source": [
    "data.corr()"
   ]
  },
  {
   "cell_type": "code",
   "execution_count": 14,
   "metadata": {},
   "outputs": [],
   "source": [
    "# replacing the yes/no in floods coloumn by 1/0\n",
    "data['FLOODS'].replace(['YES','NO'],[1,0],inplace=True)"
   ]
  },
  {
   "cell_type": "code",
   "execution_count": 15,
   "metadata": {},
   "outputs": [
    {
     "data": {
      "text/html": [
       "<div>\n",
       "<style scoped>\n",
       "    .dataframe tbody tr th:only-of-type {\n",
       "        vertical-align: middle;\n",
       "    }\n",
       "\n",
       "    .dataframe tbody tr th {\n",
       "        vertical-align: top;\n",
       "    }\n",
       "\n",
       "    .dataframe thead th {\n",
       "        text-align: right;\n",
       "    }\n",
       "</style>\n",
       "<table border=\"1\" class=\"dataframe\">\n",
       "  <thead>\n",
       "    <tr style=\"text-align: right;\">\n",
       "      <th></th>\n",
       "      <th>TOWN</th>\n",
       "      <th>YEAR</th>\n",
       "      <th>JAN</th>\n",
       "      <th>FEB</th>\n",
       "      <th>MAR</th>\n",
       "      <th>APR</th>\n",
       "      <th>MAY</th>\n",
       "      <th>JUN</th>\n",
       "      <th>JUL</th>\n",
       "      <th>AUG</th>\n",
       "      <th>SEP</th>\n",
       "      <th>OCT</th>\n",
       "      <th>NOV</th>\n",
       "      <th>DEC</th>\n",
       "      <th>ANNUAL RAINFALL</th>\n",
       "      <th>FLOODS</th>\n",
       "    </tr>\n",
       "  </thead>\n",
       "  <tbody>\n",
       "    <tr>\n",
       "      <th>0</th>\n",
       "      <td>DOUALA</td>\n",
       "      <td>1901</td>\n",
       "      <td>28.7</td>\n",
       "      <td>44.7</td>\n",
       "      <td>51.6</td>\n",
       "      <td>160.0</td>\n",
       "      <td>174.7</td>\n",
       "      <td>824.6</td>\n",
       "      <td>743.0</td>\n",
       "      <td>357.5</td>\n",
       "      <td>197.7</td>\n",
       "      <td>266.9</td>\n",
       "      <td>350.8</td>\n",
       "      <td>48.4</td>\n",
       "      <td>3248.6</td>\n",
       "      <td>1</td>\n",
       "    </tr>\n",
       "    <tr>\n",
       "      <th>1</th>\n",
       "      <td>DOUALA</td>\n",
       "      <td>1902</td>\n",
       "      <td>6.7</td>\n",
       "      <td>2.6</td>\n",
       "      <td>57.3</td>\n",
       "      <td>83.9</td>\n",
       "      <td>134.5</td>\n",
       "      <td>390.9</td>\n",
       "      <td>1205.0</td>\n",
       "      <td>315.8</td>\n",
       "      <td>491.6</td>\n",
       "      <td>358.4</td>\n",
       "      <td>158.3</td>\n",
       "      <td>121.5</td>\n",
       "      <td>3326.6</td>\n",
       "      <td>1</td>\n",
       "    </tr>\n",
       "    <tr>\n",
       "      <th>2</th>\n",
       "      <td>DOUALA</td>\n",
       "      <td>1903</td>\n",
       "      <td>3.2</td>\n",
       "      <td>18.6</td>\n",
       "      <td>3.1</td>\n",
       "      <td>83.6</td>\n",
       "      <td>249.7</td>\n",
       "      <td>558.6</td>\n",
       "      <td>1022.5</td>\n",
       "      <td>420.2</td>\n",
       "      <td>341.8</td>\n",
       "      <td>354.1</td>\n",
       "      <td>157.0</td>\n",
       "      <td>59.0</td>\n",
       "      <td>3271.2</td>\n",
       "      <td>1</td>\n",
       "    </tr>\n",
       "    <tr>\n",
       "      <th>3</th>\n",
       "      <td>DOUALA</td>\n",
       "      <td>1904</td>\n",
       "      <td>23.7</td>\n",
       "      <td>3.0</td>\n",
       "      <td>32.2</td>\n",
       "      <td>71.5</td>\n",
       "      <td>235.7</td>\n",
       "      <td>1098.2</td>\n",
       "      <td>725.5</td>\n",
       "      <td>351.8</td>\n",
       "      <td>222.7</td>\n",
       "      <td>328.1</td>\n",
       "      <td>33.9</td>\n",
       "      <td>3.3</td>\n",
       "      <td>3129.7</td>\n",
       "      <td>1</td>\n",
       "    </tr>\n",
       "    <tr>\n",
       "      <th>4</th>\n",
       "      <td>DOUALA</td>\n",
       "      <td>1905</td>\n",
       "      <td>1.2</td>\n",
       "      <td>22.3</td>\n",
       "      <td>9.4</td>\n",
       "      <td>105.9</td>\n",
       "      <td>263.3</td>\n",
       "      <td>850.2</td>\n",
       "      <td>520.5</td>\n",
       "      <td>293.6</td>\n",
       "      <td>217.2</td>\n",
       "      <td>383.5</td>\n",
       "      <td>74.4</td>\n",
       "      <td>0.2</td>\n",
       "      <td>2741.6</td>\n",
       "      <td>0</td>\n",
       "    </tr>\n",
       "  </tbody>\n",
       "</table>\n",
       "</div>"
      ],
      "text/plain": [
       "     TOWN  YEAR   JAN   FEB   MAR    APR    MAY     JUN     JUL    AUG    SEP  \\\n",
       "0  DOUALA  1901  28.7  44.7  51.6  160.0  174.7   824.6   743.0  357.5  197.7   \n",
       "1  DOUALA  1902   6.7   2.6  57.3   83.9  134.5   390.9  1205.0  315.8  491.6   \n",
       "2  DOUALA  1903   3.2  18.6   3.1   83.6  249.7   558.6  1022.5  420.2  341.8   \n",
       "3  DOUALA  1904  23.7   3.0  32.2   71.5  235.7  1098.2   725.5  351.8  222.7   \n",
       "4  DOUALA  1905   1.2  22.3   9.4  105.9  263.3   850.2   520.5  293.6  217.2   \n",
       "\n",
       "     OCT    NOV    DEC   ANNUAL RAINFALL  FLOODS  \n",
       "0  266.9  350.8   48.4            3248.6       1  \n",
       "1  358.4  158.3  121.5            3326.6       1  \n",
       "2  354.1  157.0   59.0            3271.2       1  \n",
       "3  328.1   33.9    3.3            3129.7       1  \n",
       "4  383.5   74.4    0.2            2741.6       0  "
      ]
     },
     "execution_count": 15,
     "metadata": {},
     "output_type": "execute_result"
    }
   ],
   "source": [
    "#Printing the clean data\n",
    "data.head()"
   ]
  },
  {
   "cell_type": "code",
   "execution_count": 16,
   "metadata": {},
   "outputs": [
    {
     "data": {
      "text/html": [
       "<div>\n",
       "<style scoped>\n",
       "    .dataframe tbody tr th:only-of-type {\n",
       "        vertical-align: middle;\n",
       "    }\n",
       "\n",
       "    .dataframe tbody tr th {\n",
       "        vertical-align: top;\n",
       "    }\n",
       "\n",
       "    .dataframe thead th {\n",
       "        text-align: right;\n",
       "    }\n",
       "</style>\n",
       "<table border=\"1\" class=\"dataframe\">\n",
       "  <thead>\n",
       "    <tr style=\"text-align: right;\">\n",
       "      <th></th>\n",
       "      <th>YEAR</th>\n",
       "      <th>JAN</th>\n",
       "      <th>FEB</th>\n",
       "      <th>MAR</th>\n",
       "      <th>APR</th>\n",
       "      <th>MAY</th>\n",
       "      <th>JUN</th>\n",
       "      <th>JUL</th>\n",
       "      <th>AUG</th>\n",
       "      <th>SEP</th>\n",
       "      <th>OCT</th>\n",
       "      <th>NOV</th>\n",
       "      <th>DEC</th>\n",
       "    </tr>\n",
       "  </thead>\n",
       "  <tbody>\n",
       "    <tr>\n",
       "      <th>0</th>\n",
       "      <td>1901</td>\n",
       "      <td>28.7</td>\n",
       "      <td>44.7</td>\n",
       "      <td>51.6</td>\n",
       "      <td>160.0</td>\n",
       "      <td>174.7</td>\n",
       "      <td>824.6</td>\n",
       "      <td>743.0</td>\n",
       "      <td>357.5</td>\n",
       "      <td>197.7</td>\n",
       "      <td>266.9</td>\n",
       "      <td>350.8</td>\n",
       "      <td>48.4</td>\n",
       "    </tr>\n",
       "    <tr>\n",
       "      <th>1</th>\n",
       "      <td>1902</td>\n",
       "      <td>6.7</td>\n",
       "      <td>2.6</td>\n",
       "      <td>57.3</td>\n",
       "      <td>83.9</td>\n",
       "      <td>134.5</td>\n",
       "      <td>390.9</td>\n",
       "      <td>1205.0</td>\n",
       "      <td>315.8</td>\n",
       "      <td>491.6</td>\n",
       "      <td>358.4</td>\n",
       "      <td>158.3</td>\n",
       "      <td>121.5</td>\n",
       "    </tr>\n",
       "    <tr>\n",
       "      <th>2</th>\n",
       "      <td>1903</td>\n",
       "      <td>3.2</td>\n",
       "      <td>18.6</td>\n",
       "      <td>3.1</td>\n",
       "      <td>83.6</td>\n",
       "      <td>249.7</td>\n",
       "      <td>558.6</td>\n",
       "      <td>1022.5</td>\n",
       "      <td>420.2</td>\n",
       "      <td>341.8</td>\n",
       "      <td>354.1</td>\n",
       "      <td>157.0</td>\n",
       "      <td>59.0</td>\n",
       "    </tr>\n",
       "    <tr>\n",
       "      <th>3</th>\n",
       "      <td>1904</td>\n",
       "      <td>23.7</td>\n",
       "      <td>3.0</td>\n",
       "      <td>32.2</td>\n",
       "      <td>71.5</td>\n",
       "      <td>235.7</td>\n",
       "      <td>1098.2</td>\n",
       "      <td>725.5</td>\n",
       "      <td>351.8</td>\n",
       "      <td>222.7</td>\n",
       "      <td>328.1</td>\n",
       "      <td>33.9</td>\n",
       "      <td>3.3</td>\n",
       "    </tr>\n",
       "    <tr>\n",
       "      <th>4</th>\n",
       "      <td>1905</td>\n",
       "      <td>1.2</td>\n",
       "      <td>22.3</td>\n",
       "      <td>9.4</td>\n",
       "      <td>105.9</td>\n",
       "      <td>263.3</td>\n",
       "      <td>850.2</td>\n",
       "      <td>520.5</td>\n",
       "      <td>293.6</td>\n",
       "      <td>217.2</td>\n",
       "      <td>383.5</td>\n",
       "      <td>74.4</td>\n",
       "      <td>0.2</td>\n",
       "    </tr>\n",
       "  </tbody>\n",
       "</table>\n",
       "</div>"
      ],
      "text/plain": [
       "   YEAR   JAN   FEB   MAR    APR    MAY     JUN     JUL    AUG    SEP    OCT  \\\n",
       "0  1901  28.7  44.7  51.6  160.0  174.7   824.6   743.0  357.5  197.7  266.9   \n",
       "1  1902   6.7   2.6  57.3   83.9  134.5   390.9  1205.0  315.8  491.6  358.4   \n",
       "2  1903   3.2  18.6   3.1   83.6  249.7   558.6  1022.5  420.2  341.8  354.1   \n",
       "3  1904  23.7   3.0  32.2   71.5  235.7  1098.2   725.5  351.8  222.7  328.1   \n",
       "4  1905   1.2  22.3   9.4  105.9  263.3   850.2   520.5  293.6  217.2  383.5   \n",
       "\n",
       "     NOV    DEC  \n",
       "0  350.8   48.4  \n",
       "1  158.3  121.5  \n",
       "2  157.0   59.0  \n",
       "3   33.9    3.3  \n",
       "4   74.4    0.2  "
      ]
     },
     "execution_count": 16,
     "metadata": {},
     "output_type": "execute_result"
    }
   ],
   "source": [
    "# Seperating the data which we are gonna use for prediction.\n",
    "x=data.iloc[:,1:14]\n",
    "x.head()"
   ]
  },
  {
   "cell_type": "code",
   "execution_count": 17,
   "metadata": {},
   "outputs": [
    {
     "data": {
      "text/plain": [
       "0      1\n",
       "1      1\n",
       "2      1\n",
       "3      1\n",
       "4      0\n",
       "      ..\n",
       "113    1\n",
       "114    0\n",
       "115    0\n",
       "116    0\n",
       "117    1\n",
       "Name: FLOODS, Length: 118, dtype: int64"
      ]
     },
     "execution_count": 17,
     "metadata": {},
     "output_type": "execute_result"
    }
   ],
   "source": [
    "# Now seperate the flood label from the dataset.\n",
    "y=data.iloc[:,-1]\n",
    "y"
   ]
  },
  {
   "cell_type": "markdown",
   "metadata": {},
   "source": [
    "# Plotting the Data\n"
   ]
  },
  {
   "cell_type": "code",
   "execution_count": 18,
   "metadata": {},
   "outputs": [
    {
     "data": {
      "image/png": "[encoded data removed]",
      "text/plain": [
       "<Figure size 432x288 with 4 Axes>"
      ]
     },
     "metadata": {
      "needs_background": "light"
     },
     "output_type": "display_data"
    }
   ],
   "source": [
    "import matplotlib.pyplot as plt   \n",
    "# sets the backend of matplotlib to the 'inline' backend. \n",
    "%matplotlib inline                   \n",
    "c = data[['JUN','JUL','AUG','SEP']]\n",
    "c.hist()\n",
    "plt.show()\n",
    "# How the rainfall index vary during rainy season"
   ]
  },
  {
   "cell_type": "code",
   "execution_count": 19,
   "metadata": {},
   "outputs": [
    {
     "data": {
      "image/png": "[encoded data removed]",
      "text/plain": [
       "<Figure size 1008x432 with 1 Axes>"
      ]
     },
     "metadata": {
      "needs_background": "light"
     },
     "output_type": "display_data"
    }
   ],
   "source": [
    "ax = data[['JAN', 'FEB', 'MAR', 'APR','MAY', 'JUN', 'AUG', 'SEP', 'OCT','NOV','DEC']].mean().plot.bar(width=0.5,edgecolor='k',align='center',linewidth=2,figsize=(14,6))\n",
    "plt.xlabel('Month',fontsize=30)\n",
    "plt.ylabel('Monthly Rainfall',fontsize=20)\n",
    "plt.title('Rainfall in Douala for all Months',fontsize=25)\n",
    "ax.tick_params(labelsize=20)\n",
    "plt.grid()\n",
    "plt.ioff()"
   ]
  },
  {
   "cell_type": "markdown",
   "metadata": {},
   "source": [
    "# Using sklearn to develop the ML Model"
   ]
  },
  {
   "cell_type": "code",
   "execution_count": 20,
   "metadata": {},
   "outputs": [
    {
     "data": {
      "text/plain": [
       "array([[0.        , 0.34371257, 0.56582278, ..., 0.39727673, 0.95570189,\n",
       "        0.2388724 ],\n",
       "       [0.00854701, 0.08023952, 0.03291139, ..., 0.5804966 , 0.37952709,\n",
       "        0.60039565],\n",
       "       [0.01709402, 0.03832335, 0.23544304, ..., 0.57188626, 0.37563604,\n",
       "        0.29129575],\n",
       "       ...,\n",
       "       [0.98290598, 0.02874251, 0.04810127, ..., 0.31517821, 0.28105358,\n",
       "        0.11622156],\n",
       "       [0.99145299, 0.02275449, 0.08607595, ..., 0.24809772, 0.18258007,\n",
       "        0.18793274],\n",
       "       [1.        , 0.34850299, 0.65949367, ..., 0.57589107, 0.28105358,\n",
       "        0.3214639 ]])"
      ]
     },
     "execution_count": 20,
     "metadata": {},
     "output_type": "execute_result"
    }
   ],
   "source": [
    "# Scaling the data between 0 and 1.\n",
    "from sklearn import preprocessing\n",
    "minmax = preprocessing.MinMaxScaler(feature_range=(0,1))\n",
    "minmax.fit(x).transform(x)"
   ]
  },
  {
   "cell_type": "code",
   "execution_count": 21,
   "metadata": {},
   "outputs": [
    {
     "data": {
      "text/html": [
       "<div>\n",
       "<style scoped>\n",
       "    .dataframe tbody tr th:only-of-type {\n",
       "        vertical-align: middle;\n",
       "    }\n",
       "\n",
       "    .dataframe tbody tr th {\n",
       "        vertical-align: top;\n",
       "    }\n",
       "\n",
       "    .dataframe thead th {\n",
       "        text-align: right;\n",
       "    }\n",
       "</style>\n",
       "<table border=\"1\" class=\"dataframe\">\n",
       "  <thead>\n",
       "    <tr style=\"text-align: right;\">\n",
       "      <th></th>\n",
       "      <th>YEAR</th>\n",
       "      <th>JAN</th>\n",
       "      <th>FEB</th>\n",
       "      <th>MAR</th>\n",
       "      <th>APR</th>\n",
       "      <th>MAY</th>\n",
       "      <th>JUN</th>\n",
       "      <th>JUL</th>\n",
       "      <th>AUG</th>\n",
       "      <th>SEP</th>\n",
       "      <th>OCT</th>\n",
       "      <th>NOV</th>\n",
       "      <th>DEC</th>\n",
       "    </tr>\n",
       "  </thead>\n",
       "  <tbody>\n",
       "    <tr>\n",
       "      <th>90</th>\n",
       "      <td>1991</td>\n",
       "      <td>10.9</td>\n",
       "      <td>4.4</td>\n",
       "      <td>33.2</td>\n",
       "      <td>97.0</td>\n",
       "      <td>113.4</td>\n",
       "      <td>1096.1</td>\n",
       "      <td>905.5</td>\n",
       "      <td>465.5</td>\n",
       "      <td>48.5</td>\n",
       "      <td>307.8</td>\n",
       "      <td>99.9</td>\n",
       "      <td>2.3</td>\n",
       "    </tr>\n",
       "    <tr>\n",
       "      <th>36</th>\n",
       "      <td>1937</td>\n",
       "      <td>6.5</td>\n",
       "      <td>21.2</td>\n",
       "      <td>58.7</td>\n",
       "      <td>175.5</td>\n",
       "      <td>137.1</td>\n",
       "      <td>485.6</td>\n",
       "      <td>970.5</td>\n",
       "      <td>281.2</td>\n",
       "      <td>139.8</td>\n",
       "      <td>401.9</td>\n",
       "      <td>121.0</td>\n",
       "      <td>19.1</td>\n",
       "    </tr>\n",
       "    <tr>\n",
       "      <th>18</th>\n",
       "      <td>1919</td>\n",
       "      <td>43.0</td>\n",
       "      <td>6.1</td>\n",
       "      <td>33.9</td>\n",
       "      <td>65.9</td>\n",
       "      <td>247.0</td>\n",
       "      <td>636.8</td>\n",
       "      <td>648.0</td>\n",
       "      <td>484.2</td>\n",
       "      <td>255.9</td>\n",
       "      <td>249.2</td>\n",
       "      <td>280.1</td>\n",
       "      <td>53.0</td>\n",
       "    </tr>\n",
       "    <tr>\n",
       "      <th>27</th>\n",
       "      <td>1928</td>\n",
       "      <td>12.7</td>\n",
       "      <td>65.9</td>\n",
       "      <td>51.3</td>\n",
       "      <td>121.1</td>\n",
       "      <td>81.9</td>\n",
       "      <td>590.7</td>\n",
       "      <td>420.6</td>\n",
       "      <td>553.2</td>\n",
       "      <td>75.9</td>\n",
       "      <td>321.5</td>\n",
       "      <td>155.2</td>\n",
       "      <td>52.7</td>\n",
       "    </tr>\n",
       "    <tr>\n",
       "      <th>48</th>\n",
       "      <td>1949</td>\n",
       "      <td>0.6</td>\n",
       "      <td>1.8</td>\n",
       "      <td>4.5</td>\n",
       "      <td>98.1</td>\n",
       "      <td>440.0</td>\n",
       "      <td>536.3</td>\n",
       "      <td>758.7</td>\n",
       "      <td>445.2</td>\n",
       "      <td>354.5</td>\n",
       "      <td>229.1</td>\n",
       "      <td>71.9</td>\n",
       "      <td>1.8</td>\n",
       "    </tr>\n",
       "  </tbody>\n",
       "</table>\n",
       "</div>"
      ],
      "text/plain": [
       "    YEAR   JAN   FEB   MAR    APR    MAY     JUN    JUL    AUG    SEP    OCT  \\\n",
       "90  1991  10.9   4.4  33.2   97.0  113.4  1096.1  905.5  465.5   48.5  307.8   \n",
       "36  1937   6.5  21.2  58.7  175.5  137.1   485.6  970.5  281.2  139.8  401.9   \n",
       "18  1919  43.0   6.1  33.9   65.9  247.0   636.8  648.0  484.2  255.9  249.2   \n",
       "27  1928  12.7  65.9  51.3  121.1   81.9   590.7  420.6  553.2   75.9  321.5   \n",
       "48  1949   0.6   1.8   4.5   98.1  440.0   536.3  758.7  445.2  354.5  229.1   \n",
       "\n",
       "      NOV   DEC  \n",
       "90   99.9   2.3  \n",
       "36  121.0  19.1  \n",
       "18  280.1  53.0  \n",
       "27  155.2  52.7  \n",
       "48   71.9   1.8  "
      ]
     },
     "execution_count": 21,
     "metadata": {},
     "output_type": "execute_result"
    }
   ],
   "source": [
    "#dividing the dataset into training dataset and test dataset. \n",
    "from sklearn import model_selection,neighbors\n",
    "from sklearn.model_selection import train_test_split\n",
    "x_train,x_test,y_train,y_test=train_test_split(x,y,test_size=0.2)\n",
    "x_train.head()"
   ]
  },
  {
   "cell_type": "code",
   "execution_count": 22,
   "metadata": {},
   "outputs": [
    {
     "data": {
      "text/plain": [
       "YEAR      int64\n",
       "JAN     float64\n",
       "FEB     float64\n",
       "MAR     float64\n",
       "APR     float64\n",
       "MAY     float64\n",
       "JUN     float64\n",
       "JUL     float64\n",
       "AUG     float64\n",
       "SEP     float64\n",
       "OCT     float64\n",
       "NOV     float64\n",
       "DEC     float64\n",
       "dtype: object"
      ]
     },
     "execution_count": 22,
     "metadata": {},
     "output_type": "execute_result"
    }
   ],
   "source": [
    "x_train.dtypes"
   ]
  },
  {
   "cell_type": "code",
   "execution_count": 23,
   "metadata": {},
   "outputs": [
    {
     "data": {
      "text/html": [
       "<div>\n",
       "<style scoped>\n",
       "    .dataframe tbody tr th:only-of-type {\n",
       "        vertical-align: middle;\n",
       "    }\n",
       "\n",
       "    .dataframe tbody tr th {\n",
       "        vertical-align: top;\n",
       "    }\n",
       "\n",
       "    .dataframe thead th {\n",
       "        text-align: right;\n",
       "    }\n",
       "</style>\n",
       "<table border=\"1\" class=\"dataframe\">\n",
       "  <thead>\n",
       "    <tr style=\"text-align: right;\">\n",
       "      <th></th>\n",
       "      <th>YEAR</th>\n",
       "      <th>JAN</th>\n",
       "      <th>FEB</th>\n",
       "      <th>MAR</th>\n",
       "      <th>APR</th>\n",
       "      <th>MAY</th>\n",
       "      <th>JUN</th>\n",
       "      <th>JUL</th>\n",
       "      <th>AUG</th>\n",
       "      <th>SEP</th>\n",
       "      <th>OCT</th>\n",
       "      <th>NOV</th>\n",
       "      <th>DEC</th>\n",
       "    </tr>\n",
       "  </thead>\n",
       "  <tbody>\n",
       "    <tr>\n",
       "      <th>95</th>\n",
       "      <td>1996</td>\n",
       "      <td>2.8</td>\n",
       "      <td>9.1</td>\n",
       "      <td>14.4</td>\n",
       "      <td>124.3</td>\n",
       "      <td>74.3</td>\n",
       "      <td>572.4</td>\n",
       "      <td>696.0</td>\n",
       "      <td>327.4</td>\n",
       "      <td>342.7</td>\n",
       "      <td>294.1</td>\n",
       "      <td>89.9</td>\n",
       "      <td>62.5</td>\n",
       "    </tr>\n",
       "    <tr>\n",
       "      <th>96</th>\n",
       "      <td>1997</td>\n",
       "      <td>2.1</td>\n",
       "      <td>1.5</td>\n",
       "      <td>36.1</td>\n",
       "      <td>60.6</td>\n",
       "      <td>133.6</td>\n",
       "      <td>544.2</td>\n",
       "      <td>970.5</td>\n",
       "      <td>536.0</td>\n",
       "      <td>292.2</td>\n",
       "      <td>288.9</td>\n",
       "      <td>298.4</td>\n",
       "      <td>88.4</td>\n",
       "    </tr>\n",
       "    <tr>\n",
       "      <th>53</th>\n",
       "      <td>1954</td>\n",
       "      <td>23.5</td>\n",
       "      <td>2.8</td>\n",
       "      <td>90.6</td>\n",
       "      <td>136.9</td>\n",
       "      <td>179.5</td>\n",
       "      <td>798.3</td>\n",
       "      <td>640.5</td>\n",
       "      <td>467.0</td>\n",
       "      <td>201.6</td>\n",
       "      <td>303.1</td>\n",
       "      <td>31.6</td>\n",
       "      <td>62.5</td>\n",
       "    </tr>\n",
       "    <tr>\n",
       "      <th>32</th>\n",
       "      <td>1933</td>\n",
       "      <td>1.0</td>\n",
       "      <td>9.3</td>\n",
       "      <td>36.9</td>\n",
       "      <td>139.5</td>\n",
       "      <td>738.8</td>\n",
       "      <td>859.3</td>\n",
       "      <td>773.4</td>\n",
       "      <td>479.5</td>\n",
       "      <td>469.7</td>\n",
       "      <td>397.0</td>\n",
       "      <td>126.1</td>\n",
       "      <td>42.3</td>\n",
       "    </tr>\n",
       "    <tr>\n",
       "      <th>108</th>\n",
       "      <td>2009</td>\n",
       "      <td>3.3</td>\n",
       "      <td>1.5</td>\n",
       "      <td>62.6</td>\n",
       "      <td>69.0</td>\n",
       "      <td>191.6</td>\n",
       "      <td>438.2</td>\n",
       "      <td>924.9</td>\n",
       "      <td>269.3</td>\n",
       "      <td>326.5</td>\n",
       "      <td>205.2</td>\n",
       "      <td>274.4</td>\n",
       "      <td>44.2</td>\n",
       "    </tr>\n",
       "  </tbody>\n",
       "</table>\n",
       "</div>"
      ],
      "text/plain": [
       "     YEAR   JAN  FEB   MAR    APR    MAY    JUN    JUL    AUG    SEP    OCT  \\\n",
       "95   1996   2.8  9.1  14.4  124.3   74.3  572.4  696.0  327.4  342.7  294.1   \n",
       "96   1997   2.1  1.5  36.1   60.6  133.6  544.2  970.5  536.0  292.2  288.9   \n",
       "53   1954  23.5  2.8  90.6  136.9  179.5  798.3  640.5  467.0  201.6  303.1   \n",
       "32   1933   1.0  9.3  36.9  139.5  738.8  859.3  773.4  479.5  469.7  397.0   \n",
       "108  2009   3.3  1.5  62.6   69.0  191.6  438.2  924.9  269.3  326.5  205.2   \n",
       "\n",
       "       NOV   DEC  \n",
       "95    89.9  62.5  \n",
       "96   298.4  88.4  \n",
       "53    31.6  62.5  \n",
       "32   126.1  42.3  \n",
       "108  274.4  44.2  "
      ]
     },
     "execution_count": 23,
     "metadata": {},
     "output_type": "execute_result"
    }
   ],
   "source": [
    "x_test.head()"
   ]
  },
  {
   "cell_type": "code",
   "execution_count": 24,
   "metadata": {},
   "outputs": [
    {
     "data": {
      "text/plain": [
       "90     1\n",
       "36     0\n",
       "18     1\n",
       "27     0\n",
       "48     1\n",
       "      ..\n",
       "29     1\n",
       "46     1\n",
       "94     0\n",
       "15     1\n",
       "104    1\n",
       "Name: FLOODS, Length: 94, dtype: int32"
      ]
     },
     "execution_count": 24,
     "metadata": {},
     "output_type": "execute_result"
    }
   ],
   "source": [
    "# type casting.\n",
    "y_train=y_train.astype('int')\n",
    "y_train"
   ]
  },
  {
   "cell_type": "code",
   "execution_count": 25,
   "metadata": {},
   "outputs": [
    {
     "data": {
      "text/plain": [
       "95     0\n",
       "96     1\n",
       "53     1\n",
       "32     1\n",
       "108    0\n",
       "5      0\n",
       "67     1\n",
       "70     1\n",
       "21     1\n",
       "107    0\n",
       "98     0\n",
       "8      1\n",
       "83     0\n",
       "58     1\n",
       "64     0\n",
       "74     1\n",
       "40     1\n",
       "39     1\n",
       "100    0\n",
       "111    0\n",
       "14     1\n",
       "54     1\n",
       "117    1\n",
       "25     1\n",
       "Name: FLOODS, dtype: int32"
      ]
     },
     "execution_count": 25,
     "metadata": {},
     "output_type": "execute_result"
    }
   ],
   "source": [
    "y_test=y_test.astype('int')\n",
    "y_test"
   ]
  },
  {
   "cell_type": "markdown",
   "metadata": {},
   "source": [
    "# Using Prediction Algorithms:"
   ]
  },
  {
   "cell_type": "markdown",
   "metadata": {},
   "source": [
    "## KNN classifier to predict"
   ]
  },
  {
   "cell_type": "code",
   "execution_count": 26,
   "metadata": {},
   "outputs": [
    {
     "data": {
      "text/plain": [
       "KNeighborsClassifier()"
      ]
     },
     "execution_count": 26,
     "metadata": {},
     "output_type": "execute_result"
    }
   ],
   "source": [
    "clf=neighbors.KNeighborsClassifier()\n",
    "clf.fit(x_train,y_train)"
   ]
  },
  {
   "cell_type": "code",
   "execution_count": 27,
   "metadata": {},
   "outputs": [
    {
     "name": "stdout",
     "output_type": "stream",
     "text": [
      "Predicted Values for the Floods:\n"
     ]
    },
    {
     "data": {
      "text/plain": [
       "array([0, 1, 0, 1, 1, 0, 1, 1, 1, 0, 0, 1, 0, 1, 0, 1, 1, 1, 0, 0, 1, 0,\n",
       "       1, 0])"
      ]
     },
     "execution_count": 27,
     "metadata": {},
     "output_type": "execute_result"
    }
   ],
   "source": [
    "# Predicted chance of Flood.\n",
    "print(\"Predicted Values for the Floods:\")\n",
    "y_predict=clf.predict(x_test)\n",
    "y_predict"
   ]
  },
  {
   "cell_type": "code",
   "execution_count": 28,
   "metadata": {},
   "outputs": [
    {
     "name": "stdout",
     "output_type": "stream",
     "text": [
      "Actual Values for the Floods:\n",
      "95     0\n",
      "96     1\n",
      "53     1\n",
      "32     1\n",
      "108    0\n",
      "5      0\n",
      "67     1\n",
      "70     1\n",
      "21     1\n",
      "107    0\n",
      "98     0\n",
      "8      1\n",
      "83     0\n",
      "58     1\n",
      "64     0\n",
      "74     1\n",
      "40     1\n",
      "39     1\n",
      "100    0\n",
      "111    0\n",
      "14     1\n",
      "54     1\n",
      "117    1\n",
      "25     1\n",
      "Name: FLOODS, dtype: int32\n"
     ]
    }
   ],
   "source": [
    "print(\"Actual Values for the Floods:\")\n",
    "print(y_test)"
   ]
  },
  {
   "cell_type": "code",
   "execution_count": 29,
   "metadata": {},
   "outputs": [
    {
     "name": "stdout",
     "output_type": "stream",
     "text": [
      "List of the Predicted Values:\n",
      "[0 1 0 1 1 0 1 1 1 0 0 1 0 1 0 1 1 1 0 0 1 0 1 0]\n"
     ]
    }
   ],
   "source": [
    "print(\"List of the Predicted Values:\")\n",
    "print(y_predict)"
   ]
  },
  {
   "cell_type": "code",
   "execution_count": 30,
   "metadata": {},
   "outputs": [],
   "source": [
    "# Scaling the dataset.\n",
    "from sklearn.model_selection import cross_val_score,cross_val_predict\n",
    "x_train_std= minmax.fit_transform(x_train)\n",
    "x_test_std= minmax.fit_transform(x_test)\n",
    "knn_acc=cross_val_score(clf,x_train_std,y_train,cv=3,scoring='accuracy',n_jobs=-1)\n",
    "knn_proba=cross_val_predict(clf,x_train_std,y_train,cv=3,method='predict_proba')"
   ]
  },
  {
   "cell_type": "code",
   "execution_count": 31,
   "metadata": {},
   "outputs": [
    {
     "data": {
      "text/plain": [
       "array([0.65625   , 0.83870968, 0.70967742])"
      ]
     },
     "execution_count": 31,
     "metadata": {},
     "output_type": "execute_result"
    }
   ],
   "source": [
    "knn_acc"
   ]
  },
  {
   "cell_type": "code",
   "execution_count": 32,
   "metadata": {},
   "outputs": [
    {
     "data": {
      "text/plain": [
       "array([[0.6, 0.4],\n",
       "       [0.8, 0.2],\n",
       "       [0.6, 0.4],\n",
       "       [0.8, 0.2],\n",
       "       [0.6, 0.4],\n",
       "       [1. , 0. ],\n",
       "       [0.4, 0.6],\n",
       "       [1. , 0. ],\n",
       "       [1. , 0. ],\n",
       "       [1. , 0. ],\n",
       "       [1. , 0. ],\n",
       "       [1. , 0. ],\n",
       "       [0.4, 0.6],\n",
       "       [1. , 0. ],\n",
       "       [0.4, 0.6],\n",
       "       [0.6, 0.4],\n",
       "       [0.4, 0.6],\n",
       "       [0.4, 0.6],\n",
       "       [0.8, 0.2],\n",
       "       [0.4, 0.6],\n",
       "       [0.6, 0.4],\n",
       "       [0.4, 0.6],\n",
       "       [0.6, 0.4],\n",
       "       [0. , 1. ],\n",
       "       [0.4, 0.6],\n",
       "       [0.4, 0.6],\n",
       "       [0.4, 0.6],\n",
       "       [0.6, 0.4],\n",
       "       [0.8, 0.2],\n",
       "       [0.8, 0.2],\n",
       "       [0.8, 0.2],\n",
       "       [0.4, 0.6],\n",
       "       [0.8, 0.2],\n",
       "       [0.4, 0.6],\n",
       "       [1. , 0. ],\n",
       "       [0.8, 0.2],\n",
       "       [0.8, 0.2],\n",
       "       [0.8, 0.2],\n",
       "       [0.6, 0.4],\n",
       "       [0.2, 0.8],\n",
       "       [0.6, 0.4],\n",
       "       [0.2, 0.8],\n",
       "       [0.6, 0.4],\n",
       "       [0.8, 0.2],\n",
       "       [0.4, 0.6],\n",
       "       [0.8, 0.2],\n",
       "       [0.8, 0.2],\n",
       "       [0.4, 0.6],\n",
       "       [1. , 0. ],\n",
       "       [1. , 0. ],\n",
       "       [1. , 0. ],\n",
       "       [0.8, 0.2],\n",
       "       [1. , 0. ],\n",
       "       [0.4, 0.6],\n",
       "       [0.4, 0.6],\n",
       "       [1. , 0. ],\n",
       "       [0.4, 0.6],\n",
       "       [0.4, 0.6],\n",
       "       [0.2, 0.8],\n",
       "       [0.4, 0.6],\n",
       "       [1. , 0. ],\n",
       "       [0.6, 0.4],\n",
       "       [0.6, 0.4],\n",
       "       [0.6, 0.4],\n",
       "       [0.4, 0.6],\n",
       "       [0.4, 0.6],\n",
       "       [0.8, 0.2],\n",
       "       [0.6, 0.4],\n",
       "       [1. , 0. ],\n",
       "       [0.4, 0.6],\n",
       "       [0.2, 0.8],\n",
       "       [0.4, 0.6],\n",
       "       [0.8, 0.2],\n",
       "       [0.8, 0.2],\n",
       "       [0.2, 0.8],\n",
       "       [0.2, 0.8],\n",
       "       [0.6, 0.4],\n",
       "       [0.6, 0.4],\n",
       "       [0.6, 0.4],\n",
       "       [0.8, 0.2],\n",
       "       [0.4, 0.6],\n",
       "       [0.8, 0.2],\n",
       "       [0.8, 0.2],\n",
       "       [0.8, 0.2],\n",
       "       [0.6, 0.4],\n",
       "       [1. , 0. ],\n",
       "       [0.8, 0.2],\n",
       "       [1. , 0. ],\n",
       "       [0.4, 0.6],\n",
       "       [0.4, 0.6],\n",
       "       [0.4, 0.6],\n",
       "       [0.8, 0.2],\n",
       "       [0.6, 0.4],\n",
       "       [0.6, 0.4]])"
      ]
     },
     "execution_count": 32,
     "metadata": {},
     "output_type": "execute_result"
    }
   ],
   "source": [
    "knn_proba"
   ]
  },
  {
   "cell_type": "markdown",
   "metadata": {},
   "source": [
    "### How accurate is our model?"
   ]
  },
  {
   "cell_type": "code",
   "execution_count": 33,
   "metadata": {},
   "outputs": [
    {
     "name": "stdout",
     "output_type": "stream",
     "text": [
      "\n",
      "Accuracy Score:83.333333\n",
      "Recall Score:80.000000\n",
      "ROC score:84.444444\n",
      "[[ 8  1]\n",
      " [ 3 12]]\n"
     ]
    }
   ],
   "source": [
    "from sklearn.metrics import accuracy_score,recall_score,roc_auc_score,confusion_matrix\n",
    "print(\"\\nAccuracy Score:%f\"%(accuracy_score(y_test,y_predict)*100))\n",
    "print(\"Recall Score:%f\"%(recall_score(y_test,y_predict)*100))\n",
    "print(\"ROC score:%f\"%(roc_auc_score(y_test,y_predict)*100))\n",
    "print(confusion_matrix(y_test,y_predict))"
   ]
  },
  {
   "cell_type": "markdown",
   "metadata": {},
   "source": [
    "## Logistic Regression to predict"
   ]
  },
  {
   "cell_type": "code",
   "execution_count": 34,
   "metadata": {},
   "outputs": [],
   "source": [
    "x_train_std=minmax.fit_transform(x_train)         # fit the values in between 0 and 1.\n",
    "y_train_std=minmax.transform(x_test)\n",
    "\n",
    "from sklearn.model_selection import cross_val_score,cross_val_predict\n",
    "from sklearn.linear_model import LogisticRegression\n",
    "lr=LogisticRegression()\n",
    "lr.fit(x_train,y_train)\n",
    "lr_acc=cross_val_score(lr,x_train_std,y_train,cv=3,scoring='accuracy',n_jobs=-1)\n",
    "lr_proba=cross_val_predict(lr,x_train_std,y_train,cv=3,method='predict_proba')"
   ]
  },
  {
   "cell_type": "code",
   "execution_count": 35,
   "metadata": {},
   "outputs": [
    {
     "data": {
      "text/plain": [
       "array([0.78125   , 0.90322581, 0.83870968])"
      ]
     },
     "execution_count": 35,
     "metadata": {},
     "output_type": "execute_result"
    }
   ],
   "source": [
    "lr_acc"
   ]
  },
  {
   "cell_type": "code",
   "execution_count": 36,
   "metadata": {},
   "outputs": [
    {
     "data": {
      "text/plain": [
       "array([[0.50684739, 0.49315261],\n",
       "       [0.61874763, 0.38125237],\n",
       "       [0.35316561, 0.64683439],\n",
       "       [0.67964238, 0.32035762],\n",
       "       [0.49049638, 0.50950362],\n",
       "       [0.78952271, 0.21047729],\n",
       "       [0.42566947, 0.57433053],\n",
       "       [0.75681744, 0.24318256],\n",
       "       [0.53728079, 0.46271921],\n",
       "       [0.64453085, 0.35546915],\n",
       "       [0.71408506, 0.28591494],\n",
       "       [0.78706458, 0.21293542],\n",
       "       [0.3238235 , 0.6761765 ],\n",
       "       [0.78107341, 0.21892659],\n",
       "       [0.27102284, 0.72897716],\n",
       "       [0.50466237, 0.49533763],\n",
       "       [0.43323953, 0.56676047],\n",
       "       [0.49363546, 0.50636454],\n",
       "       [0.83530166, 0.16469834],\n",
       "       [0.51557568, 0.48442432],\n",
       "       [0.49180068, 0.50819932],\n",
       "       [0.41429279, 0.58570721],\n",
       "       [0.60571081, 0.39428919],\n",
       "       [0.11491011, 0.88508989],\n",
       "       [0.38985339, 0.61014661],\n",
       "       [0.44799782, 0.55200218],\n",
       "       [0.37947693, 0.62052307],\n",
       "       [0.56788713, 0.43211287],\n",
       "       [0.67814973, 0.32185027],\n",
       "       [0.6505961 , 0.3494039 ],\n",
       "       [0.51452499, 0.48547501],\n",
       "       [0.62689824, 0.37310176],\n",
       "       [0.6403137 , 0.3596863 ],\n",
       "       [0.48815952, 0.51184048],\n",
       "       [0.49007323, 0.50992677],\n",
       "       [0.57572417, 0.42427583],\n",
       "       [0.49713075, 0.50286925],\n",
       "       [0.67923652, 0.32076348],\n",
       "       [0.5909495 , 0.4090505 ],\n",
       "       [0.13836973, 0.86163027],\n",
       "       [0.24201044, 0.75798956],\n",
       "       [0.23592484, 0.76407516],\n",
       "       [0.57256142, 0.42743858],\n",
       "       [0.65847782, 0.34152218],\n",
       "       [0.24734188, 0.75265812],\n",
       "       [0.5599642 , 0.4400358 ],\n",
       "       [0.70846581, 0.29153419],\n",
       "       [0.28221282, 0.71778718],\n",
       "       [0.75082686, 0.24917314],\n",
       "       [0.50302471, 0.49697529],\n",
       "       [0.69446021, 0.30553979],\n",
       "       [0.63309511, 0.36690489],\n",
       "       [0.60975154, 0.39024846],\n",
       "       [0.29501627, 0.70498373],\n",
       "       [0.62017276, 0.37982724],\n",
       "       [0.76793358, 0.23206642],\n",
       "       [0.35760822, 0.64239178],\n",
       "       [0.37710016, 0.62289984],\n",
       "       [0.40511417, 0.59488583],\n",
       "       [0.43392243, 0.56607757],\n",
       "       [0.64852204, 0.35147796],\n",
       "       [0.35772257, 0.64227743],\n",
       "       [0.67425838, 0.32574162],\n",
       "       [0.5596493 , 0.4403507 ],\n",
       "       [0.41929569, 0.58070431],\n",
       "       [0.43746767, 0.56253233],\n",
       "       [0.64502967, 0.35497033],\n",
       "       [0.29177309, 0.70822691],\n",
       "       [0.74772684, 0.25227316],\n",
       "       [0.31666063, 0.68333937],\n",
       "       [0.20025251, 0.79974749],\n",
       "       [0.39572153, 0.60427847],\n",
       "       [0.43803508, 0.56196492],\n",
       "       [0.62092505, 0.37907495],\n",
       "       [0.39719523, 0.60280477],\n",
       "       [0.39389039, 0.60610961],\n",
       "       [0.34606194, 0.65393806],\n",
       "       [0.56250981, 0.43749019],\n",
       "       [0.4845131 , 0.5154869 ],\n",
       "       [0.6796595 , 0.3203405 ],\n",
       "       [0.25486772, 0.74513228],\n",
       "       [0.77161341, 0.22838659],\n",
       "       [0.68086583, 0.31913417],\n",
       "       [0.54866606, 0.45133394],\n",
       "       [0.54493517, 0.45506483],\n",
       "       [0.73995947, 0.26004053],\n",
       "       [0.71099554, 0.28900446],\n",
       "       [0.76913474, 0.23086526],\n",
       "       [0.43062886, 0.56937114],\n",
       "       [0.44398122, 0.55601878],\n",
       "       [0.43004861, 0.56995139],\n",
       "       [0.48541161, 0.51458839],\n",
       "       [0.50595363, 0.49404637],\n",
       "       [0.38347151, 0.61652849]])"
      ]
     },
     "execution_count": 36,
     "metadata": {},
     "output_type": "execute_result"
    }
   ],
   "source": [
    "lr_proba"
   ]
  },
  {
   "cell_type": "code",
   "execution_count": 37,
   "metadata": {},
   "outputs": [
    {
     "data": {
      "text/plain": [
       "array([0, 1, 0, 1, 0, 0, 1, 1, 1, 0, 0, 1, 0, 1, 0, 1, 1, 1, 1, 0, 1, 1,\n",
       "       1, 1])"
      ]
     },
     "execution_count": 37,
     "metadata": {},
     "output_type": "execute_result"
    }
   ],
   "source": [
    "y_pred=lr.predict(x_test)\n",
    "y_pred"
   ]
  },
  {
   "cell_type": "code",
   "execution_count": 38,
   "metadata": {},
   "outputs": [
    {
     "name": "stdout",
     "output_type": "stream",
     "text": [
      "[0 1 1 1 0 0 1 1 1 0 0 1 0 1 0 1 1 1 0 0 1 1 1 1]\n"
     ]
    }
   ],
   "source": [
    "print(y_test.values)"
   ]
  },
  {
   "cell_type": "code",
   "execution_count": 39,
   "metadata": {},
   "outputs": [
    {
     "name": "stdout",
     "output_type": "stream",
     "text": [
      "List of the Predicted Values:\n",
      "[0 1 0 1 0 0 1 1 1 0 0 1 0 1 0 1 1 1 1 0 1 1 1 1]\n"
     ]
    }
   ],
   "source": [
    "print(\"List of the Predicted Values:\")\n",
    "print(y_pred)"
   ]
  },
  {
   "cell_type": "markdown",
   "metadata": {},
   "source": [
    "### Accuracy and Efficiency of our Model "
   ]
  },
  {
   "cell_type": "code",
   "execution_count": 40,
   "metadata": {},
   "outputs": [
    {
     "name": "stdout",
     "output_type": "stream",
     "text": [
      "\n",
      "accuracy score:91.666667\n",
      "recall score:93.333333\n",
      "roc score:91.111111\n",
      "[[ 8  1]\n",
      " [ 1 14]]\n"
     ]
    }
   ],
   "source": [
    "from sklearn.metrics import accuracy_score,recall_score,roc_auc_score,confusion_matrix\n",
    "print(\"\\naccuracy score:%f\"%(accuracy_score(y_test,y_pred)*100))\n",
    "print(\"recall score:%f\"%(recall_score(y_test,y_pred)*100))\n",
    "print(\"roc score:%f\"%(roc_auc_score(y_test,y_pred)*100))\n",
    "print(confusion_matrix(y_test,y_pred))"
   ]
  },
  {
   "cell_type": "markdown",
   "metadata": {},
   "source": [
    "## Support Vector Classification to predict"
   ]
  },
  {
   "cell_type": "code",
   "execution_count": 41,
   "metadata": {},
   "outputs": [],
   "source": [
    "from sklearn.svm import SVC\n",
    "svc=SVC(kernel='rbf',probability=True)\n",
    "svc_classifier=svc.fit(x_train,y_train)\n",
    "svc_acc=cross_val_score(svc_classifier,x_train_std,y_train,cv=3,scoring=\"accuracy\",n_jobs=-1)\n",
    "svc_proba=cross_val_predict(svc_classifier,x_train_std,y_train,cv=3,method='predict_proba')"
   ]
  },
  {
   "cell_type": "code",
   "execution_count": 42,
   "metadata": {},
   "outputs": [
    {
     "data": {
      "text/plain": [
       "array([0.78125   , 0.90322581, 0.80645161])"
      ]
     },
     "execution_count": 42,
     "metadata": {},
     "output_type": "execute_result"
    }
   ],
   "source": [
    "svc_acc"
   ]
  },
  {
   "cell_type": "code",
   "execution_count": 43,
   "metadata": {},
   "outputs": [
    {
     "data": {
      "text/plain": [
       "array([[2.00814359e-01, 7.99185641e-01],\n",
       "       [8.55555280e-01, 1.44444720e-01],\n",
       "       [1.26603891e-01, 8.73396109e-01],\n",
       "       [8.61653120e-01, 1.38346880e-01],\n",
       "       [5.00000000e-01, 5.00000000e-01],\n",
       "       [9.89946918e-01, 1.00530815e-02],\n",
       "       [2.19660687e-01, 7.80339313e-01],\n",
       "       [9.76104317e-01, 2.38956831e-02],\n",
       "       [5.27497516e-01, 4.72502484e-01],\n",
       "       [9.81077976e-01, 1.89220239e-02],\n",
       "       [9.89233799e-01, 1.07662010e-02],\n",
       "       [9.82485499e-01, 1.75145008e-02],\n",
       "       [7.16724584e-02, 9.28327542e-01],\n",
       "       [9.89054071e-01, 1.09459288e-02],\n",
       "       [6.58838827e-02, 9.34116117e-01],\n",
       "       [4.57612455e-01, 5.42387545e-01],\n",
       "       [3.73063382e-01, 6.26936618e-01],\n",
       "       [2.23814244e-01, 7.76185756e-01],\n",
       "       [9.88744268e-01, 1.12557318e-02],\n",
       "       [1.60073977e-01, 8.39926023e-01],\n",
       "       [3.19159079e-01, 6.80840921e-01],\n",
       "       [3.85075253e-01, 6.14924747e-01],\n",
       "       [7.36671588e-01, 2.63328412e-01],\n",
       "       [3.54156039e-03, 9.96458440e-01],\n",
       "       [1.33980475e-01, 8.66019525e-01],\n",
       "       [2.56915967e-01, 7.43084033e-01],\n",
       "       [1.11578534e-01, 8.88421466e-01],\n",
       "       [4.19180938e-01, 5.80819062e-01],\n",
       "       [7.37200126e-01, 2.62799874e-01],\n",
       "       [7.15429198e-01, 2.84570802e-01],\n",
       "       [5.53793418e-01, 4.46206582e-01],\n",
       "       [4.83456190e-01, 5.16543810e-01],\n",
       "       [7.24361163e-01, 2.75638837e-01],\n",
       "       [3.85845826e-01, 6.14154174e-01],\n",
       "       [2.36906008e-01, 7.63093992e-01],\n",
       "       [7.21349699e-01, 2.78650301e-01],\n",
       "       [7.04824407e-01, 2.95175593e-01],\n",
       "       [8.36215325e-01, 1.63784675e-01],\n",
       "       [6.45896156e-01, 3.54103844e-01],\n",
       "       [1.67265973e-05, 9.99983273e-01],\n",
       "       [9.14763710e-02, 9.08523629e-01],\n",
       "       [2.64232249e-02, 9.73576775e-01],\n",
       "       [5.31417181e-01, 4.68582819e-01],\n",
       "       [8.36343536e-01, 1.63656464e-01],\n",
       "       [9.03060680e-02, 9.09693932e-01],\n",
       "       [7.47333609e-01, 2.52666391e-01],\n",
       "       [7.88422004e-01, 2.11577996e-01],\n",
       "       [7.11415839e-02, 9.28858416e-01],\n",
       "       [9.73276814e-01, 2.67231865e-02],\n",
       "       [4.42375110e-01, 5.57624890e-01],\n",
       "       [9.41904127e-01, 5.80958731e-02],\n",
       "       [9.29460007e-01, 7.05399929e-02],\n",
       "       [8.28408567e-01, 1.71591433e-01],\n",
       "       [5.61604043e-02, 9.43839596e-01],\n",
       "       [6.26698706e-01, 3.73301294e-01],\n",
       "       [9.85926478e-01, 1.40735215e-02],\n",
       "       [9.17330544e-02, 9.08266946e-01],\n",
       "       [1.46839653e-01, 8.53160347e-01],\n",
       "       [1.12450215e-01, 8.87549785e-01],\n",
       "       [3.33499156e-01, 6.66500844e-01],\n",
       "       [9.71901143e-01, 2.80988569e-02],\n",
       "       [1.46388913e-01, 8.53611087e-01],\n",
       "       [8.57470740e-01, 1.42529260e-01],\n",
       "       [5.75518011e-01, 4.24481989e-01],\n",
       "       [3.54072470e-01, 6.45927530e-01],\n",
       "       [3.38921613e-01, 6.61078387e-01],\n",
       "       [7.19548924e-01, 2.80451076e-01],\n",
       "       [1.48793709e-01, 8.51206291e-01],\n",
       "       [9.81565406e-01, 1.84345937e-02],\n",
       "       [1.54149785e-01, 8.45850215e-01],\n",
       "       [1.04792517e-01, 8.95207483e-01],\n",
       "       [4.48646397e-02, 9.55135360e-01],\n",
       "       [2.79239486e-01, 7.20760514e-01],\n",
       "       [9.07173881e-01, 9.28261191e-02],\n",
       "       [7.87553680e-02, 9.21244632e-01],\n",
       "       [3.34177178e-02, 9.66582282e-01],\n",
       "       [3.38029603e-01, 6.61970397e-01],\n",
       "       [5.06345169e-01, 4.93654831e-01],\n",
       "       [5.15255745e-01, 4.84744255e-01],\n",
       "       [9.62190669e-01, 3.78093307e-02],\n",
       "       [2.48437790e-02, 9.75156221e-01],\n",
       "       [9.61929602e-01, 3.80703984e-02],\n",
       "       [8.02646291e-01, 1.97353709e-01],\n",
       "       [5.97947463e-01, 4.02052537e-01],\n",
       "       [6.17818657e-01, 3.82181343e-01],\n",
       "       [9.50916785e-01, 4.90832147e-02],\n",
       "       [9.88530335e-01, 1.14696647e-02],\n",
       "       [9.24814691e-01, 7.51853088e-02],\n",
       "       [1.36856681e-01, 8.63143319e-01],\n",
       "       [2.16879904e-01, 7.83120096e-01],\n",
       "       [2.44033922e-01, 7.55966078e-01],\n",
       "       [4.14857993e-01, 5.85142007e-01],\n",
       "       [6.01082673e-01, 3.98917327e-01],\n",
       "       [2.95608631e-01, 7.04391369e-01]])"
      ]
     },
     "execution_count": 43,
     "metadata": {},
     "output_type": "execute_result"
    }
   ],
   "source": [
    "svc_proba"
   ]
  },
  {
   "cell_type": "code",
   "execution_count": 44,
   "metadata": {},
   "outputs": [
    {
     "data": {
      "text/plain": [
       "array([0.79918564, 0.14444472, 0.87339611, 0.13834688, 0.5       ,\n",
       "       0.01005308, 0.78033931, 0.02389568, 0.47250248, 0.01892202,\n",
       "       0.0107662 , 0.0175145 , 0.92832754, 0.01094593, 0.93411612,\n",
       "       0.54238755, 0.62693662, 0.77618576, 0.01125573, 0.83992602,\n",
       "       0.68084092, 0.61492475, 0.26332841, 0.99645844, 0.86601952,\n",
       "       0.74308403, 0.88842147, 0.58081906, 0.26279987, 0.2845708 ,\n",
       "       0.44620658, 0.51654381, 0.27563884, 0.61415417, 0.76309399,\n",
       "       0.2786503 , 0.29517559, 0.16378467, 0.35410384, 0.99998327,\n",
       "       0.90852363, 0.97357678, 0.46858282, 0.16365646, 0.90969393,\n",
       "       0.25266639, 0.211578  , 0.92885842, 0.02672319, 0.55762489,\n",
       "       0.05809587, 0.07053999, 0.17159143, 0.9438396 , 0.37330129,\n",
       "       0.01407352, 0.90826695, 0.85316035, 0.88754979, 0.66650084,\n",
       "       0.02809886, 0.85361109, 0.14252926, 0.42448199, 0.64592753,\n",
       "       0.66107839, 0.28045108, 0.85120629, 0.01843459, 0.84585022,\n",
       "       0.89520748, 0.95513536, 0.72076051, 0.09282612, 0.92124463,\n",
       "       0.96658228, 0.6619704 , 0.49365483, 0.48474426, 0.03780933,\n",
       "       0.97515622, 0.0380704 , 0.19735371, 0.40205254, 0.38218134,\n",
       "       0.04908321, 0.01146966, 0.07518531, 0.86314332, 0.7831201 ,\n",
       "       0.75596608, 0.58514201, 0.39891733, 0.70439137])"
      ]
     },
     "execution_count": 44,
     "metadata": {},
     "output_type": "execute_result"
    }
   ],
   "source": [
    "svc_scores=svc_proba[:,1]\n",
    "svc_scores"
   ]
  },
  {
   "cell_type": "code",
   "execution_count": 45,
   "metadata": {},
   "outputs": [
    {
     "name": "stdout",
     "output_type": "stream",
     "text": [
      "Actual Flood Values:\n",
      "[0 1 1 1 0 0 1 1 1 0 0 1 0 1 0 1 1 1 0 0 1 1 1 1]\n"
     ]
    }
   ],
   "source": [
    "y_pred=svc_classifier.predict(x_test)\n",
    "print(\"Actual Flood Values:\")\n",
    "print(y_test.values)"
   ]
  },
  {
   "cell_type": "code",
   "execution_count": 46,
   "metadata": {},
   "outputs": [
    {
     "name": "stdout",
     "output_type": "stream",
     "text": [
      "Predicted Flood Values:\n",
      "[0 1 0 1 0 0 1 1 1 0 0 1 0 1 0 1 1 1 0 0 1 1 1 1]\n"
     ]
    }
   ],
   "source": [
    "print(\"Predicted Flood Values:\")\n",
    "print(y_pred)"
   ]
  },
  {
   "cell_type": "markdown",
   "metadata": {},
   "source": [
    "### Accuracy of our model"
   ]
  },
  {
   "cell_type": "code",
   "execution_count": 47,
   "metadata": {},
   "outputs": [
    {
     "name": "stdout",
     "output_type": "stream",
     "text": [
      "\n",
      "accuracy score:95.833333\n",
      "recall score:93.333333\n",
      "roc score:96.666667\n",
      "[[ 9  0]\n",
      " [ 1 14]]\n"
     ]
    }
   ],
   "source": [
    "from sklearn.metrics import accuracy_score,recall_score,roc_auc_score,confusion_matrix\n",
    "print(\"\\naccuracy score:%f\"%(accuracy_score(y_test,y_pred)*100))\n",
    "print(\"recall score:%f\"%(recall_score(y_test,y_pred)*100))\n",
    "print(\"roc score:%f\"%(roc_auc_score(y_test,y_pred)*100))\n",
    "print(confusion_matrix(y_test,y_pred))"
   ]
  },
  {
   "cell_type": "markdown",
   "metadata": {},
   "source": [
    "# Decision Tree Classification to Predict"
   ]
  },
  {
   "cell_type": "code",
   "execution_count": 48,
   "metadata": {},
   "outputs": [
    {
     "data": {
      "text/plain": [
       "array([0.6875    , 0.77419355, 0.90322581])"
      ]
     },
     "execution_count": 48,
     "metadata": {},
     "output_type": "execute_result"
    }
   ],
   "source": [
    "from sklearn.tree import DecisionTreeClassifier\n",
    "dtc_clf=DecisionTreeClassifier()\n",
    "dtc_clf.fit(x_train,y_train)\n",
    "dtc_clf_acc=cross_val_score(dtc_clf,x_train_std,y_train,cv=3,scoring=\"accuracy\",n_jobs=-1)\n",
    "dtc_clf_acc"
   ]
  },
  {
   "cell_type": "code",
   "execution_count": 49,
   "metadata": {},
   "outputs": [
    {
     "name": "stdout",
     "output_type": "stream",
     "text": [
      "Predicted Values:\n"
     ]
    },
    {
     "data": {
      "text/plain": [
       "array([0, 0, 1, 1, 1, 0, 1, 1, 1, 1, 0, 1, 1, 1, 0, 1, 1, 0, 1, 0, 1, 0,\n",
       "       1, 1])"
      ]
     },
     "execution_count": 49,
     "metadata": {},
     "output_type": "execute_result"
    }
   ],
   "source": [
    "print(\"Predicted Values:\")\n",
    "y_pred=dtc_clf.predict(x_test)\n",
    "y_pred"
   ]
  },
  {
   "cell_type": "code",
   "execution_count": 50,
   "metadata": {},
   "outputs": [
    {
     "name": "stdout",
     "output_type": "stream",
     "text": [
      "Actual Values:\n",
      "[0 1 1 1 0 0 1 1 1 0 0 1 0 1 0 1 1 1 0 0 1 1 1 1]\n"
     ]
    }
   ],
   "source": [
    "print(\"Actual Values:\")\n",
    "print(y_test.values)"
   ]
  },
  {
   "cell_type": "markdown",
   "metadata": {},
   "source": [
    "### Printing the Accuracy"
   ]
  },
  {
   "cell_type": "code",
   "execution_count": 51,
   "metadata": {},
   "outputs": [
    {
     "name": "stdout",
     "output_type": "stream",
     "text": [
      "\n",
      "accuracy score:70.833333\n",
      "recall score:80.000000\n",
      "roc score:67.777778\n",
      "[[ 5  4]\n",
      " [ 3 12]]\n"
     ]
    }
   ],
   "source": [
    "from sklearn.metrics import accuracy_score,recall_score,roc_auc_score,confusion_matrix\n",
    "print(\"\\naccuracy score:%f\"%(accuracy_score(y_test,y_pred)*100))\n",
    "print(\"recall score:%f\"%(recall_score(y_test,y_pred)*100))\n",
    "print(\"roc score:%f\"%(roc_auc_score(y_test,y_pred)*100))\n",
    "print(confusion_matrix(y_test,y_pred))"
   ]
  },
  {
   "cell_type": "markdown",
   "metadata": {},
   "source": [
    "# Random Forest Classifier to predict"
   ]
  },
  {
   "cell_type": "code",
   "execution_count": 52,
   "metadata": {},
   "outputs": [
    {
     "data": {
      "text/plain": [
       "RandomForestClassifier(max_depth=3, random_state=0)"
      ]
     },
     "execution_count": 52,
     "metadata": {},
     "output_type": "execute_result"
    }
   ],
   "source": [
    "from sklearn.ensemble import RandomForestClassifier\n",
    "rmf=RandomForestClassifier(max_depth=3,random_state=0)\n",
    "rmf_clf=rmf.fit(x_train,y_train)\n",
    "rmf_clf"
   ]
  },
  {
   "cell_type": "code",
   "execution_count": 53,
   "metadata": {},
   "outputs": [],
   "source": [
    "rmf_clf_acc=cross_val_score(rmf_clf,x_train_std,y_train,cv=3,scoring=\"accuracy\",n_jobs=-1)\n",
    "rmf_proba=cross_val_predict(rmf_clf,x_train_std,y_train,cv=3,method='predict_proba')"
   ]
  },
  {
   "cell_type": "code",
   "execution_count": 54,
   "metadata": {},
   "outputs": [
    {
     "data": {
      "text/plain": [
       "array([0.75      , 0.90322581, 0.67741935])"
      ]
     },
     "execution_count": 54,
     "metadata": {},
     "output_type": "execute_result"
    }
   ],
   "source": [
    "rmf_clf_acc"
   ]
  },
  {
   "cell_type": "code",
   "execution_count": 55,
   "metadata": {},
   "outputs": [
    {
     "data": {
      "text/plain": [
       "array([[0.40487104, 0.59512896],\n",
       "       [0.57780457, 0.42219543],\n",
       "       [0.33152046, 0.66847954],\n",
       "       [0.65443799, 0.34556201],\n",
       "       [0.59171409, 0.40828591],\n",
       "       [0.67146332, 0.32853668],\n",
       "       [0.59150263, 0.40849737],\n",
       "       [0.78384935, 0.21615065],\n",
       "       [0.66737326, 0.33262674],\n",
       "       [0.75275024, 0.24724976],\n",
       "       [0.63133289, 0.36866711],\n",
       "       [0.77671125, 0.22328875],\n",
       "       [0.29627772, 0.70372228],\n",
       "       [0.72660299, 0.27339701],\n",
       "       [0.3504121 , 0.6495879 ],\n",
       "       [0.5068105 , 0.4931895 ],\n",
       "       [0.56140078, 0.43859922],\n",
       "       [0.5638743 , 0.4361257 ],\n",
       "       [0.79071984, 0.20928016],\n",
       "       [0.49916083, 0.50083917],\n",
       "       [0.58411117, 0.41588883],\n",
       "       [0.3570393 , 0.6429607 ],\n",
       "       [0.53140288, 0.46859712],\n",
       "       [0.14218795, 0.85781205],\n",
       "       [0.47332124, 0.52667876],\n",
       "       [0.47729002, 0.52270998],\n",
       "       [0.30017793, 0.69982207],\n",
       "       [0.67974349, 0.32025651],\n",
       "       [0.65014693, 0.34985307],\n",
       "       [0.52689184, 0.47310816],\n",
       "       [0.51595076, 0.48404924],\n",
       "       [0.47554988, 0.52445012],\n",
       "       [0.64208314, 0.35791686],\n",
       "       [0.32444912, 0.67555088],\n",
       "       [0.4218312 , 0.5781688 ],\n",
       "       [0.57404492, 0.42595508],\n",
       "       [0.566047  , 0.433953  ],\n",
       "       [0.66313113, 0.33686887],\n",
       "       [0.6100391 , 0.3899609 ],\n",
       "       [0.28946563, 0.71053437],\n",
       "       [0.42347616, 0.57652384],\n",
       "       [0.23448333, 0.76551667],\n",
       "       [0.53613944, 0.46386056],\n",
       "       [0.54249103, 0.45750897],\n",
       "       [0.24982758, 0.75017242],\n",
       "       [0.74547247, 0.25452753],\n",
       "       [0.66618888, 0.33381112],\n",
       "       [0.42208226, 0.57791774],\n",
       "       [0.73726926, 0.26273074],\n",
       "       [0.47273436, 0.52726564],\n",
       "       [0.68016378, 0.31983622],\n",
       "       [0.53563626, 0.46436374],\n",
       "       [0.42246497, 0.57753503],\n",
       "       [0.39610741, 0.60389259],\n",
       "       [0.72370651, 0.27629349],\n",
       "       [0.87787765, 0.12212235],\n",
       "       [0.37370775, 0.62629225],\n",
       "       [0.42767841, 0.57232159],\n",
       "       [0.48282775, 0.51717225],\n",
       "       [0.50253246, 0.49746754],\n",
       "       [0.65277868, 0.34722132],\n",
       "       [0.3893396 , 0.6106604 ],\n",
       "       [0.69818024, 0.30181976],\n",
       "       [0.52102357, 0.47897643],\n",
       "       [0.34479402, 0.65520598],\n",
       "       [0.2595175 , 0.7404825 ],\n",
       "       [0.73341298, 0.26658702],\n",
       "       [0.49273639, 0.50726361],\n",
       "       [0.54733992, 0.45266008],\n",
       "       [0.44678887, 0.55321113],\n",
       "       [0.29518128, 0.70481872],\n",
       "       [0.30923251, 0.69076749],\n",
       "       [0.42098658, 0.57901342],\n",
       "       [0.59827561, 0.40172439],\n",
       "       [0.51801118, 0.48198882],\n",
       "       [0.40673047, 0.59326953],\n",
       "       [0.3851806 , 0.6148194 ],\n",
       "       [0.39675607, 0.60324393],\n",
       "       [0.32441963, 0.67558037],\n",
       "       [0.67953705, 0.32046295],\n",
       "       [0.29013708, 0.70986292],\n",
       "       [0.76520996, 0.23479004],\n",
       "       [0.64419212, 0.35580788],\n",
       "       [0.50621236, 0.49378764],\n",
       "       [0.5060915 , 0.4939085 ],\n",
       "       [0.69509047, 0.30490953],\n",
       "       [0.76572372, 0.23427628],\n",
       "       [0.83372696, 0.16627304],\n",
       "       [0.52690436, 0.47309564],\n",
       "       [0.52611761, 0.47388239],\n",
       "       [0.3622121 , 0.6377879 ],\n",
       "       [0.35120507, 0.64879493],\n",
       "       [0.50399218, 0.49600782],\n",
       "       [0.40676527, 0.59323473]])"
      ]
     },
     "execution_count": 55,
     "metadata": {},
     "output_type": "execute_result"
    }
   ],
   "source": [
    "rmf_proba"
   ]
  },
  {
   "cell_type": "code",
   "execution_count": 56,
   "metadata": {},
   "outputs": [
    {
     "name": "stdout",
     "output_type": "stream",
     "text": [
      "\n",
      "accuracy score:70.833333\n",
      "recall score:80.000000\n",
      "roc score:67.777778\n",
      "[[ 5  4]\n",
      " [ 3 12]]\n"
     ]
    }
   ],
   "source": [
    "from sklearn.metrics import accuracy_score,recall_score,roc_auc_score,confusion_matrix\n",
    "print(\"\\naccuracy score:%f\"%(accuracy_score(y_test,y_pred)*100))\n",
    "print(\"recall score:%f\"%(recall_score(y_test,y_pred)*100))\n",
    "print(\"roc score:%f\"%(roc_auc_score(y_test,y_pred)*100))\n",
    "print(confusion_matrix(y_test,y_pred))"
   ]
  },
  {
   "cell_type": "markdown",
   "metadata": {},
   "source": [
    "# Final Accuracy of our Models "
   ]
  },
  {
   "cell_type": "markdown",
   "metadata": {},
   "source": [
    "### Comparing all the prediction models"
   ]
  },
  {
   "cell_type": "code",
   "execution_count": 57,
   "metadata": {},
   "outputs": [
    {
     "data": {
      "text/html": [
       "<div>\n",
       "<style scoped>\n",
       "    .dataframe tbody tr th:only-of-type {\n",
       "        vertical-align: middle;\n",
       "    }\n",
       "\n",
       "    .dataframe tbody tr th {\n",
       "        vertical-align: top;\n",
       "    }\n",
       "\n",
       "    .dataframe thead th {\n",
       "        text-align: right;\n",
       "    }\n",
       "</style>\n",
       "<table border=\"1\" class=\"dataframe\">\n",
       "  <thead>\n",
       "    <tr style=\"text-align: right;\">\n",
       "      <th></th>\n",
       "      <th>Name</th>\n",
       "      <th>Score</th>\n",
       "    </tr>\n",
       "  </thead>\n",
       "  <tbody>\n",
       "    <tr>\n",
       "      <th>0</th>\n",
       "      <td>KNN</td>\n",
       "      <td>0.833333</td>\n",
       "    </tr>\n",
       "    <tr>\n",
       "      <th>1</th>\n",
       "      <td>LR</td>\n",
       "      <td>0.916667</td>\n",
       "    </tr>\n",
       "    <tr>\n",
       "      <th>2</th>\n",
       "      <td>SVC</td>\n",
       "      <td>0.958333</td>\n",
       "    </tr>\n",
       "    <tr>\n",
       "      <th>3</th>\n",
       "      <td>DT</td>\n",
       "      <td>0.750000</td>\n",
       "    </tr>\n",
       "    <tr>\n",
       "      <th>4</th>\n",
       "      <td>RF</td>\n",
       "      <td>0.875000</td>\n",
       "    </tr>\n",
       "  </tbody>\n",
       "</table>\n",
       "</div>"
      ],
      "text/plain": [
       "  Name     Score\n",
       "0  KNN  0.833333\n",
       "1   LR  0.916667\n",
       "2  SVC  0.958333\n",
       "3   DT  0.750000\n",
       "4   RF  0.875000"
      ]
     },
     "execution_count": 57,
     "metadata": {},
     "output_type": "execute_result"
    }
   ],
   "source": [
    "models = []\n",
    "from sklearn.neighbors import KNeighborsClassifier\n",
    "from sklearn.svm import SVC\n",
    "from sklearn.linear_model import LogisticRegression\n",
    "from sklearn.tree import DecisionTreeClassifier\n",
    "from sklearn.naive_bayes import GaussianNB\n",
    "from sklearn.ensemble import RandomForestClassifier\n",
    "from sklearn.ensemble import GradientBoostingClassifier\n",
    "models.append(('KNN', KNeighborsClassifier()))\n",
    "models.append(('LR', LogisticRegression()))\n",
    "models.append(('SVC', SVC()))\n",
    "models.append(('DT', DecisionTreeClassifier()))\n",
    "models.append(('RF', RandomForestClassifier()))\n",
    "\n",
    "names = []\n",
    "scores = []\n",
    "for name, model in models:\n",
    "    model.fit(x_train, y_train)\n",
    "    y_pred = model.predict(x_test)\n",
    "    scores.append(accuracy_score(y_test, y_pred))\n",
    "    names.append(name)\n",
    "tr_split = pd.DataFrame({'Name': names, 'Score': scores})\n",
    "tr_split"
   ]
  },
  {
   "cell_type": "code",
   "execution_count": 58,
   "metadata": {},
   "outputs": [
    {
     "data": {
      "image/png": "[encoded data removed]",
      "text/plain": [
       "<Figure size 432x288 with 1 Axes>"
      ]
     },
     "metadata": {
      "needs_background": "light"
     },
     "output_type": "display_data"
    }
   ],
   "source": [
    "import seaborn as sns\n",
    "axis = sns.barplot(x = 'Name', y = 'Score', data =tr_split )\n",
    "axis.set(xlabel='Classifier Models', ylabel='Accuracy of the Model')\n",
    "for p in axis.patches:\n",
    "    height = p.get_height()\n",
    "    axis.text(p.get_x() + p.get_width()/2, height + 0.01, '{:1.4f}'.format(height), ha=\"center\") \n",
    "    \n",
    "plt.show()"
   ]
  },
  {
   "cell_type": "code",
   "execution_count": 67,
   "metadata": {},
   "outputs": [
    {
     "data": {
      "text/plain": [
       "0.9166666666666666"
      ]
     },
     "execution_count": 67,
     "metadata": {},
     "output_type": "execute_result"
    }
   ],
   "source": [
    "tr_split['Score'].max() "
   ]
  },
  {
   "cell_type": "markdown",
   "metadata": {},
   "source": [
    "### So we can see and choose the best model for Prediction."
   ]
  },
  {
   "cell_type": "markdown",
   "metadata": {},
   "source": [
    "# End of the Code."
   ]
  },
  {
   "cell_type": "markdown",
   "metadata": {},
   "source": []
  },
  {
   "cell_type": "code",
   "execution_count": 69,
   "metadata": {},
   "outputs": [],
   "source": [
    "#import numpy as np\n",
    "#import pandas as pd # data processing, CSV file I/O (e.g. pd.read_csv)\n",
    "#data1 = pd.read_csv('saaty.csv')\n",
    "#print(data1)"
   ]
  },
  {
   "cell_type": "code",
   "execution_count": null,
   "metadata": {},
   "outputs": [],
   "source": []
  },
  {
   "cell_type": "code",
   "execution_count": null,
   "metadata": {},
   "outputs": [],
   "source": []
  },
  {
   "cell_type": "code",
   "execution_count": null,
   "metadata": {},
   "outputs": [],
   "source": []
  }
 ],
 "metadata": {
  "kernelspec": {
   "display_name": "Python 3",
   "language": "python",
   "name": "python3"
  },
  "language_info": {
   "codemirror_mode": {
    "name": "ipython",
    "version": 3
   },
   "file_extension": ".py",
   "mimetype": "text/x-python",
   "name": "python",
   "nbconvert_exporter": "python",
   "pygments_lexer": "ipython3",
   "version": "3.8.8"
  }
 },
 "nbformat": 4,
 "nbformat_minor": 2
}
